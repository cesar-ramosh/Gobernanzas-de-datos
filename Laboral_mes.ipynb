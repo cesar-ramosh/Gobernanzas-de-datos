{
  "nbformat": 4,
  "nbformat_minor": 0,
  "metadata": {
    "colab": {
      "provenance": [],
      "toc_visible": true,
      "include_colab_link": true
    },
    "kernelspec": {
      "name": "python3",
      "display_name": "Python 3"
    },
    "language_info": {
      "name": "python"
    }
  },
  "cells": [
    {
      "cell_type": "markdown",
      "metadata": {
        "id": "view-in-github",
        "colab_type": "text"
      },
      "source": [
        "<a href=\"https://colab.research.google.com/github/cesar-ramosh/Gobernanzas-de-datos/blob/main/Laboral_mes.ipynb\" target=\"_parent\"><img src=\"https://colab.research.google.com/assets/colab-badge.svg\" alt=\"Open In Colab\"/></a>"
      ]
    },
    {
      "cell_type": "markdown",
      "source": [
        "# <font color=\"red\">**ETL DATOS MENSUALES MERCADO LABORAL**</font>"
      ],
      "metadata": {
        "id": "EipfH6tsY7Sl"
      }
    },
    {
      "cell_type": "code",
      "execution_count": null,
      "metadata": {
        "colab": {
          "base_uri": "https://localhost:8080/"
        },
        "id": "R5BWxfDlUhcQ",
        "outputId": "2dc0dd8f-d9d9-42ad-cd0b-24b0df840e35"
      },
      "outputs": [
        {
          "output_type": "stream",
          "name": "stdout",
          "text": [
            "Drive already mounted at /content/drive; to attempt to forcibly remount, call drive.mount(\"/content/drive\", force_remount=True).\n"
          ]
        }
      ],
      "source": [
        "import numpy as np\n",
        "import pandas as pd\n",
        "import matplotlib.pyplot as plt\n",
        "import seaborn as sns\n",
        "import statsmodels.api as sm\n",
        "import plotly.graph_objects as go\n",
        "\n",
        "from google.colab import drive\n",
        "drive.mount('/content/drive')"
      ]
    },
    {
      "cell_type": "code",
      "source": [
        "#import locale\n",
        "# Configura la localización a español\n",
        "#locale.setlocale(locale.LC_TIME, 'es_ES.UTF-8')"
      ],
      "metadata": {
        "id": "lYxsrIOWCxjm"
      },
      "execution_count": null,
      "outputs": []
    },
    {
      "cell_type": "markdown",
      "source": [
        "El archivo fuente para los ETL es **\"raw_laboral_mes.xlsx\"**"
      ],
      "metadata": {
        "id": "5kSE7OSoZJjL"
      }
    },
    {
      "cell_type": "code",
      "source": [
        "raw = pd.read_excel('/content/drive/MyDrive/Sector Social/raw_laboral_mes.xlsx', usecols='E:HA').dropna(how='all').T\n",
        "# Set new column names\n",
        "new_column_names = raw.iloc[0]\n",
        "# Remove the first row\n",
        "raw = raw[1:]\n",
        "# Assign new column names\n",
        "raw.columns = new_column_names\n",
        "# Convert to numeric, coercing non-numeric values to NaN\n",
        "raw = raw.apply(pd.to_numeric, errors='coerce')\n",
        "\n",
        "\n",
        "dictionary = pd.read_excel('/content/drive/MyDrive/Sector Social/raw_laboral_mes.xlsx', usecols='A:E').dropna(how='all')"
      ],
      "metadata": {
        "colab": {
          "base_uri": "https://localhost:8080/"
        },
        "id": "l2jH8ukhVoSz",
        "outputId": "7cdec398-9b3a-4228-c3e0-c3c2fd1e6e79"
      },
      "execution_count": null,
      "outputs": [
        {
          "output_type": "stream",
          "name": "stderr",
          "text": [
            "<ipython-input-114-3097d8312232>:1: FutureWarning:\n",
            "\n",
            "Defining usecols with out of bounds indices is deprecated and will raise a ParserError in a future version.\n",
            "\n"
          ]
        }
      ]
    },
    {
      "cell_type": "code",
      "source": [
        "raw.info()"
      ],
      "metadata": {
        "colab": {
          "base_uri": "https://localhost:8080/"
        },
        "id": "dXOburtyWP2m",
        "outputId": "e1a11cea-2bac-43bb-f030-15c057f2c3f6"
      },
      "execution_count": null,
      "outputs": [
        {
          "output_type": "stream",
          "name": "stdout",
          "text": [
            "<class 'pandas.core.frame.DataFrame'>\n",
            "DatetimeIndex: 96 entries, 2015-10-01 to 2023-09-01\n",
            "Columns: 298 entries, urb_tot_tot to bol_otr_sub\n",
            "dtypes: float64(298)\n",
            "memory usage: 224.2 KB\n"
          ]
        }
      ]
    },
    {
      "cell_type": "code",
      "source": [
        "dictionary"
      ],
      "metadata": {
        "colab": {
          "base_uri": "https://localhost:8080/",
          "height": 424
        },
        "id": "uT9EThm9YOEV",
        "outputId": "f282d091-2326-46c9-d5c1-c0332c053508"
      },
      "execution_count": null,
      "outputs": [
        {
          "output_type": "execute_result",
          "data": {
            "text/plain": [
              "                               Grupo                Cuadro      Unidad  \\\n",
              "0    Condición de actividad - Urbana  Cuadro Nº 3.05.01.02    personas   \n",
              "1    Condición de actividad - Urbana  Cuadro Nº 3.05.01.02    personas   \n",
              "2    Condición de actividad - Urbana  Cuadro Nº 3.05.01.02    personas   \n",
              "3    Condición de actividad - Urbana  Cuadro Nº 3.05.01.02    personas   \n",
              "4    Condición de actividad - Urbana  Cuadro Nº 3.05.01.02    personas   \n",
              "..                               ...                   ...         ...   \n",
              "379                 No Eje - Bolivia  Cuadro Nº 3.05.04.03  porcentaje   \n",
              "381                 No Eje - Bolivia  Cuadro Nº 3.05.04.03  porcentaje   \n",
              "383                 No Eje - Bolivia  Cuadro Nº 3.05.04.03  porcentaje   \n",
              "385                 No Eje - Bolivia  Cuadro Nº 3.05.04.03  porcentaje   \n",
              "387                 No Eje - Bolivia  Cuadro Nº 3.05.04.03  porcentaje   \n",
              "\n",
              "                                       Detalle            index  \n",
              "0                                        TOTAL      urb_tot_tot  \n",
              "1      Población en Edad de No Trabajar (PENT)     urb_tot_pent  \n",
              "2          Población en Edad de Trabajar (PET)      urb_tot_pet  \n",
              "3        Población Económicamente Activa (PEA)      urb_tot_pea  \n",
              "4                                Ocupados (PO)       urb_tot_po  \n",
              "..                                         ...              ...  \n",
              "379     TASA GLOBAL DE PARTICIPACIÓN (PEA/PET)  bol_otr_pea_pet  \n",
              "381                 TASA DE OCUPACIÓN (PO/PET)   bol_otr_po_pet  \n",
              "383          TASA GLOBAL DE OCUPACIÓN (PO/PEA)   bol_otr_po_pea  \n",
              "385              TASA DE DESOCUPACIÓN (PD/PEA)   bol_otr_pd_pea  \n",
              "387                     TASA DE SUBOCUPACIÓN**      bol_otr_sub  \n",
              "\n",
              "[298 rows x 5 columns]"
            ],
            "text/html": [
              "\n",
              "  <div id=\"df-5506226f-af85-40cc-b90e-e78abe848b03\" class=\"colab-df-container\">\n",
              "    <div>\n",
              "<style scoped>\n",
              "    .dataframe tbody tr th:only-of-type {\n",
              "        vertical-align: middle;\n",
              "    }\n",
              "\n",
              "    .dataframe tbody tr th {\n",
              "        vertical-align: top;\n",
              "    }\n",
              "\n",
              "    .dataframe thead th {\n",
              "        text-align: right;\n",
              "    }\n",
              "</style>\n",
              "<table border=\"1\" class=\"dataframe\">\n",
              "  <thead>\n",
              "    <tr style=\"text-align: right;\">\n",
              "      <th></th>\n",
              "      <th>Grupo</th>\n",
              "      <th>Cuadro</th>\n",
              "      <th>Unidad</th>\n",
              "      <th>Detalle</th>\n",
              "      <th>index</th>\n",
              "    </tr>\n",
              "  </thead>\n",
              "  <tbody>\n",
              "    <tr>\n",
              "      <th>0</th>\n",
              "      <td>Condición de actividad - Urbana</td>\n",
              "      <td>Cuadro Nº 3.05.01.02</td>\n",
              "      <td>personas</td>\n",
              "      <td>TOTAL</td>\n",
              "      <td>urb_tot_tot</td>\n",
              "    </tr>\n",
              "    <tr>\n",
              "      <th>1</th>\n",
              "      <td>Condición de actividad - Urbana</td>\n",
              "      <td>Cuadro Nº 3.05.01.02</td>\n",
              "      <td>personas</td>\n",
              "      <td>Población en Edad de No Trabajar (PENT)</td>\n",
              "      <td>urb_tot_pent</td>\n",
              "    </tr>\n",
              "    <tr>\n",
              "      <th>2</th>\n",
              "      <td>Condición de actividad - Urbana</td>\n",
              "      <td>Cuadro Nº 3.05.01.02</td>\n",
              "      <td>personas</td>\n",
              "      <td>Población en Edad de Trabajar (PET)</td>\n",
              "      <td>urb_tot_pet</td>\n",
              "    </tr>\n",
              "    <tr>\n",
              "      <th>3</th>\n",
              "      <td>Condición de actividad - Urbana</td>\n",
              "      <td>Cuadro Nº 3.05.01.02</td>\n",
              "      <td>personas</td>\n",
              "      <td>Población Económicamente Activa (PEA)</td>\n",
              "      <td>urb_tot_pea</td>\n",
              "    </tr>\n",
              "    <tr>\n",
              "      <th>4</th>\n",
              "      <td>Condición de actividad - Urbana</td>\n",
              "      <td>Cuadro Nº 3.05.01.02</td>\n",
              "      <td>personas</td>\n",
              "      <td>Ocupados (PO)</td>\n",
              "      <td>urb_tot_po</td>\n",
              "    </tr>\n",
              "    <tr>\n",
              "      <th>...</th>\n",
              "      <td>...</td>\n",
              "      <td>...</td>\n",
              "      <td>...</td>\n",
              "      <td>...</td>\n",
              "      <td>...</td>\n",
              "    </tr>\n",
              "    <tr>\n",
              "      <th>379</th>\n",
              "      <td>No Eje - Bolivia</td>\n",
              "      <td>Cuadro Nº 3.05.04.03</td>\n",
              "      <td>porcentaje</td>\n",
              "      <td>TASA GLOBAL DE PARTICIPACIÓN (PEA/PET)</td>\n",
              "      <td>bol_otr_pea_pet</td>\n",
              "    </tr>\n",
              "    <tr>\n",
              "      <th>381</th>\n",
              "      <td>No Eje - Bolivia</td>\n",
              "      <td>Cuadro Nº 3.05.04.03</td>\n",
              "      <td>porcentaje</td>\n",
              "      <td>TASA DE OCUPACIÓN (PO/PET)</td>\n",
              "      <td>bol_otr_po_pet</td>\n",
              "    </tr>\n",
              "    <tr>\n",
              "      <th>383</th>\n",
              "      <td>No Eje - Bolivia</td>\n",
              "      <td>Cuadro Nº 3.05.04.03</td>\n",
              "      <td>porcentaje</td>\n",
              "      <td>TASA GLOBAL DE OCUPACIÓN (PO/PEA)</td>\n",
              "      <td>bol_otr_po_pea</td>\n",
              "    </tr>\n",
              "    <tr>\n",
              "      <th>385</th>\n",
              "      <td>No Eje - Bolivia</td>\n",
              "      <td>Cuadro Nº 3.05.04.03</td>\n",
              "      <td>porcentaje</td>\n",
              "      <td>TASA DE DESOCUPACIÓN (PD/PEA)</td>\n",
              "      <td>bol_otr_pd_pea</td>\n",
              "    </tr>\n",
              "    <tr>\n",
              "      <th>387</th>\n",
              "      <td>No Eje - Bolivia</td>\n",
              "      <td>Cuadro Nº 3.05.04.03</td>\n",
              "      <td>porcentaje</td>\n",
              "      <td>TASA DE SUBOCUPACIÓN**</td>\n",
              "      <td>bol_otr_sub</td>\n",
              "    </tr>\n",
              "  </tbody>\n",
              "</table>\n",
              "<p>298 rows × 5 columns</p>\n",
              "</div>\n",
              "    <div class=\"colab-df-buttons\">\n",
              "\n",
              "  <div class=\"colab-df-container\">\n",
              "    <button class=\"colab-df-convert\" onclick=\"convertToInteractive('df-5506226f-af85-40cc-b90e-e78abe848b03')\"\n",
              "            title=\"Convert this dataframe to an interactive table.\"\n",
              "            style=\"display:none;\">\n",
              "\n",
              "  <svg xmlns=\"http://www.w3.org/2000/svg\" height=\"24px\" viewBox=\"0 -960 960 960\">\n",
              "    <path d=\"M120-120v-720h720v720H120Zm60-500h600v-160H180v160Zm220 220h160v-160H400v160Zm0 220h160v-160H400v160ZM180-400h160v-160H180v160Zm440 0h160v-160H620v160ZM180-180h160v-160H180v160Zm440 0h160v-160H620v160Z\"/>\n",
              "  </svg>\n",
              "    </button>\n",
              "\n",
              "  <style>\n",
              "    .colab-df-container {\n",
              "      display:flex;\n",
              "      gap: 12px;\n",
              "    }\n",
              "\n",
              "    .colab-df-convert {\n",
              "      background-color: #E8F0FE;\n",
              "      border: none;\n",
              "      border-radius: 50%;\n",
              "      cursor: pointer;\n",
              "      display: none;\n",
              "      fill: #1967D2;\n",
              "      height: 32px;\n",
              "      padding: 0 0 0 0;\n",
              "      width: 32px;\n",
              "    }\n",
              "\n",
              "    .colab-df-convert:hover {\n",
              "      background-color: #E2EBFA;\n",
              "      box-shadow: 0px 1px 2px rgba(60, 64, 67, 0.3), 0px 1px 3px 1px rgba(60, 64, 67, 0.15);\n",
              "      fill: #174EA6;\n",
              "    }\n",
              "\n",
              "    .colab-df-buttons div {\n",
              "      margin-bottom: 4px;\n",
              "    }\n",
              "\n",
              "    [theme=dark] .colab-df-convert {\n",
              "      background-color: #3B4455;\n",
              "      fill: #D2E3FC;\n",
              "    }\n",
              "\n",
              "    [theme=dark] .colab-df-convert:hover {\n",
              "      background-color: #434B5C;\n",
              "      box-shadow: 0px 1px 3px 1px rgba(0, 0, 0, 0.15);\n",
              "      filter: drop-shadow(0px 1px 2px rgba(0, 0, 0, 0.3));\n",
              "      fill: #FFFFFF;\n",
              "    }\n",
              "  </style>\n",
              "\n",
              "    <script>\n",
              "      const buttonEl =\n",
              "        document.querySelector('#df-5506226f-af85-40cc-b90e-e78abe848b03 button.colab-df-convert');\n",
              "      buttonEl.style.display =\n",
              "        google.colab.kernel.accessAllowed ? 'block' : 'none';\n",
              "\n",
              "      async function convertToInteractive(key) {\n",
              "        const element = document.querySelector('#df-5506226f-af85-40cc-b90e-e78abe848b03');\n",
              "        const dataTable =\n",
              "          await google.colab.kernel.invokeFunction('convertToInteractive',\n",
              "                                                    [key], {});\n",
              "        if (!dataTable) return;\n",
              "\n",
              "        const docLinkHtml = 'Like what you see? Visit the ' +\n",
              "          '<a target=\"_blank\" href=https://colab.research.google.com/notebooks/data_table.ipynb>data table notebook</a>'\n",
              "          + ' to learn more about interactive tables.';\n",
              "        element.innerHTML = '';\n",
              "        dataTable['output_type'] = 'display_data';\n",
              "        await google.colab.output.renderOutput(dataTable, element);\n",
              "        const docLink = document.createElement('div');\n",
              "        docLink.innerHTML = docLinkHtml;\n",
              "        element.appendChild(docLink);\n",
              "      }\n",
              "    </script>\n",
              "  </div>\n",
              "\n",
              "\n",
              "<div id=\"df-f2d7e15c-fa98-4a9b-aac1-ba4ecc595152\">\n",
              "  <button class=\"colab-df-quickchart\" onclick=\"quickchart('df-f2d7e15c-fa98-4a9b-aac1-ba4ecc595152')\"\n",
              "            title=\"Suggest charts\"\n",
              "            style=\"display:none;\">\n",
              "\n",
              "<svg xmlns=\"http://www.w3.org/2000/svg\" height=\"24px\"viewBox=\"0 0 24 24\"\n",
              "     width=\"24px\">\n",
              "    <g>\n",
              "        <path d=\"M19 3H5c-1.1 0-2 .9-2 2v14c0 1.1.9 2 2 2h14c1.1 0 2-.9 2-2V5c0-1.1-.9-2-2-2zM9 17H7v-7h2v7zm4 0h-2V7h2v10zm4 0h-2v-4h2v4z\"/>\n",
              "    </g>\n",
              "</svg>\n",
              "  </button>\n",
              "\n",
              "<style>\n",
              "  .colab-df-quickchart {\n",
              "      --bg-color: #E8F0FE;\n",
              "      --fill-color: #1967D2;\n",
              "      --hover-bg-color: #E2EBFA;\n",
              "      --hover-fill-color: #174EA6;\n",
              "      --disabled-fill-color: #AAA;\n",
              "      --disabled-bg-color: #DDD;\n",
              "  }\n",
              "\n",
              "  [theme=dark] .colab-df-quickchart {\n",
              "      --bg-color: #3B4455;\n",
              "      --fill-color: #D2E3FC;\n",
              "      --hover-bg-color: #434B5C;\n",
              "      --hover-fill-color: #FFFFFF;\n",
              "      --disabled-bg-color: #3B4455;\n",
              "      --disabled-fill-color: #666;\n",
              "  }\n",
              "\n",
              "  .colab-df-quickchart {\n",
              "    background-color: var(--bg-color);\n",
              "    border: none;\n",
              "    border-radius: 50%;\n",
              "    cursor: pointer;\n",
              "    display: none;\n",
              "    fill: var(--fill-color);\n",
              "    height: 32px;\n",
              "    padding: 0;\n",
              "    width: 32px;\n",
              "  }\n",
              "\n",
              "  .colab-df-quickchart:hover {\n",
              "    background-color: var(--hover-bg-color);\n",
              "    box-shadow: 0 1px 2px rgba(60, 64, 67, 0.3), 0 1px 3px 1px rgba(60, 64, 67, 0.15);\n",
              "    fill: var(--button-hover-fill-color);\n",
              "  }\n",
              "\n",
              "  .colab-df-quickchart-complete:disabled,\n",
              "  .colab-df-quickchart-complete:disabled:hover {\n",
              "    background-color: var(--disabled-bg-color);\n",
              "    fill: var(--disabled-fill-color);\n",
              "    box-shadow: none;\n",
              "  }\n",
              "\n",
              "  .colab-df-spinner {\n",
              "    border: 2px solid var(--fill-color);\n",
              "    border-color: transparent;\n",
              "    border-bottom-color: var(--fill-color);\n",
              "    animation:\n",
              "      spin 1s steps(1) infinite;\n",
              "  }\n",
              "\n",
              "  @keyframes spin {\n",
              "    0% {\n",
              "      border-color: transparent;\n",
              "      border-bottom-color: var(--fill-color);\n",
              "      border-left-color: var(--fill-color);\n",
              "    }\n",
              "    20% {\n",
              "      border-color: transparent;\n",
              "      border-left-color: var(--fill-color);\n",
              "      border-top-color: var(--fill-color);\n",
              "    }\n",
              "    30% {\n",
              "      border-color: transparent;\n",
              "      border-left-color: var(--fill-color);\n",
              "      border-top-color: var(--fill-color);\n",
              "      border-right-color: var(--fill-color);\n",
              "    }\n",
              "    40% {\n",
              "      border-color: transparent;\n",
              "      border-right-color: var(--fill-color);\n",
              "      border-top-color: var(--fill-color);\n",
              "    }\n",
              "    60% {\n",
              "      border-color: transparent;\n",
              "      border-right-color: var(--fill-color);\n",
              "    }\n",
              "    80% {\n",
              "      border-color: transparent;\n",
              "      border-right-color: var(--fill-color);\n",
              "      border-bottom-color: var(--fill-color);\n",
              "    }\n",
              "    90% {\n",
              "      border-color: transparent;\n",
              "      border-bottom-color: var(--fill-color);\n",
              "    }\n",
              "  }\n",
              "</style>\n",
              "\n",
              "  <script>\n",
              "    async function quickchart(key) {\n",
              "      const quickchartButtonEl =\n",
              "        document.querySelector('#' + key + ' button');\n",
              "      quickchartButtonEl.disabled = true;  // To prevent multiple clicks.\n",
              "      quickchartButtonEl.classList.add('colab-df-spinner');\n",
              "      try {\n",
              "        const charts = await google.colab.kernel.invokeFunction(\n",
              "            'suggestCharts', [key], {});\n",
              "      } catch (error) {\n",
              "        console.error('Error during call to suggestCharts:', error);\n",
              "      }\n",
              "      quickchartButtonEl.classList.remove('colab-df-spinner');\n",
              "      quickchartButtonEl.classList.add('colab-df-quickchart-complete');\n",
              "    }\n",
              "    (() => {\n",
              "      let quickchartButtonEl =\n",
              "        document.querySelector('#df-f2d7e15c-fa98-4a9b-aac1-ba4ecc595152 button');\n",
              "      quickchartButtonEl.style.display =\n",
              "        google.colab.kernel.accessAllowed ? 'block' : 'none';\n",
              "    })();\n",
              "  </script>\n",
              "</div>\n",
              "\n",
              "  <div id=\"id_fdb433d5-fef9-4e9f-abc1-cd02d9f295fb\">\n",
              "    <style>\n",
              "      .colab-df-generate {\n",
              "        background-color: #E8F0FE;\n",
              "        border: none;\n",
              "        border-radius: 50%;\n",
              "        cursor: pointer;\n",
              "        display: none;\n",
              "        fill: #1967D2;\n",
              "        height: 32px;\n",
              "        padding: 0 0 0 0;\n",
              "        width: 32px;\n",
              "      }\n",
              "\n",
              "      .colab-df-generate:hover {\n",
              "        background-color: #E2EBFA;\n",
              "        box-shadow: 0px 1px 2px rgba(60, 64, 67, 0.3), 0px 1px 3px 1px rgba(60, 64, 67, 0.15);\n",
              "        fill: #174EA6;\n",
              "      }\n",
              "\n",
              "      [theme=dark] .colab-df-generate {\n",
              "        background-color: #3B4455;\n",
              "        fill: #D2E3FC;\n",
              "      }\n",
              "\n",
              "      [theme=dark] .colab-df-generate:hover {\n",
              "        background-color: #434B5C;\n",
              "        box-shadow: 0px 1px 3px 1px rgba(0, 0, 0, 0.15);\n",
              "        filter: drop-shadow(0px 1px 2px rgba(0, 0, 0, 0.3));\n",
              "        fill: #FFFFFF;\n",
              "      }\n",
              "    </style>\n",
              "    <button class=\"colab-df-generate\" onclick=\"generateWithVariable('dictionary')\"\n",
              "            title=\"Generate code using this dataframe.\"\n",
              "            style=\"display:none;\">\n",
              "\n",
              "  <svg xmlns=\"http://www.w3.org/2000/svg\" height=\"24px\"viewBox=\"0 0 24 24\"\n",
              "       width=\"24px\">\n",
              "    <path d=\"M7,19H8.4L18.45,9,17,7.55,7,17.6ZM5,21V16.75L18.45,3.32a2,2,0,0,1,2.83,0l1.4,1.43a1.91,1.91,0,0,1,.58,1.4,1.91,1.91,0,0,1-.58,1.4L9.25,21ZM18.45,9,17,7.55Zm-12,3A5.31,5.31,0,0,0,4.9,8.1,5.31,5.31,0,0,0,1,6.5,5.31,5.31,0,0,0,4.9,4.9,5.31,5.31,0,0,0,6.5,1,5.31,5.31,0,0,0,8.1,4.9,5.31,5.31,0,0,0,12,6.5,5.46,5.46,0,0,0,6.5,12Z\"/>\n",
              "  </svg>\n",
              "    </button>\n",
              "    <script>\n",
              "      (() => {\n",
              "      const buttonEl =\n",
              "        document.querySelector('#id_fdb433d5-fef9-4e9f-abc1-cd02d9f295fb button.colab-df-generate');\n",
              "      buttonEl.style.display =\n",
              "        google.colab.kernel.accessAllowed ? 'block' : 'none';\n",
              "\n",
              "      buttonEl.onclick = () => {\n",
              "        google.colab.notebook.generateWithVariable('dictionary');\n",
              "      }\n",
              "      })();\n",
              "    </script>\n",
              "  </div>\n",
              "\n",
              "    </div>\n",
              "  </div>\n"
            ]
          },
          "metadata": {},
          "execution_count": 116
        }
      ]
    },
    {
      "cell_type": "markdown",
      "source": [
        "#### Definición de funciones"
      ],
      "metadata": {
        "id": "Z2bFxpUNLGaZ"
      }
    },
    {
      "cell_type": "code",
      "source": [
        "def calcular_variaciones(dataframe):\n",
        "    # Calcula las variaciones porcentuales mensuales\n",
        "    crec_mensual = dataframe.pct_change() * 100\n",
        "    # Calcula las variaciones porcentuales interanuales (12 meses)\n",
        "    crec_interanual = dataframe.pct_change(periods=12) * 100\n",
        "    # Calcula la variación mensual (resta simple)\n",
        "    dif_mensual = dataframe.diff()\n",
        "    # Calcula la variación interanual (resta simple con desplazamiento de 12 meses)\n",
        "    dif_interanual = dataframe.diff(12)\n",
        "    # Elimina las filas con valores NaN resultantes de las operaciones de desplazamiento\n",
        "    crec_mensual = crec_mensual.dropna()\n",
        "    crec_interanual = crec_interanual.dropna()\n",
        "    dif_mensual = dif_mensual.dropna()\n",
        "    dif_interanual = dif_interanual.dropna()\n",
        "\n",
        "    return crec_mensual, crec_interanual, dif_mensual, dif_interanual\n"
      ],
      "metadata": {
        "id": "SZUwbshEJXCP"
      },
      "execution_count": null,
      "outputs": []
    },
    {
      "cell_type": "code",
      "source": [
        "def acumulado_mean(dataframe):\n",
        "    # Calcula los valores (promedio) acumulados en niveles\n",
        "    acum = dataframe.groupby(dataframe.index.year).expanding().mean().reset_index()\n",
        "    acum = acum.set_index('level_1').iloc[:, 1:]\n",
        "    acum.index.name = None\n",
        "    # Generar crecimientos interanuales\n",
        "    g12_acum = acum.pct_change(12) * 100\n",
        "    # Generar diferencias interanuales\n",
        "    d12_acum = acum.diff(12)\n",
        "\n",
        "    return acum, g12_acum, d12_acum"
      ],
      "metadata": {
        "id": "lb_HetCndNRh"
      },
      "execution_count": null,
      "outputs": []
    },
    {
      "cell_type": "markdown",
      "source": [
        "$$\n",
        "\\text{Incidencia en el crecimiento interanual} =\\frac{ x_{i,t}-x_{i,t-12} }{X_{t-12}}\n",
        "$$\n",
        "\n",
        "$$\n",
        "\\text{Incidencia en el crecimiento mensual} =\\frac{ x_{i,t}-x_{i,t-1} }{X_{t-1}}\n",
        "$$"
      ],
      "metadata": {
        "id": "ZyoCvAVZgtdL"
      }
    },
    {
      "cell_type": "code",
      "source": [
        "def incidencias(dataframe):\n",
        "    # Inicializar DataFrames para incidencia g12 y g1\n",
        "    incidencia_g12 = pd.DataFrame()\n",
        "    incidencia_g1 = pd.DataFrame()\n",
        "    var_tot = dataframe.columns[0]\n",
        "    # Calcular la incidencia g12 y g1 para cada columna del DataFrame\n",
        "    for column in dataframe.columns:\n",
        "        # Incidencia g12 (crecimiento interanual)\n",
        "        incidencia_g12[column] = ((dataframe[column] - dataframe[column].shift(12)) / dataframe[var_tot].shift(12)) * 100\n",
        "        # Incidencia g1 (crecimiento mensual)\n",
        "        incidencia_g1[column] = ((dataframe[column] - dataframe[column].shift(1)) / dataframe[var_tot].shift(1)) * 100\n",
        "\n",
        "    return incidencia_g12, incidencia_g1"
      ],
      "metadata": {
        "id": "09sJrQhCmAdj"
      },
      "execution_count": null,
      "outputs": []
    },
    {
      "cell_type": "markdown",
      "source": [
        "Nomenclatura para la generación de bases de datos:\n",
        "\n",
        "*   **g1:** Variación porcentual mensual\n",
        "*   **g12:** Variación porcentual interanual\n",
        "*   **d1:** Variación mensual\n",
        "*   **d12:** Variación interanual\n",
        "*   **cumean:** Niveles acumulados promedio\n",
        "*   **gcumean:** Variación porcentual interanual acumulados promedio\n",
        "*   **dcumean:** Variación interanual acumulados promedio\n",
        "*   **inc12:** Incidencia en el crecimiento interanual\n",
        "*   **inc1:** Incidencia en el crecimiento mensual\n",
        "\n"
      ],
      "metadata": {
        "id": "j6BHXjy-uRJT"
      }
    },
    {
      "cell_type": "markdown",
      "source": [
        "## <font color=\"red\">**df1: Población ocupada urbana según actividad económica y principales indicadores**</font>"
      ],
      "metadata": {
        "id": "lRWxBkZoBKVq"
      }
    },
    {
      "cell_type": "code",
      "source": [
        "df1 = pd.DataFrame(\n",
        "    {\"Población en edad de trabajar\": raw['urb_tot_pet'],\n",
        "     \"Población económicamente activa\": raw['urb_tot_pea'],\n",
        "     \"Población económicamente inactiva\": raw['urb_tot_pei'],\n",
        "     \"Población ocupada\": raw['urb_act'],\n",
        "     \"Agricultura, Ganadería, Caza, Pesca y Silvicultura\": round(raw['urb_act'] * (raw['urb_act1']/100), ndigits=0),\n",
        "     \"Industria Manufacturera\": round(raw['urb_act'] * (raw['urb_act2']/100), ndigits=0),\n",
        "     \"Construcción\": round(raw['urb_act'] * (raw['urb_act3']/100), ndigits=0),\n",
        "     \"Venta por mayor y menor y reparación de automotores\": round(raw['urb_act'] * (raw['urb_act4']/100), ndigits=0),\n",
        "     \"Transporte y almacenamiento\": round(raw['urb_act'] * (raw['urb_act5']/100), ndigits=0),\n",
        "     \"Actividades de alojamiento y servicio de comidas\": round(raw['urb_act'] * (raw['urb_act6']/100), ndigits=0),\n",
        "     \"Informaciones y comunicaciones\": round(raw['urb_act'] * (raw['urb_act7']/100), ndigits=0),\n",
        "     \"Intermediación financiera y seguros\": round(raw['urb_act'] * (raw['urb_act8']/100), ndigits=0),\n",
        "     \"Servicios profesionales y técnicos\": round(raw['urb_act'] * (raw['urb_act9']/100), ndigits=0),\n",
        "     \"Actividades de servicios administrativos y de apoyo\": round(raw['urb_act'] * (raw['urb_act10']/100), ndigits=0),\n",
        "     \"Adm. pública, defensa y seguridad social\": round(raw['urb_act'] * (raw['urb_act11']/100), ndigits=0),\n",
        "     \"Servicios de educación\": round(raw['urb_act'] * (raw['urb_act12']/100), ndigits=0),\n",
        "     \"Servicios de salud y asistencia social\": round(raw['urb_act'] * (raw['urb_act13']/100), ndigits=0),\n",
        "     \"Actividades artísticas, entretenimiento y recreativas\": round(raw['urb_act'] * (raw['urb_act14']/100), ndigits=0),\n",
        "     \"Otras actividades de servicios (1)\": round(raw['urb_act'] * (raw['urb_act15']/100), ndigits=0),\n",
        "     \"Actividades de hogares privados\": round(raw['urb_act'] * (raw['urb_act16']/100), ndigits=0),\n",
        "     \"Otras actividades(2)\": round(raw['urb_act'] * (raw['urb_act17']/100), ndigits=0),\n",
        "     \"Población desocupada\": raw['urb_tot_pd']\n",
        "    }, index=raw.index)\n",
        "\n",
        "# Convertir las unidade a \"miles de personas\"\n",
        "df1 = df1 / 1000"
      ],
      "metadata": {
        "id": "W7qI_g6vBZaV"
      },
      "execution_count": null,
      "outputs": []
    },
    {
      "cell_type": "code",
      "source": [
        "g1_df1, g12_df1, d1_df1, d12_df1 = calcular_variaciones(df1)\n",
        "cumean_df1, gcumean_df1, dcumean_df1 = acumulado_mean(df1)"
      ],
      "metadata": {
        "id": "kyGGPKViFJXP"
      },
      "execution_count": null,
      "outputs": []
    },
    {
      "cell_type": "markdown",
      "source": [
        "## <font color=\"red\">**df1_B: Ranking incidencias por actividad eco.**</font>"
      ],
      "metadata": {
        "id": "3Mkai_o2vuGi"
      }
    },
    {
      "cell_type": "code",
      "source": [
        "df1_B = df1.copy().loc[:, \"Población ocupada\":\"Otras actividades(2)\"]\n",
        "inc12_df1_B, inc1_df1_B = incidencias(df1_B)"
      ],
      "metadata": {
        "id": "3R36R1VxivYc"
      },
      "execution_count": null,
      "outputs": []
    },
    {
      "cell_type": "code",
      "source": [
        "aux1 = inc12_df1_B.copy().T.iloc[:, -1].sort_values(ascending=False)\n",
        "aux1.name = \"Incidencia\"\n",
        "aux1"
      ],
      "metadata": {
        "colab": {
          "base_uri": "https://localhost:8080/"
        },
        "id": "7-p11gVfma1T",
        "outputId": "29814847-1a5c-45d2-bb96-1f76d5a8ffb2"
      },
      "execution_count": null,
      "outputs": [
        {
          "output_type": "execute_result",
          "data": {
            "text/plain": [
              "Población ocupada                                        2.095265\n",
              "Industria Manufacturera                                  0.613886\n",
              "Servicios de salud y asistencia social                   0.457623\n",
              "Actividades de servicios administrativos y de apoyo      0.424282\n",
              "Agricultura, Ganadería, Caza, Pesca y Silvicultura       0.390239\n",
              "Actividades artísticas, entretenimiento y recreativas    0.307067\n",
              "Actividades de hogares privados                          0.299321\n",
              "Venta por mayor y menor y reparación de automotores      0.249129\n",
              "Transporte y almacenamiento                              0.231303\n",
              "Otras actividades(2)                                     0.166818\n",
              "Intermediación financiera y seguros                      0.041155\n",
              "Servicios de educación                                   0.025119\n",
              "Informaciones y comunicaciones                           0.009649\n",
              "Otras actividades de servicios (1)                      -0.040544\n",
              "Construcción                                            -0.067135\n",
              "Servicios profesionales y técnicos                      -0.265505\n",
              "Actividades de alojamiento y servicio de comidas        -0.281201\n",
              "Adm. pública, defensa y seguridad social                -0.465981\n",
              "Name: Incidencia, dtype: float64"
            ]
          },
          "metadata": {},
          "execution_count": 123
        }
      ]
    },
    {
      "cell_type": "markdown",
      "source": [
        "## <font color=\"red\">**df1_C: Tasa de desocupación**</font>"
      ],
      "metadata": {
        "id": "jyv039gaLqdw"
      }
    },
    {
      "cell_type": "code",
      "source": [
        "df1_C = pd.DataFrame(\n",
        "    {\"Tasa Desocupación urbana - Total\": raw[\"urb_pd_pea\"],\n",
        "     \"Tasa Desocupación urbana - Hombres\": raw[\"urb_pd_pea_h\"],\n",
        "     \"Tasa Desocupación urbana - Mujeres\": raw[\"urb_pd_pea_m\"],\n",
        "     \"Desempleo abierto urbano - Total\": raw[\"urb_tot_pd\"],\n",
        "     \"Desempleo abierto urbano - Hombres\": raw[\"urb_hom_pd\"],\n",
        "     \"Desempleo abierto urbano - Mujeres\": raw[\"urb_muj_pd\"],\n",
        "     \"Tasa Desocupación urbana Desestacionalizada - Total\": raw[\"u_sa\"],\n",
        "     \"Tasa Desocupación urbana Desestacionalizada - Hombres\": raw[\"u_sa_h\"],\n",
        "     \"Tasa Desocupación urbana Desestacionalizada - Mujeres\": raw[\"u_sa_m\"]},\n",
        "    index=raw.index)\n",
        "\n",
        "df1_C['brecha'] = raw[\"urb_pd_pea_m\"] - raw[\"urb_pd_pea_h\"]"
      ],
      "metadata": {
        "id": "m5bLFLiBLq6O"
      },
      "execution_count": null,
      "outputs": []
    },
    {
      "cell_type": "markdown",
      "source": [
        "## <font color=\"red\">**df1_D: Tasa de Subocupación**</font>"
      ],
      "metadata": {
        "id": "JMAHHUQm57Cv"
      }
    },
    {
      "cell_type": "code",
      "source": [
        "df1_D = pd.DataFrame(\n",
        "    {\"Tasa de Subocupación - Total\": raw[\"urb_sub\"],\n",
        "     \"Tasa de Subocupación - Hombres\": raw[\"urb_sub_h\"],\n",
        "     \"Tasa de Subocupación - Mujeres\": raw[\"urb_sub_m\"],\n",
        "     \"Tasa de Actividad - Total\": raw[\"urb_pea_pet\"],\n",
        "     \"Tasa de Actividad - Hombres\": raw[\"urb_pea_pet_h\"],\n",
        "     \"Tasa de Actividad - Mujeres\": raw[\"urb_pea_pet_m\"] },\n",
        "    index=raw.index)\n"
      ],
      "metadata": {
        "id": "KO1FVvU356hn"
      },
      "execution_count": null,
      "outputs": []
    },
    {
      "cell_type": "markdown",
      "source": [
        "## <font color=\"red\">**Exportar resultados**</font>"
      ],
      "metadata": {
        "id": "BNfSD3G6AvPl"
      }
    },
    {
      "cell_type": "code",
      "source": [
        "for df in [df1, g1_df1, g12_df1, d1_df1, d12_df1, cumean_df1, gcumean_df1, dcumean_df1,\n",
        "           df1_B, inc12_df1_B, inc1_df1_B,\n",
        "           df1_C,\n",
        "           df1_D]:\n",
        "  df.index = df.index.strftime('%b-%y')\n"
      ],
      "metadata": {
        "id": "wFzqza4W4LyV"
      },
      "execution_count": null,
      "outputs": []
    },
    {
      "cell_type": "code",
      "source": [
        "sheet1 = pd.DataFrame(\n",
        "    {\"Base de datos\": [\"urb_po_act\",\n",
        "                       \"g1_urb_po_act\",\n",
        "                       \"g12_urb_po_act\",\n",
        "                       \"d1_urb_po_act\",\n",
        "                       \"d12_urb_po_act\",\n",
        "                       \"cumean_df1\",\n",
        "                       \"gcumean_df1\",\n",
        "                       \"dcumean_df1\",\n",
        "                       \"inc1_df1_B\",\n",
        "                       \"inc12_df1_B\",\n",
        "                       \"jerarquía\",\n",
        "                       \"desocupación\",\n",
        "                       \"subocupación\"],\n",
        "     \"Descripción\": [\"(Miles de personas) Población ocupada urbana según actividad económica\",\n",
        "                     \"(Crec. mensual) Población ocupada urbana según actividad económica\",\n",
        "                     \"(Crec. interanual) Población ocupada urbana según actividad económica\",\n",
        "                     \"(Dif. mensual) Población ocupada urbana según actividad económica\",\n",
        "                     \"(Dif. interanual) Población ocupada urbana según actividad económica\",\n",
        "                     \"(Acum. promedio) Población ocupada urbana según actividad económica\",\n",
        "                     \"(Crec. interanual Acum. promedio) Población ocupada urbana según actividad económica\",\n",
        "                     \"(Dif. interanual Acum. promedio) Población ocupada urbana según actividad económica\",\n",
        "                     \"(Incidencia Crec. mensual) Población ocupada 17 actividades eco.\",\n",
        "                     \"(Incidencia Crec. interanual) Población ocupada 17 actividades eco.\",\n",
        "                     \"(Jerarquía por incidencia interanual) Población ocupada 17 actividades eco.\",\n",
        "                     \"Tasa de desocupación\",\n",
        "                     \"Tasas de Subocupación y Actividad\"]})\n"
      ],
      "metadata": {
        "id": "ruIcdR1pxD2J"
      },
      "execution_count": null,
      "outputs": []
    },
    {
      "cell_type": "code",
      "source": [
        "ruta_archivo = '/content/drive/MyDrive/Sector Social/RES_mensual.xlsx'\n",
        "sheet1.to_excel(ruta_archivo, sheet_name=\"index\", index=False)  # El argumento index=False evita que se guarde el índice en el archivo Excel.\n",
        "# Carga el archivo Excel existente.\n",
        "with pd.ExcelWriter(ruta_archivo, mode='a', engine='openpyxl') as writer:\n",
        "    df1.T.to_excel(writer, sheet_name=\"urb_po_act\", index=True)\n",
        "with pd.ExcelWriter(ruta_archivo, mode='a', engine='openpyxl') as writer:\n",
        "    g1_df1.T.to_excel(writer, sheet_name=\"g1_urb_po_act\", index=True)\n",
        "with pd.ExcelWriter(ruta_archivo, mode='a', engine='openpyxl') as writer:\n",
        "    g12_df1.T.to_excel(writer, sheet_name=\"g12_urb_po_act\", index=True)\n",
        "with pd.ExcelWriter(ruta_archivo, mode='a', engine='openpyxl') as writer:\n",
        "    d12_df1.T.to_excel(writer, sheet_name=\"d12_urb_po_act\", index=True)\n",
        "with pd.ExcelWriter(ruta_archivo, mode='a', engine='openpyxl') as writer:\n",
        "    cumean_df1.T.to_excel(writer, sheet_name=\"cumean_urb_po_act\", index=True)\n",
        "with pd.ExcelWriter(ruta_archivo, mode='a', engine='openpyxl') as writer:\n",
        "    gcumean_df1.T.to_excel(writer, sheet_name=\"gcumean_urb_po_act\", index=True)\n",
        "with pd.ExcelWriter(ruta_archivo, mode='a', engine='openpyxl') as writer:\n",
        "    dcumean_df1.T.to_excel(writer, sheet_name=\"dcumean_urb_po_act\", index=True)\n",
        "with pd.ExcelWriter(ruta_archivo, mode='a', engine='openpyxl') as writer:\n",
        "    inc1_df1_B.T.to_excel(writer, sheet_name=\"inc1_urb_po_act\", index=True)\n",
        "with pd.ExcelWriter(ruta_archivo, mode='a', engine='openpyxl') as writer:\n",
        "    inc12_df1_B.T.to_excel(writer, sheet_name=\"inc12_urb_po_act\", index=True)\n",
        "with pd.ExcelWriter(ruta_archivo, mode='a', engine='openpyxl') as writer:\n",
        "    aux1.to_excel(writer, sheet_name=\"jerarquia\", index=True)\n",
        "with pd.ExcelWriter(ruta_archivo, mode='a', engine='openpyxl') as writer:\n",
        "    df1_C.T.to_excel(writer, sheet_name=\"desocupación\", index=True)\n",
        "with pd.ExcelWriter(ruta_archivo, mode='a', engine='openpyxl') as writer:\n",
        "    df1_D.T.to_excel(writer, sheet_name=\"subocupación\", index=True)"
      ],
      "metadata": {
        "id": "GWpb-Z_UwkXa"
      },
      "execution_count": null,
      "outputs": []
    },
    {
      "cell_type": "markdown",
      "source": [
        "## <font color=\"red\">**Gráficos**</font>"
      ],
      "metadata": {
        "id": "y0dV_4U0Vvfr"
      }
    },
    {
      "cell_type": "code",
      "source": [
        "x = df1_C.loc['Jan-18':, :].index\n",
        "y1 = round(df1.loc['Jan-18':, \"Población ocupada\"], ndigits=0)\n",
        "fig1 = go.Figure()\n",
        "# Agrega una líneas para las variables\n",
        "fig1.add_trace(go.Scatter(x=x, y=y1, mode='lines+markers', name=\"Observado\", line=dict(color='#5B9BD5', width=2)))\n",
        "# Set layout\n",
        "fig1.update_layout(font_family = 'Arial', font_color=\"#000000\", plot_bgcolor='white', separators=',',\n",
        "                  title_text='Población ocupada',\n",
        "                  title_font = dict(color='#000000', size=30),\n",
        "                  xaxis=dict(title='Mes', titlefont_size=20, tickfont_size=15),\n",
        "                  yaxis=dict(title='En miles de personas', titlefont_size=20, tickfont_size=18, linecolor=\"#000000\", ticks='outside', nticks=10, zeroline=True, zerolinewidth=1.5, zerolinecolor='#d62f15'),\n",
        "                  hoverlabel=dict(font_size=15,font_family=\"Arial\"),\n",
        "                  hovermode=\"x\"\n",
        "                  )\n",
        "fig1.show()"
      ],
      "metadata": {
        "colab": {
          "base_uri": "https://localhost:8080/",
          "height": 542
        },
        "id": "RnRl9rtyvsO0",
        "outputId": "c8c4625d-1d28-476c-a1a8-f03b67ab281c"
      },
      "execution_count": null,
      "outputs": [
        {
          "output_type": "display_data",
          "data": {
            "text/html": [
              "<html>\n",
              "<head><meta charset=\"utf-8\" /></head>\n",
              "<body>\n",
              "    <div>            <script src=\"https://cdnjs.cloudflare.com/ajax/libs/mathjax/2.7.5/MathJax.js?config=TeX-AMS-MML_SVG\"></script><script type=\"text/javascript\">if (window.MathJax && window.MathJax.Hub && window.MathJax.Hub.Config) {window.MathJax.Hub.Config({SVG: {font: \"STIX-Web\"}});}</script>                <script type=\"text/javascript\">window.PlotlyConfig = {MathJaxConfig: 'local'};</script>\n",
              "        <script charset=\"utf-8\" src=\"https://cdn.plot.ly/plotly-2.24.1.min.js\"></script>                <div id=\"73a9b909-f951-43da-9450-2634b51b972e\" class=\"plotly-graph-div\" style=\"height:525px; width:100%;\"></div>            <script type=\"text/javascript\">                                    window.PLOTLYENV=window.PLOTLYENV || {};                                    if (document.getElementById(\"73a9b909-f951-43da-9450-2634b51b972e\")) {                    Plotly.newPlot(                        \"73a9b909-f951-43da-9450-2634b51b972e\",                        [{\"line\":{\"color\":\"#5B9BD5\",\"width\":2},\"mode\":\"lines+markers\",\"name\":\"Observado\",\"x\":[\"Jan-18\",\"Feb-18\",\"Mar-18\",\"Apr-18\",\"May-18\",\"Jun-18\",\"Jul-18\",\"Aug-18\",\"Sep-18\",\"Oct-18\",\"Nov-18\",\"Dec-18\",\"Jan-19\",\"Feb-19\",\"Mar-19\",\"Apr-19\",\"May-19\",\"Jun-19\",\"Jul-19\",\"Aug-19\",\"Sep-19\",\"Oct-19\",\"Nov-19\",\"Dec-19\",\"Jan-20\",\"Feb-20\",\"Mar-20\",\"Apr-20\",\"May-20\",\"Jun-20\",\"Jul-20\",\"Aug-20\",\"Sep-20\",\"Oct-20\",\"Nov-20\",\"Dec-20\",\"Jan-21\",\"Feb-21\",\"Mar-21\",\"Apr-21\",\"May-21\",\"Jun-21\",\"Jul-21\",\"Aug-21\",\"Sep-21\",\"Oct-21\",\"Nov-21\",\"Dec-21\",\"Jan-22\",\"Feb-22\",\"Mar-22\",\"Apr-22\",\"May-22\",\"Jun-22\",\"Jul-22\",\"Aug-22\",\"Sep-22\",\"Oct-22\",\"Nov-22\",\"Dec-22\",\"Jan-23\",\"Feb-23\",\"Mar-23\",\"Apr-23\",\"May-23\",\"Jun-23\",\"Jul-23\",\"Aug-23\",\"Sep-23\"],\"y\":[3363.0,3247.0,3359.0,3458.0,3429.0,3521.0,3622.0,3476.0,3548.0,3609.0,3530.0,3545.0,3637.0,3576.0,3539.0,3665.0,3634.0,3691.0,3792.0,3717.0,3716.0,3739.0,3564.0,3792.0,3745.0,3727.0,3593.0,3246.0,3143.0,3238.0,3211.0,3288.0,3470.0,3541.0,3747.0,3852.0,3777.0,3870.0,3961.0,3993.0,4000.0,4018.0,4148.0,4206.0,4201.0,4295.0,4283.0,4334.0,4246.0,4214.0,4292.0,4244.0,4358.0,4357.0,4347.0,4337.0,4415.0,4414.0,4299.0,4385.0,4391.0,4345.0,4340.0,4424.0,4459.0,4428.0,4539.0,4516.0,4507.0],\"type\":\"scatter\"}],                        {\"template\":{\"data\":{\"histogram2dcontour\":[{\"type\":\"histogram2dcontour\",\"colorbar\":{\"outlinewidth\":0,\"ticks\":\"\"},\"colorscale\":[[0.0,\"#0d0887\"],[0.1111111111111111,\"#46039f\"],[0.2222222222222222,\"#7201a8\"],[0.3333333333333333,\"#9c179e\"],[0.4444444444444444,\"#bd3786\"],[0.5555555555555556,\"#d8576b\"],[0.6666666666666666,\"#ed7953\"],[0.7777777777777778,\"#fb9f3a\"],[0.8888888888888888,\"#fdca26\"],[1.0,\"#f0f921\"]]}],\"choropleth\":[{\"type\":\"choropleth\",\"colorbar\":{\"outlinewidth\":0,\"ticks\":\"\"}}],\"histogram2d\":[{\"type\":\"histogram2d\",\"colorbar\":{\"outlinewidth\":0,\"ticks\":\"\"},\"colorscale\":[[0.0,\"#0d0887\"],[0.1111111111111111,\"#46039f\"],[0.2222222222222222,\"#7201a8\"],[0.3333333333333333,\"#9c179e\"],[0.4444444444444444,\"#bd3786\"],[0.5555555555555556,\"#d8576b\"],[0.6666666666666666,\"#ed7953\"],[0.7777777777777778,\"#fb9f3a\"],[0.8888888888888888,\"#fdca26\"],[1.0,\"#f0f921\"]]}],\"heatmap\":[{\"type\":\"heatmap\",\"colorbar\":{\"outlinewidth\":0,\"ticks\":\"\"},\"colorscale\":[[0.0,\"#0d0887\"],[0.1111111111111111,\"#46039f\"],[0.2222222222222222,\"#7201a8\"],[0.3333333333333333,\"#9c179e\"],[0.4444444444444444,\"#bd3786\"],[0.5555555555555556,\"#d8576b\"],[0.6666666666666666,\"#ed7953\"],[0.7777777777777778,\"#fb9f3a\"],[0.8888888888888888,\"#fdca26\"],[1.0,\"#f0f921\"]]}],\"heatmapgl\":[{\"type\":\"heatmapgl\",\"colorbar\":{\"outlinewidth\":0,\"ticks\":\"\"},\"colorscale\":[[0.0,\"#0d0887\"],[0.1111111111111111,\"#46039f\"],[0.2222222222222222,\"#7201a8\"],[0.3333333333333333,\"#9c179e\"],[0.4444444444444444,\"#bd3786\"],[0.5555555555555556,\"#d8576b\"],[0.6666666666666666,\"#ed7953\"],[0.7777777777777778,\"#fb9f3a\"],[0.8888888888888888,\"#fdca26\"],[1.0,\"#f0f921\"]]}],\"contourcarpet\":[{\"type\":\"contourcarpet\",\"colorbar\":{\"outlinewidth\":0,\"ticks\":\"\"}}],\"contour\":[{\"type\":\"contour\",\"colorbar\":{\"outlinewidth\":0,\"ticks\":\"\"},\"colorscale\":[[0.0,\"#0d0887\"],[0.1111111111111111,\"#46039f\"],[0.2222222222222222,\"#7201a8\"],[0.3333333333333333,\"#9c179e\"],[0.4444444444444444,\"#bd3786\"],[0.5555555555555556,\"#d8576b\"],[0.6666666666666666,\"#ed7953\"],[0.7777777777777778,\"#fb9f3a\"],[0.8888888888888888,\"#fdca26\"],[1.0,\"#f0f921\"]]}],\"surface\":[{\"type\":\"surface\",\"colorbar\":{\"outlinewidth\":0,\"ticks\":\"\"},\"colorscale\":[[0.0,\"#0d0887\"],[0.1111111111111111,\"#46039f\"],[0.2222222222222222,\"#7201a8\"],[0.3333333333333333,\"#9c179e\"],[0.4444444444444444,\"#bd3786\"],[0.5555555555555556,\"#d8576b\"],[0.6666666666666666,\"#ed7953\"],[0.7777777777777778,\"#fb9f3a\"],[0.8888888888888888,\"#fdca26\"],[1.0,\"#f0f921\"]]}],\"mesh3d\":[{\"type\":\"mesh3d\",\"colorbar\":{\"outlinewidth\":0,\"ticks\":\"\"}}],\"scatter\":[{\"fillpattern\":{\"fillmode\":\"overlay\",\"size\":10,\"solidity\":0.2},\"type\":\"scatter\"}],\"parcoords\":[{\"type\":\"parcoords\",\"line\":{\"colorbar\":{\"outlinewidth\":0,\"ticks\":\"\"}}}],\"scatterpolargl\":[{\"type\":\"scatterpolargl\",\"marker\":{\"colorbar\":{\"outlinewidth\":0,\"ticks\":\"\"}}}],\"bar\":[{\"error_x\":{\"color\":\"#2a3f5f\"},\"error_y\":{\"color\":\"#2a3f5f\"},\"marker\":{\"line\":{\"color\":\"#E5ECF6\",\"width\":0.5},\"pattern\":{\"fillmode\":\"overlay\",\"size\":10,\"solidity\":0.2}},\"type\":\"bar\"}],\"scattergeo\":[{\"type\":\"scattergeo\",\"marker\":{\"colorbar\":{\"outlinewidth\":0,\"ticks\":\"\"}}}],\"scatterpolar\":[{\"type\":\"scatterpolar\",\"marker\":{\"colorbar\":{\"outlinewidth\":0,\"ticks\":\"\"}}}],\"histogram\":[{\"marker\":{\"pattern\":{\"fillmode\":\"overlay\",\"size\":10,\"solidity\":0.2}},\"type\":\"histogram\"}],\"scattergl\":[{\"type\":\"scattergl\",\"marker\":{\"colorbar\":{\"outlinewidth\":0,\"ticks\":\"\"}}}],\"scatter3d\":[{\"type\":\"scatter3d\",\"line\":{\"colorbar\":{\"outlinewidth\":0,\"ticks\":\"\"}},\"marker\":{\"colorbar\":{\"outlinewidth\":0,\"ticks\":\"\"}}}],\"scattermapbox\":[{\"type\":\"scattermapbox\",\"marker\":{\"colorbar\":{\"outlinewidth\":0,\"ticks\":\"\"}}}],\"scatterternary\":[{\"type\":\"scatterternary\",\"marker\":{\"colorbar\":{\"outlinewidth\":0,\"ticks\":\"\"}}}],\"scattercarpet\":[{\"type\":\"scattercarpet\",\"marker\":{\"colorbar\":{\"outlinewidth\":0,\"ticks\":\"\"}}}],\"carpet\":[{\"aaxis\":{\"endlinecolor\":\"#2a3f5f\",\"gridcolor\":\"white\",\"linecolor\":\"white\",\"minorgridcolor\":\"white\",\"startlinecolor\":\"#2a3f5f\"},\"baxis\":{\"endlinecolor\":\"#2a3f5f\",\"gridcolor\":\"white\",\"linecolor\":\"white\",\"minorgridcolor\":\"white\",\"startlinecolor\":\"#2a3f5f\"},\"type\":\"carpet\"}],\"table\":[{\"cells\":{\"fill\":{\"color\":\"#EBF0F8\"},\"line\":{\"color\":\"white\"}},\"header\":{\"fill\":{\"color\":\"#C8D4E3\"},\"line\":{\"color\":\"white\"}},\"type\":\"table\"}],\"barpolar\":[{\"marker\":{\"line\":{\"color\":\"#E5ECF6\",\"width\":0.5},\"pattern\":{\"fillmode\":\"overlay\",\"size\":10,\"solidity\":0.2}},\"type\":\"barpolar\"}],\"pie\":[{\"automargin\":true,\"type\":\"pie\"}]},\"layout\":{\"autotypenumbers\":\"strict\",\"colorway\":[\"#636efa\",\"#EF553B\",\"#00cc96\",\"#ab63fa\",\"#FFA15A\",\"#19d3f3\",\"#FF6692\",\"#B6E880\",\"#FF97FF\",\"#FECB52\"],\"font\":{\"color\":\"#2a3f5f\"},\"hovermode\":\"closest\",\"hoverlabel\":{\"align\":\"left\"},\"paper_bgcolor\":\"white\",\"plot_bgcolor\":\"#E5ECF6\",\"polar\":{\"bgcolor\":\"#E5ECF6\",\"angularaxis\":{\"gridcolor\":\"white\",\"linecolor\":\"white\",\"ticks\":\"\"},\"radialaxis\":{\"gridcolor\":\"white\",\"linecolor\":\"white\",\"ticks\":\"\"}},\"ternary\":{\"bgcolor\":\"#E5ECF6\",\"aaxis\":{\"gridcolor\":\"white\",\"linecolor\":\"white\",\"ticks\":\"\"},\"baxis\":{\"gridcolor\":\"white\",\"linecolor\":\"white\",\"ticks\":\"\"},\"caxis\":{\"gridcolor\":\"white\",\"linecolor\":\"white\",\"ticks\":\"\"}},\"coloraxis\":{\"colorbar\":{\"outlinewidth\":0,\"ticks\":\"\"}},\"colorscale\":{\"sequential\":[[0.0,\"#0d0887\"],[0.1111111111111111,\"#46039f\"],[0.2222222222222222,\"#7201a8\"],[0.3333333333333333,\"#9c179e\"],[0.4444444444444444,\"#bd3786\"],[0.5555555555555556,\"#d8576b\"],[0.6666666666666666,\"#ed7953\"],[0.7777777777777778,\"#fb9f3a\"],[0.8888888888888888,\"#fdca26\"],[1.0,\"#f0f921\"]],\"sequentialminus\":[[0.0,\"#0d0887\"],[0.1111111111111111,\"#46039f\"],[0.2222222222222222,\"#7201a8\"],[0.3333333333333333,\"#9c179e\"],[0.4444444444444444,\"#bd3786\"],[0.5555555555555556,\"#d8576b\"],[0.6666666666666666,\"#ed7953\"],[0.7777777777777778,\"#fb9f3a\"],[0.8888888888888888,\"#fdca26\"],[1.0,\"#f0f921\"]],\"diverging\":[[0,\"#8e0152\"],[0.1,\"#c51b7d\"],[0.2,\"#de77ae\"],[0.3,\"#f1b6da\"],[0.4,\"#fde0ef\"],[0.5,\"#f7f7f7\"],[0.6,\"#e6f5d0\"],[0.7,\"#b8e186\"],[0.8,\"#7fbc41\"],[0.9,\"#4d9221\"],[1,\"#276419\"]]},\"xaxis\":{\"gridcolor\":\"white\",\"linecolor\":\"white\",\"ticks\":\"\",\"title\":{\"standoff\":15},\"zerolinecolor\":\"white\",\"automargin\":true,\"zerolinewidth\":2},\"yaxis\":{\"gridcolor\":\"white\",\"linecolor\":\"white\",\"ticks\":\"\",\"title\":{\"standoff\":15},\"zerolinecolor\":\"white\",\"automargin\":true,\"zerolinewidth\":2},\"scene\":{\"xaxis\":{\"backgroundcolor\":\"#E5ECF6\",\"gridcolor\":\"white\",\"linecolor\":\"white\",\"showbackground\":true,\"ticks\":\"\",\"zerolinecolor\":\"white\",\"gridwidth\":2},\"yaxis\":{\"backgroundcolor\":\"#E5ECF6\",\"gridcolor\":\"white\",\"linecolor\":\"white\",\"showbackground\":true,\"ticks\":\"\",\"zerolinecolor\":\"white\",\"gridwidth\":2},\"zaxis\":{\"backgroundcolor\":\"#E5ECF6\",\"gridcolor\":\"white\",\"linecolor\":\"white\",\"showbackground\":true,\"ticks\":\"\",\"zerolinecolor\":\"white\",\"gridwidth\":2}},\"shapedefaults\":{\"line\":{\"color\":\"#2a3f5f\"}},\"annotationdefaults\":{\"arrowcolor\":\"#2a3f5f\",\"arrowhead\":0,\"arrowwidth\":1},\"geo\":{\"bgcolor\":\"white\",\"landcolor\":\"#E5ECF6\",\"subunitcolor\":\"white\",\"showland\":true,\"showlakes\":true,\"lakecolor\":\"white\"},\"title\":{\"x\":0.05},\"mapbox\":{\"style\":\"light\"}}},\"font\":{\"family\":\"Arial\",\"color\":\"#000000\"},\"title\":{\"font\":{\"color\":\"#000000\",\"size\":30},\"text\":\"Poblaci\\u00f3n ocupada\"},\"xaxis\":{\"title\":{\"text\":\"Mes\",\"font\":{\"size\":20}},\"tickfont\":{\"size\":15}},\"yaxis\":{\"title\":{\"text\":\"En miles de personas\",\"font\":{\"size\":20}},\"tickfont\":{\"size\":18},\"linecolor\":\"#000000\",\"ticks\":\"outside\",\"nticks\":10,\"zeroline\":true,\"zerolinewidth\":1.5,\"zerolinecolor\":\"#d62f15\"},\"hoverlabel\":{\"font\":{\"size\":15,\"family\":\"Arial\"}},\"plot_bgcolor\":\"white\",\"separators\":\",\",\"hovermode\":\"x\"},                        {\"responsive\": true}                    ).then(function(){\n",
              "                            \n",
              "var gd = document.getElementById('73a9b909-f951-43da-9450-2634b51b972e');\n",
              "var x = new MutationObserver(function (mutations, observer) {{\n",
              "        var display = window.getComputedStyle(gd).display;\n",
              "        if (!display || display === 'none') {{\n",
              "            console.log([gd, 'removed!']);\n",
              "            Plotly.purge(gd);\n",
              "            observer.disconnect();\n",
              "        }}\n",
              "}});\n",
              "\n",
              "// Listen for the removal of the full notebook cells\n",
              "var notebookContainer = gd.closest('#notebook-container');\n",
              "if (notebookContainer) {{\n",
              "    x.observe(notebookContainer, {childList: true});\n",
              "}}\n",
              "\n",
              "// Listen for the clearing of the current output cell\n",
              "var outputEl = gd.closest('.output');\n",
              "if (outputEl) {{\n",
              "    x.observe(outputEl, {childList: true});\n",
              "}}\n",
              "\n",
              "                        })                };                            </script>        </div>\n",
              "</body>\n",
              "</html>"
            ]
          },
          "metadata": {}
        }
      ]
    },
    {
      "cell_type": "code",
      "source": [
        "x = df1_C.loc['Jan-18':, :].index\n",
        "y1 = round(df1.loc['Jan-18':, \"Población ocupada\"], ndigits=0)\n",
        "y2 = round(df1.loc['Jan-18':, \"Población económicamente inactiva\"], ndigits=0)\n",
        "y3 = round(df1.loc['Jan-18':, \"Población desocupada\"], ndigits=0)\n",
        "\n",
        "fig2 = go.Figure()\n",
        "\n",
        "# Agrega líneas para las variables\n",
        "fig2.add_trace(go.Scatter(x=x, y=y1, mode='lines+markers', name=\"PO\", line=dict(color='#5B9BD5', width=2)))\n",
        "fig2.add_trace(go.Scatter(x=x, y=y2, mode='lines+markers', name=\"PEI\", line=dict(color='#002060', width=2)))\n",
        "\n",
        "# Agrega la tercera variable al eje y secundario (yaxis2)\n",
        "fig2.add_trace(go.Scatter(x=x, y=y3, mode='lines+markers', name=\"PD\", line=dict(color='#70AD47', width=2), yaxis='y2'))\n",
        "\n",
        "# Establece el rango del eje y primario\n",
        "yaxis_range = [1000, max(y1.max(), y2.max()) * 1.1]  # Puedes ajustar el factor de multiplicación según tus necesidades\n",
        "fig2.update_yaxes(range=yaxis_range)\n",
        "\n",
        "# Configura el eje-y secundario\n",
        "fig2.update_layout(yaxis2=dict(overlaying='y', side='right'))\n",
        "\n",
        "# Set layout\n",
        "fig2.update_layout(font_family='Arial', font_color=\"#000000\", plot_bgcolor='white', separators=',',\n",
        "                   title_text='Población Ocupada, Población Económicamente Inactiva y Población Desocupada',\n",
        "                   title_font=dict(color='#000000', size=30),\n",
        "                   xaxis=dict(title='Mes', titlefont_size=20, tickfont_size=15),\n",
        "                   yaxis=dict(title='En miles de personas', titlefont_size=20, tickfont_size=18, linecolor=\"#000000\", ticks='outside', nticks=10, zeroline=True, zerolinewidth=1.5, zerolinecolor='#d62f15'),\n",
        "                   yaxis2=dict(title='En miles de personas', titlefont_size=20, tickfont_size=18, overlaying='y', side='right', linecolor=\"#000000\", ticks='outside', nticks=10, zeroline=True, zerolinewidth=1.5, zerolinecolor='red'),\n",
        "                   hoverlabel=dict(font_size=15, font_family=\"Arial\"),\n",
        "                   hovermode=\"x\",\n",
        "                   legend=dict(\n",
        "                       x=0.1,\n",
        "                       y=1.0,\n",
        "                       traceorder='normal',\n",
        "                       font=dict(family='Arial', size=20),\n",
        "                   )\n",
        ")\n",
        "\n",
        "fig2.show()\n"
      ],
      "metadata": {
        "colab": {
          "base_uri": "https://localhost:8080/",
          "height": 542
        },
        "id": "JpyZslQk1-5p",
        "outputId": "3a58c16a-41bd-4eb8-b92b-7e138d79bca5"
      },
      "execution_count": null,
      "outputs": [
        {
          "output_type": "display_data",
          "data": {
            "text/html": [
              "<html>\n",
              "<head><meta charset=\"utf-8\" /></head>\n",
              "<body>\n",
              "    <div>            <script src=\"https://cdnjs.cloudflare.com/ajax/libs/mathjax/2.7.5/MathJax.js?config=TeX-AMS-MML_SVG\"></script><script type=\"text/javascript\">if (window.MathJax && window.MathJax.Hub && window.MathJax.Hub.Config) {window.MathJax.Hub.Config({SVG: {font: \"STIX-Web\"}});}</script>                <script type=\"text/javascript\">window.PlotlyConfig = {MathJaxConfig: 'local'};</script>\n",
              "        <script charset=\"utf-8\" src=\"https://cdn.plot.ly/plotly-2.24.1.min.js\"></script>                <div id=\"c4e9c56d-0101-4bf3-adf2-fc526e122716\" class=\"plotly-graph-div\" style=\"height:525px; width:100%;\"></div>            <script type=\"text/javascript\">                                    window.PLOTLYENV=window.PLOTLYENV || {};                                    if (document.getElementById(\"c4e9c56d-0101-4bf3-adf2-fc526e122716\")) {                    Plotly.newPlot(                        \"c4e9c56d-0101-4bf3-adf2-fc526e122716\",                        [{\"line\":{\"color\":\"#5B9BD5\",\"width\":2},\"mode\":\"lines+markers\",\"name\":\"PO\",\"x\":[\"Jan-18\",\"Feb-18\",\"Mar-18\",\"Apr-18\",\"May-18\",\"Jun-18\",\"Jul-18\",\"Aug-18\",\"Sep-18\",\"Oct-18\",\"Nov-18\",\"Dec-18\",\"Jan-19\",\"Feb-19\",\"Mar-19\",\"Apr-19\",\"May-19\",\"Jun-19\",\"Jul-19\",\"Aug-19\",\"Sep-19\",\"Oct-19\",\"Nov-19\",\"Dec-19\",\"Jan-20\",\"Feb-20\",\"Mar-20\",\"Apr-20\",\"May-20\",\"Jun-20\",\"Jul-20\",\"Aug-20\",\"Sep-20\",\"Oct-20\",\"Nov-20\",\"Dec-20\",\"Jan-21\",\"Feb-21\",\"Mar-21\",\"Apr-21\",\"May-21\",\"Jun-21\",\"Jul-21\",\"Aug-21\",\"Sep-21\",\"Oct-21\",\"Nov-21\",\"Dec-21\",\"Jan-22\",\"Feb-22\",\"Mar-22\",\"Apr-22\",\"May-22\",\"Jun-22\",\"Jul-22\",\"Aug-22\",\"Sep-22\",\"Oct-22\",\"Nov-22\",\"Dec-22\",\"Jan-23\",\"Feb-23\",\"Mar-23\",\"Apr-23\",\"May-23\",\"Jun-23\",\"Jul-23\",\"Aug-23\",\"Sep-23\"],\"y\":[3363.0,3247.0,3359.0,3458.0,3429.0,3521.0,3622.0,3476.0,3548.0,3609.0,3530.0,3545.0,3637.0,3576.0,3539.0,3665.0,3634.0,3691.0,3792.0,3717.0,3716.0,3739.0,3564.0,3792.0,3745.0,3727.0,3593.0,3246.0,3143.0,3238.0,3211.0,3288.0,3470.0,3541.0,3747.0,3852.0,3777.0,3870.0,3961.0,3993.0,4000.0,4018.0,4148.0,4206.0,4201.0,4295.0,4283.0,4334.0,4246.0,4214.0,4292.0,4244.0,4358.0,4357.0,4347.0,4337.0,4415.0,4414.0,4299.0,4385.0,4391.0,4345.0,4340.0,4424.0,4459.0,4428.0,4539.0,4516.0,4507.0],\"type\":\"scatter\"},{\"line\":{\"color\":\"#002060\",\"width\":2},\"mode\":\"lines+markers\",\"name\":\"PEI\",\"x\":[\"Jan-18\",\"Feb-18\",\"Mar-18\",\"Apr-18\",\"May-18\",\"Jun-18\",\"Jul-18\",\"Aug-18\",\"Sep-18\",\"Oct-18\",\"Nov-18\",\"Dec-18\",\"Jan-19\",\"Feb-19\",\"Mar-19\",\"Apr-19\",\"May-19\",\"Jun-19\",\"Jul-19\",\"Aug-19\",\"Sep-19\",\"Oct-19\",\"Nov-19\",\"Dec-19\",\"Jan-20\",\"Feb-20\",\"Mar-20\",\"Apr-20\",\"May-20\",\"Jun-20\",\"Jul-20\",\"Aug-20\",\"Sep-20\",\"Oct-20\",\"Nov-20\",\"Dec-20\",\"Jan-21\",\"Feb-21\",\"Mar-21\",\"Apr-21\",\"May-21\",\"Jun-21\",\"Jul-21\",\"Aug-21\",\"Sep-21\",\"Oct-21\",\"Nov-21\",\"Dec-21\",\"Jan-22\",\"Feb-22\",\"Mar-22\",\"Apr-22\",\"May-22\",\"Jun-22\",\"Jul-22\",\"Aug-22\",\"Sep-22\",\"Oct-22\",\"Nov-22\",\"Dec-22\",\"Jan-23\",\"Feb-23\",\"Mar-23\",\"Apr-23\",\"May-23\",\"Jun-23\",\"Jul-23\",\"Aug-23\",\"Sep-23\"],\"y\":[1946.0,2060.0,1977.0,1911.0,1948.0,1865.0,1798.0,1936.0,1868.0,1869.0,1951.0,1902.0,1733.0,1828.0,1910.0,1824.0,1856.0,1836.0,1738.0,1844.0,1861.0,1846.0,1992.0,1789.0,1775.0,1868.0,1999.0,2333.0,2413.0,2254.0,2227.0,2190.0,2022.0,2013.0,1804.0,1717.0,1813.0,1754.0,1705.0,1705.0,1699.0,1697.0,1632.0,1574.0,1609.0,1567.0,1591.0,1542.0,1601.0,1648.0,1627.0,1687.0,1632.0,1642.0,1648.0,1693.0,1626.0,1629.0,1767.0,1671.0,1631.0,1725.0,1766.0,1695.0,1676.0,1737.0,1629.0,1666.0,1710.0],\"type\":\"scatter\"},{\"line\":{\"color\":\"#70AD47\",\"width\":2},\"mode\":\"lines+markers\",\"name\":\"PD\",\"x\":[\"Jan-18\",\"Feb-18\",\"Mar-18\",\"Apr-18\",\"May-18\",\"Jun-18\",\"Jul-18\",\"Aug-18\",\"Sep-18\",\"Oct-18\",\"Nov-18\",\"Dec-18\",\"Jan-19\",\"Feb-19\",\"Mar-19\",\"Apr-19\",\"May-19\",\"Jun-19\",\"Jul-19\",\"Aug-19\",\"Sep-19\",\"Oct-19\",\"Nov-19\",\"Dec-19\",\"Jan-20\",\"Feb-20\",\"Mar-20\",\"Apr-20\",\"May-20\",\"Jun-20\",\"Jul-20\",\"Aug-20\",\"Sep-20\",\"Oct-20\",\"Nov-20\",\"Dec-20\",\"Jan-21\",\"Feb-21\",\"Mar-21\",\"Apr-21\",\"May-21\",\"Jun-21\",\"Jul-21\",\"Aug-21\",\"Sep-21\",\"Oct-21\",\"Nov-21\",\"Dec-21\",\"Jan-22\",\"Feb-22\",\"Mar-22\",\"Apr-22\",\"May-22\",\"Jun-22\",\"Jul-22\",\"Aug-22\",\"Sep-22\",\"Oct-22\",\"Nov-22\",\"Dec-22\",\"Jan-23\",\"Feb-23\",\"Mar-23\",\"Apr-23\",\"May-23\",\"Jun-23\",\"Jul-23\",\"Aug-23\",\"Sep-23\"],\"y\":[202.0,215.0,197.0,176.0,179.0,181.0,159.0,177.0,186.0,136.0,143.0,189.0,278.0,254.0,221.0,194.0,203.0,178.0,188.0,168.0,162.0,166.0,207.0,193.0,266.0,202.0,218.0,243.0,276.0,353.0,420.0,389.0,387.0,337.0,352.0,345.0,403.0,380.0,350.0,330.0,341.0,336.0,284.0,294.0,277.0,237.0,236.0,246.0,287.0,284.0,239.0,239.0,191.0,195.0,210.0,187.0,188.0,198.0,186.0,209.0,254.0,218.0,194.0,193.0,188.0,170.0,180.0,177.0,153.0],\"yaxis\":\"y2\",\"type\":\"scatter\"}],                        {\"template\":{\"data\":{\"histogram2dcontour\":[{\"type\":\"histogram2dcontour\",\"colorbar\":{\"outlinewidth\":0,\"ticks\":\"\"},\"colorscale\":[[0.0,\"#0d0887\"],[0.1111111111111111,\"#46039f\"],[0.2222222222222222,\"#7201a8\"],[0.3333333333333333,\"#9c179e\"],[0.4444444444444444,\"#bd3786\"],[0.5555555555555556,\"#d8576b\"],[0.6666666666666666,\"#ed7953\"],[0.7777777777777778,\"#fb9f3a\"],[0.8888888888888888,\"#fdca26\"],[1.0,\"#f0f921\"]]}],\"choropleth\":[{\"type\":\"choropleth\",\"colorbar\":{\"outlinewidth\":0,\"ticks\":\"\"}}],\"histogram2d\":[{\"type\":\"histogram2d\",\"colorbar\":{\"outlinewidth\":0,\"ticks\":\"\"},\"colorscale\":[[0.0,\"#0d0887\"],[0.1111111111111111,\"#46039f\"],[0.2222222222222222,\"#7201a8\"],[0.3333333333333333,\"#9c179e\"],[0.4444444444444444,\"#bd3786\"],[0.5555555555555556,\"#d8576b\"],[0.6666666666666666,\"#ed7953\"],[0.7777777777777778,\"#fb9f3a\"],[0.8888888888888888,\"#fdca26\"],[1.0,\"#f0f921\"]]}],\"heatmap\":[{\"type\":\"heatmap\",\"colorbar\":{\"outlinewidth\":0,\"ticks\":\"\"},\"colorscale\":[[0.0,\"#0d0887\"],[0.1111111111111111,\"#46039f\"],[0.2222222222222222,\"#7201a8\"],[0.3333333333333333,\"#9c179e\"],[0.4444444444444444,\"#bd3786\"],[0.5555555555555556,\"#d8576b\"],[0.6666666666666666,\"#ed7953\"],[0.7777777777777778,\"#fb9f3a\"],[0.8888888888888888,\"#fdca26\"],[1.0,\"#f0f921\"]]}],\"heatmapgl\":[{\"type\":\"heatmapgl\",\"colorbar\":{\"outlinewidth\":0,\"ticks\":\"\"},\"colorscale\":[[0.0,\"#0d0887\"],[0.1111111111111111,\"#46039f\"],[0.2222222222222222,\"#7201a8\"],[0.3333333333333333,\"#9c179e\"],[0.4444444444444444,\"#bd3786\"],[0.5555555555555556,\"#d8576b\"],[0.6666666666666666,\"#ed7953\"],[0.7777777777777778,\"#fb9f3a\"],[0.8888888888888888,\"#fdca26\"],[1.0,\"#f0f921\"]]}],\"contourcarpet\":[{\"type\":\"contourcarpet\",\"colorbar\":{\"outlinewidth\":0,\"ticks\":\"\"}}],\"contour\":[{\"type\":\"contour\",\"colorbar\":{\"outlinewidth\":0,\"ticks\":\"\"},\"colorscale\":[[0.0,\"#0d0887\"],[0.1111111111111111,\"#46039f\"],[0.2222222222222222,\"#7201a8\"],[0.3333333333333333,\"#9c179e\"],[0.4444444444444444,\"#bd3786\"],[0.5555555555555556,\"#d8576b\"],[0.6666666666666666,\"#ed7953\"],[0.7777777777777778,\"#fb9f3a\"],[0.8888888888888888,\"#fdca26\"],[1.0,\"#f0f921\"]]}],\"surface\":[{\"type\":\"surface\",\"colorbar\":{\"outlinewidth\":0,\"ticks\":\"\"},\"colorscale\":[[0.0,\"#0d0887\"],[0.1111111111111111,\"#46039f\"],[0.2222222222222222,\"#7201a8\"],[0.3333333333333333,\"#9c179e\"],[0.4444444444444444,\"#bd3786\"],[0.5555555555555556,\"#d8576b\"],[0.6666666666666666,\"#ed7953\"],[0.7777777777777778,\"#fb9f3a\"],[0.8888888888888888,\"#fdca26\"],[1.0,\"#f0f921\"]]}],\"mesh3d\":[{\"type\":\"mesh3d\",\"colorbar\":{\"outlinewidth\":0,\"ticks\":\"\"}}],\"scatter\":[{\"fillpattern\":{\"fillmode\":\"overlay\",\"size\":10,\"solidity\":0.2},\"type\":\"scatter\"}],\"parcoords\":[{\"type\":\"parcoords\",\"line\":{\"colorbar\":{\"outlinewidth\":0,\"ticks\":\"\"}}}],\"scatterpolargl\":[{\"type\":\"scatterpolargl\",\"marker\":{\"colorbar\":{\"outlinewidth\":0,\"ticks\":\"\"}}}],\"bar\":[{\"error_x\":{\"color\":\"#2a3f5f\"},\"error_y\":{\"color\":\"#2a3f5f\"},\"marker\":{\"line\":{\"color\":\"#E5ECF6\",\"width\":0.5},\"pattern\":{\"fillmode\":\"overlay\",\"size\":10,\"solidity\":0.2}},\"type\":\"bar\"}],\"scattergeo\":[{\"type\":\"scattergeo\",\"marker\":{\"colorbar\":{\"outlinewidth\":0,\"ticks\":\"\"}}}],\"scatterpolar\":[{\"type\":\"scatterpolar\",\"marker\":{\"colorbar\":{\"outlinewidth\":0,\"ticks\":\"\"}}}],\"histogram\":[{\"marker\":{\"pattern\":{\"fillmode\":\"overlay\",\"size\":10,\"solidity\":0.2}},\"type\":\"histogram\"}],\"scattergl\":[{\"type\":\"scattergl\",\"marker\":{\"colorbar\":{\"outlinewidth\":0,\"ticks\":\"\"}}}],\"scatter3d\":[{\"type\":\"scatter3d\",\"line\":{\"colorbar\":{\"outlinewidth\":0,\"ticks\":\"\"}},\"marker\":{\"colorbar\":{\"outlinewidth\":0,\"ticks\":\"\"}}}],\"scattermapbox\":[{\"type\":\"scattermapbox\",\"marker\":{\"colorbar\":{\"outlinewidth\":0,\"ticks\":\"\"}}}],\"scatterternary\":[{\"type\":\"scatterternary\",\"marker\":{\"colorbar\":{\"outlinewidth\":0,\"ticks\":\"\"}}}],\"scattercarpet\":[{\"type\":\"scattercarpet\",\"marker\":{\"colorbar\":{\"outlinewidth\":0,\"ticks\":\"\"}}}],\"carpet\":[{\"aaxis\":{\"endlinecolor\":\"#2a3f5f\",\"gridcolor\":\"white\",\"linecolor\":\"white\",\"minorgridcolor\":\"white\",\"startlinecolor\":\"#2a3f5f\"},\"baxis\":{\"endlinecolor\":\"#2a3f5f\",\"gridcolor\":\"white\",\"linecolor\":\"white\",\"minorgridcolor\":\"white\",\"startlinecolor\":\"#2a3f5f\"},\"type\":\"carpet\"}],\"table\":[{\"cells\":{\"fill\":{\"color\":\"#EBF0F8\"},\"line\":{\"color\":\"white\"}},\"header\":{\"fill\":{\"color\":\"#C8D4E3\"},\"line\":{\"color\":\"white\"}},\"type\":\"table\"}],\"barpolar\":[{\"marker\":{\"line\":{\"color\":\"#E5ECF6\",\"width\":0.5},\"pattern\":{\"fillmode\":\"overlay\",\"size\":10,\"solidity\":0.2}},\"type\":\"barpolar\"}],\"pie\":[{\"automargin\":true,\"type\":\"pie\"}]},\"layout\":{\"autotypenumbers\":\"strict\",\"colorway\":[\"#636efa\",\"#EF553B\",\"#00cc96\",\"#ab63fa\",\"#FFA15A\",\"#19d3f3\",\"#FF6692\",\"#B6E880\",\"#FF97FF\",\"#FECB52\"],\"font\":{\"color\":\"#2a3f5f\"},\"hovermode\":\"closest\",\"hoverlabel\":{\"align\":\"left\"},\"paper_bgcolor\":\"white\",\"plot_bgcolor\":\"#E5ECF6\",\"polar\":{\"bgcolor\":\"#E5ECF6\",\"angularaxis\":{\"gridcolor\":\"white\",\"linecolor\":\"white\",\"ticks\":\"\"},\"radialaxis\":{\"gridcolor\":\"white\",\"linecolor\":\"white\",\"ticks\":\"\"}},\"ternary\":{\"bgcolor\":\"#E5ECF6\",\"aaxis\":{\"gridcolor\":\"white\",\"linecolor\":\"white\",\"ticks\":\"\"},\"baxis\":{\"gridcolor\":\"white\",\"linecolor\":\"white\",\"ticks\":\"\"},\"caxis\":{\"gridcolor\":\"white\",\"linecolor\":\"white\",\"ticks\":\"\"}},\"coloraxis\":{\"colorbar\":{\"outlinewidth\":0,\"ticks\":\"\"}},\"colorscale\":{\"sequential\":[[0.0,\"#0d0887\"],[0.1111111111111111,\"#46039f\"],[0.2222222222222222,\"#7201a8\"],[0.3333333333333333,\"#9c179e\"],[0.4444444444444444,\"#bd3786\"],[0.5555555555555556,\"#d8576b\"],[0.6666666666666666,\"#ed7953\"],[0.7777777777777778,\"#fb9f3a\"],[0.8888888888888888,\"#fdca26\"],[1.0,\"#f0f921\"]],\"sequentialminus\":[[0.0,\"#0d0887\"],[0.1111111111111111,\"#46039f\"],[0.2222222222222222,\"#7201a8\"],[0.3333333333333333,\"#9c179e\"],[0.4444444444444444,\"#bd3786\"],[0.5555555555555556,\"#d8576b\"],[0.6666666666666666,\"#ed7953\"],[0.7777777777777778,\"#fb9f3a\"],[0.8888888888888888,\"#fdca26\"],[1.0,\"#f0f921\"]],\"diverging\":[[0,\"#8e0152\"],[0.1,\"#c51b7d\"],[0.2,\"#de77ae\"],[0.3,\"#f1b6da\"],[0.4,\"#fde0ef\"],[0.5,\"#f7f7f7\"],[0.6,\"#e6f5d0\"],[0.7,\"#b8e186\"],[0.8,\"#7fbc41\"],[0.9,\"#4d9221\"],[1,\"#276419\"]]},\"xaxis\":{\"gridcolor\":\"white\",\"linecolor\":\"white\",\"ticks\":\"\",\"title\":{\"standoff\":15},\"zerolinecolor\":\"white\",\"automargin\":true,\"zerolinewidth\":2},\"yaxis\":{\"gridcolor\":\"white\",\"linecolor\":\"white\",\"ticks\":\"\",\"title\":{\"standoff\":15},\"zerolinecolor\":\"white\",\"automargin\":true,\"zerolinewidth\":2},\"scene\":{\"xaxis\":{\"backgroundcolor\":\"#E5ECF6\",\"gridcolor\":\"white\",\"linecolor\":\"white\",\"showbackground\":true,\"ticks\":\"\",\"zerolinecolor\":\"white\",\"gridwidth\":2},\"yaxis\":{\"backgroundcolor\":\"#E5ECF6\",\"gridcolor\":\"white\",\"linecolor\":\"white\",\"showbackground\":true,\"ticks\":\"\",\"zerolinecolor\":\"white\",\"gridwidth\":2},\"zaxis\":{\"backgroundcolor\":\"#E5ECF6\",\"gridcolor\":\"white\",\"linecolor\":\"white\",\"showbackground\":true,\"ticks\":\"\",\"zerolinecolor\":\"white\",\"gridwidth\":2}},\"shapedefaults\":{\"line\":{\"color\":\"#2a3f5f\"}},\"annotationdefaults\":{\"arrowcolor\":\"#2a3f5f\",\"arrowhead\":0,\"arrowwidth\":1},\"geo\":{\"bgcolor\":\"white\",\"landcolor\":\"#E5ECF6\",\"subunitcolor\":\"white\",\"showland\":true,\"showlakes\":true,\"lakecolor\":\"white\"},\"title\":{\"x\":0.05},\"mapbox\":{\"style\":\"light\"}}},\"yaxis\":{\"range\":[1000,4992.900000000001],\"title\":{\"text\":\"En miles de personas\",\"font\":{\"size\":20}},\"tickfont\":{\"size\":18},\"linecolor\":\"#000000\",\"ticks\":\"outside\",\"nticks\":10,\"zeroline\":true,\"zerolinewidth\":1.5,\"zerolinecolor\":\"#d62f15\"},\"yaxis2\":{\"overlaying\":\"y\",\"side\":\"right\",\"title\":{\"text\":\"En miles de personas\",\"font\":{\"size\":20}},\"tickfont\":{\"size\":18},\"linecolor\":\"#000000\",\"ticks\":\"outside\",\"nticks\":10,\"zeroline\":true,\"zerolinewidth\":1.5,\"zerolinecolor\":\"red\"},\"font\":{\"family\":\"Arial\",\"color\":\"#000000\"},\"title\":{\"font\":{\"color\":\"#000000\",\"size\":30},\"text\":\"Poblaci\\u00f3n Ocupada, Poblaci\\u00f3n Econ\\u00f3micamente Inactiva y Poblaci\\u00f3n Desocupada\"},\"xaxis\":{\"title\":{\"text\":\"Mes\",\"font\":{\"size\":20}},\"tickfont\":{\"size\":15}},\"hoverlabel\":{\"font\":{\"size\":15,\"family\":\"Arial\"}},\"legend\":{\"font\":{\"family\":\"Arial\",\"size\":20},\"x\":0.1,\"y\":1.0,\"traceorder\":\"normal\"},\"plot_bgcolor\":\"white\",\"separators\":\",\",\"hovermode\":\"x\"},                        {\"responsive\": true}                    ).then(function(){\n",
              "                            \n",
              "var gd = document.getElementById('c4e9c56d-0101-4bf3-adf2-fc526e122716');\n",
              "var x = new MutationObserver(function (mutations, observer) {{\n",
              "        var display = window.getComputedStyle(gd).display;\n",
              "        if (!display || display === 'none') {{\n",
              "            console.log([gd, 'removed!']);\n",
              "            Plotly.purge(gd);\n",
              "            observer.disconnect();\n",
              "        }}\n",
              "}});\n",
              "\n",
              "// Listen for the removal of the full notebook cells\n",
              "var notebookContainer = gd.closest('#notebook-container');\n",
              "if (notebookContainer) {{\n",
              "    x.observe(notebookContainer, {childList: true});\n",
              "}}\n",
              "\n",
              "// Listen for the clearing of the current output cell\n",
              "var outputEl = gd.closest('.output');\n",
              "if (outputEl) {{\n",
              "    x.observe(outputEl, {childList: true});\n",
              "}}\n",
              "\n",
              "                        })                };                            </script>        </div>\n",
              "</body>\n",
              "</html>"
            ]
          },
          "metadata": {}
        }
      ]
    },
    {
      "cell_type": "code",
      "source": [
        "x = df1_C.loc['Jan-18':, :].index\n",
        "y1 = round(df1_C.loc['Jan-18':, \"Tasa Desocupación urbana - Total\"], ndigits=1)\n",
        "y2 = round(df1_C.loc['Jan-18':, \"Tasa Desocupación urbana Desestacionalizada - Total\"], ndigits=1)\n",
        "fig3 = go.Figure()\n",
        "# Agrega una líneas para las variables\n",
        "fig3.add_trace(go.Scatter(x=x, y=y1, mode='lines+markers', name=\"Observado\", line=dict(color='#203864', width=2)))\n",
        "fig3.add_trace(go.Scatter(x=x, y=y2, mode='lines+markers', name=\"Desestacionalizado\", line=dict(color='#ED7D31', width=2)))\n",
        "# Set layout\n",
        "fig3.update_layout(font_family = 'Arial', font_color=\"#000000\", plot_bgcolor='white', separators=',',\n",
        "                  title_text='Tasa de Desocupación Urbana, observado y desestacionalizado',\n",
        "                  title_font = dict(color='#000000', size=30),\n",
        "                  xaxis=dict(title='Mes', titlefont_size=20, tickfont_size=15),\n",
        "                  yaxis=dict(title='En porcentaje', titlefont_size=20, tickfont_size=18, linecolor=\"#000000\", ticks='outside', nticks=10, zeroline=True, zerolinewidth=1.5, zerolinecolor='#d62f15'),\n",
        "                  hoverlabel=dict(font_size=15,font_family=\"Arial\"),\n",
        "                  hovermode=\"x\",\n",
        "                  legend=dict(\n",
        "                      x=0.75,  # Posición x de la leyenda (valor entre 0 y 1)\n",
        "                      y=0.9,  # Posición y de la leyenda (valor mayor a 1 para estar por encima del gráfico)\n",
        "                      traceorder='normal',  # Orden de las entradas en la leyenda\n",
        "                      font=dict(family='Arial', size=20),  # Configuración de fuente de la leyenda\n",
        "                  ))\n",
        "fig3.show()"
      ],
      "metadata": {
        "colab": {
          "base_uri": "https://localhost:8080/",
          "height": 542
        },
        "id": "qTa0TKvBW9FT",
        "outputId": "70c10a9b-4e95-4be3-91d6-20cd26cee896"
      },
      "execution_count": null,
      "outputs": [
        {
          "output_type": "display_data",
          "data": {
            "text/html": [
              "<html>\n",
              "<head><meta charset=\"utf-8\" /></head>\n",
              "<body>\n",
              "    <div>            <script src=\"https://cdnjs.cloudflare.com/ajax/libs/mathjax/2.7.5/MathJax.js?config=TeX-AMS-MML_SVG\"></script><script type=\"text/javascript\">if (window.MathJax && window.MathJax.Hub && window.MathJax.Hub.Config) {window.MathJax.Hub.Config({SVG: {font: \"STIX-Web\"}});}</script>                <script type=\"text/javascript\">window.PlotlyConfig = {MathJaxConfig: 'local'};</script>\n",
              "        <script charset=\"utf-8\" src=\"https://cdn.plot.ly/plotly-2.24.1.min.js\"></script>                <div id=\"9827123a-1f0e-479e-9235-126d52c78fa5\" class=\"plotly-graph-div\" style=\"height:525px; width:100%;\"></div>            <script type=\"text/javascript\">                                    window.PLOTLYENV=window.PLOTLYENV || {};                                    if (document.getElementById(\"9827123a-1f0e-479e-9235-126d52c78fa5\")) {                    Plotly.newPlot(                        \"9827123a-1f0e-479e-9235-126d52c78fa5\",                        [{\"line\":{\"color\":\"#203864\",\"width\":2},\"mode\":\"lines+markers\",\"name\":\"Observado\",\"x\":[\"Jan-18\",\"Feb-18\",\"Mar-18\",\"Apr-18\",\"May-18\",\"Jun-18\",\"Jul-18\",\"Aug-18\",\"Sep-18\",\"Oct-18\",\"Nov-18\",\"Dec-18\",\"Jan-19\",\"Feb-19\",\"Mar-19\",\"Apr-19\",\"May-19\",\"Jun-19\",\"Jul-19\",\"Aug-19\",\"Sep-19\",\"Oct-19\",\"Nov-19\",\"Dec-19\",\"Jan-20\",\"Feb-20\",\"Mar-20\",\"Apr-20\",\"May-20\",\"Jun-20\",\"Jul-20\",\"Aug-20\",\"Sep-20\",\"Oct-20\",\"Nov-20\",\"Dec-20\",\"Jan-21\",\"Feb-21\",\"Mar-21\",\"Apr-21\",\"May-21\",\"Jun-21\",\"Jul-21\",\"Aug-21\",\"Sep-21\",\"Oct-21\",\"Nov-21\",\"Dec-21\",\"Jan-22\",\"Feb-22\",\"Mar-22\",\"Apr-22\",\"May-22\",\"Jun-22\",\"Jul-22\",\"Aug-22\",\"Sep-22\",\"Oct-22\",\"Nov-22\",\"Dec-22\",\"Jan-23\",\"Feb-23\",\"Mar-23\",\"Apr-23\",\"May-23\",\"Jun-23\",\"Jul-23\",\"Aug-23\",\"Sep-23\"],\"y\":[5.7,6.2,5.5,4.8,5.0,4.9,4.2,4.9,5.0,3.6,3.9,5.1,7.1,6.6,5.9,5.0,5.3,4.6,4.7,4.3,4.2,4.3,5.5,4.8,6.6,5.1,5.7,7.0,8.1,9.8,11.6,10.6,10.0,8.7,8.6,8.2,9.6,8.9,8.1,7.6,7.8,7.7,6.4,6.5,6.2,5.2,5.2,5.4,6.3,6.3,5.3,5.3,4.2,4.3,4.6,4.1,4.1,4.3,4.1,4.5,5.5,4.8,4.3,4.2,4.0,3.7,3.8,3.8,3.3],\"type\":\"scatter\"},{\"line\":{\"color\":\"#ED7D31\",\"width\":2},\"mode\":\"lines+markers\",\"name\":\"Desestacionalizado\",\"x\":[\"Jan-18\",\"Feb-18\",\"Mar-18\",\"Apr-18\",\"May-18\",\"Jun-18\",\"Jul-18\",\"Aug-18\",\"Sep-18\",\"Oct-18\",\"Nov-18\",\"Dec-18\",\"Jan-19\",\"Feb-19\",\"Mar-19\",\"Apr-19\",\"May-19\",\"Jun-19\",\"Jul-19\",\"Aug-19\",\"Sep-19\",\"Oct-19\",\"Nov-19\",\"Dec-19\",\"Jan-20\",\"Feb-20\",\"Mar-20\",\"Apr-20\",\"May-20\",\"Jun-20\",\"Jul-20\",\"Aug-20\",\"Sep-20\",\"Oct-20\",\"Nov-20\",\"Dec-20\",\"Jan-21\",\"Feb-21\",\"Mar-21\",\"Apr-21\",\"May-21\",\"Jun-21\",\"Jul-21\",\"Aug-21\",\"Sep-21\",\"Oct-21\",\"Nov-21\",\"Dec-21\",\"Jan-22\",\"Feb-22\",\"Mar-22\",\"Apr-22\",\"May-22\",\"Jun-22\",\"Jul-22\",\"Aug-22\",\"Sep-22\",\"Oct-22\",\"Nov-22\",\"Dec-22\",\"Jan-23\",\"Feb-23\",\"Mar-23\",\"Apr-23\",\"May-23\",\"Jun-23\",\"Jul-23\",\"Aug-23\",\"Sep-23\"],\"y\":[4.7,5.1,5.1,5.0,4.9,4.8,4.6,5.1,5.4,4.1,4.3,5.4,6.0,5.6,5.6,5.2,5.2,4.5,5.0,4.5,4.5,4.8,6.0,5.2,5.6,4.4,5.5,7.1,7.9,9.7,12.0,10.8,10.6,9.8,9.4,8.7,8.1,7.8,8.0,7.7,7.8,7.7,6.6,6.7,6.5,5.8,5.7,5.6,5.3,5.6,5.2,5.3,4.1,4.3,4.7,4.2,4.4,4.8,4.6,4.7,4.6,4.2,4.2,4.1,4.0,3.8,3.9,3.9,3.5],\"type\":\"scatter\"}],                        {\"template\":{\"data\":{\"histogram2dcontour\":[{\"type\":\"histogram2dcontour\",\"colorbar\":{\"outlinewidth\":0,\"ticks\":\"\"},\"colorscale\":[[0.0,\"#0d0887\"],[0.1111111111111111,\"#46039f\"],[0.2222222222222222,\"#7201a8\"],[0.3333333333333333,\"#9c179e\"],[0.4444444444444444,\"#bd3786\"],[0.5555555555555556,\"#d8576b\"],[0.6666666666666666,\"#ed7953\"],[0.7777777777777778,\"#fb9f3a\"],[0.8888888888888888,\"#fdca26\"],[1.0,\"#f0f921\"]]}],\"choropleth\":[{\"type\":\"choropleth\",\"colorbar\":{\"outlinewidth\":0,\"ticks\":\"\"}}],\"histogram2d\":[{\"type\":\"histogram2d\",\"colorbar\":{\"outlinewidth\":0,\"ticks\":\"\"},\"colorscale\":[[0.0,\"#0d0887\"],[0.1111111111111111,\"#46039f\"],[0.2222222222222222,\"#7201a8\"],[0.3333333333333333,\"#9c179e\"],[0.4444444444444444,\"#bd3786\"],[0.5555555555555556,\"#d8576b\"],[0.6666666666666666,\"#ed7953\"],[0.7777777777777778,\"#fb9f3a\"],[0.8888888888888888,\"#fdca26\"],[1.0,\"#f0f921\"]]}],\"heatmap\":[{\"type\":\"heatmap\",\"colorbar\":{\"outlinewidth\":0,\"ticks\":\"\"},\"colorscale\":[[0.0,\"#0d0887\"],[0.1111111111111111,\"#46039f\"],[0.2222222222222222,\"#7201a8\"],[0.3333333333333333,\"#9c179e\"],[0.4444444444444444,\"#bd3786\"],[0.5555555555555556,\"#d8576b\"],[0.6666666666666666,\"#ed7953\"],[0.7777777777777778,\"#fb9f3a\"],[0.8888888888888888,\"#fdca26\"],[1.0,\"#f0f921\"]]}],\"heatmapgl\":[{\"type\":\"heatmapgl\",\"colorbar\":{\"outlinewidth\":0,\"ticks\":\"\"},\"colorscale\":[[0.0,\"#0d0887\"],[0.1111111111111111,\"#46039f\"],[0.2222222222222222,\"#7201a8\"],[0.3333333333333333,\"#9c179e\"],[0.4444444444444444,\"#bd3786\"],[0.5555555555555556,\"#d8576b\"],[0.6666666666666666,\"#ed7953\"],[0.7777777777777778,\"#fb9f3a\"],[0.8888888888888888,\"#fdca26\"],[1.0,\"#f0f921\"]]}],\"contourcarpet\":[{\"type\":\"contourcarpet\",\"colorbar\":{\"outlinewidth\":0,\"ticks\":\"\"}}],\"contour\":[{\"type\":\"contour\",\"colorbar\":{\"outlinewidth\":0,\"ticks\":\"\"},\"colorscale\":[[0.0,\"#0d0887\"],[0.1111111111111111,\"#46039f\"],[0.2222222222222222,\"#7201a8\"],[0.3333333333333333,\"#9c179e\"],[0.4444444444444444,\"#bd3786\"],[0.5555555555555556,\"#d8576b\"],[0.6666666666666666,\"#ed7953\"],[0.7777777777777778,\"#fb9f3a\"],[0.8888888888888888,\"#fdca26\"],[1.0,\"#f0f921\"]]}],\"surface\":[{\"type\":\"surface\",\"colorbar\":{\"outlinewidth\":0,\"ticks\":\"\"},\"colorscale\":[[0.0,\"#0d0887\"],[0.1111111111111111,\"#46039f\"],[0.2222222222222222,\"#7201a8\"],[0.3333333333333333,\"#9c179e\"],[0.4444444444444444,\"#bd3786\"],[0.5555555555555556,\"#d8576b\"],[0.6666666666666666,\"#ed7953\"],[0.7777777777777778,\"#fb9f3a\"],[0.8888888888888888,\"#fdca26\"],[1.0,\"#f0f921\"]]}],\"mesh3d\":[{\"type\":\"mesh3d\",\"colorbar\":{\"outlinewidth\":0,\"ticks\":\"\"}}],\"scatter\":[{\"fillpattern\":{\"fillmode\":\"overlay\",\"size\":10,\"solidity\":0.2},\"type\":\"scatter\"}],\"parcoords\":[{\"type\":\"parcoords\",\"line\":{\"colorbar\":{\"outlinewidth\":0,\"ticks\":\"\"}}}],\"scatterpolargl\":[{\"type\":\"scatterpolargl\",\"marker\":{\"colorbar\":{\"outlinewidth\":0,\"ticks\":\"\"}}}],\"bar\":[{\"error_x\":{\"color\":\"#2a3f5f\"},\"error_y\":{\"color\":\"#2a3f5f\"},\"marker\":{\"line\":{\"color\":\"#E5ECF6\",\"width\":0.5},\"pattern\":{\"fillmode\":\"overlay\",\"size\":10,\"solidity\":0.2}},\"type\":\"bar\"}],\"scattergeo\":[{\"type\":\"scattergeo\",\"marker\":{\"colorbar\":{\"outlinewidth\":0,\"ticks\":\"\"}}}],\"scatterpolar\":[{\"type\":\"scatterpolar\",\"marker\":{\"colorbar\":{\"outlinewidth\":0,\"ticks\":\"\"}}}],\"histogram\":[{\"marker\":{\"pattern\":{\"fillmode\":\"overlay\",\"size\":10,\"solidity\":0.2}},\"type\":\"histogram\"}],\"scattergl\":[{\"type\":\"scattergl\",\"marker\":{\"colorbar\":{\"outlinewidth\":0,\"ticks\":\"\"}}}],\"scatter3d\":[{\"type\":\"scatter3d\",\"line\":{\"colorbar\":{\"outlinewidth\":0,\"ticks\":\"\"}},\"marker\":{\"colorbar\":{\"outlinewidth\":0,\"ticks\":\"\"}}}],\"scattermapbox\":[{\"type\":\"scattermapbox\",\"marker\":{\"colorbar\":{\"outlinewidth\":0,\"ticks\":\"\"}}}],\"scatterternary\":[{\"type\":\"scatterternary\",\"marker\":{\"colorbar\":{\"outlinewidth\":0,\"ticks\":\"\"}}}],\"scattercarpet\":[{\"type\":\"scattercarpet\",\"marker\":{\"colorbar\":{\"outlinewidth\":0,\"ticks\":\"\"}}}],\"carpet\":[{\"aaxis\":{\"endlinecolor\":\"#2a3f5f\",\"gridcolor\":\"white\",\"linecolor\":\"white\",\"minorgridcolor\":\"white\",\"startlinecolor\":\"#2a3f5f\"},\"baxis\":{\"endlinecolor\":\"#2a3f5f\",\"gridcolor\":\"white\",\"linecolor\":\"white\",\"minorgridcolor\":\"white\",\"startlinecolor\":\"#2a3f5f\"},\"type\":\"carpet\"}],\"table\":[{\"cells\":{\"fill\":{\"color\":\"#EBF0F8\"},\"line\":{\"color\":\"white\"}},\"header\":{\"fill\":{\"color\":\"#C8D4E3\"},\"line\":{\"color\":\"white\"}},\"type\":\"table\"}],\"barpolar\":[{\"marker\":{\"line\":{\"color\":\"#E5ECF6\",\"width\":0.5},\"pattern\":{\"fillmode\":\"overlay\",\"size\":10,\"solidity\":0.2}},\"type\":\"barpolar\"}],\"pie\":[{\"automargin\":true,\"type\":\"pie\"}]},\"layout\":{\"autotypenumbers\":\"strict\",\"colorway\":[\"#636efa\",\"#EF553B\",\"#00cc96\",\"#ab63fa\",\"#FFA15A\",\"#19d3f3\",\"#FF6692\",\"#B6E880\",\"#FF97FF\",\"#FECB52\"],\"font\":{\"color\":\"#2a3f5f\"},\"hovermode\":\"closest\",\"hoverlabel\":{\"align\":\"left\"},\"paper_bgcolor\":\"white\",\"plot_bgcolor\":\"#E5ECF6\",\"polar\":{\"bgcolor\":\"#E5ECF6\",\"angularaxis\":{\"gridcolor\":\"white\",\"linecolor\":\"white\",\"ticks\":\"\"},\"radialaxis\":{\"gridcolor\":\"white\",\"linecolor\":\"white\",\"ticks\":\"\"}},\"ternary\":{\"bgcolor\":\"#E5ECF6\",\"aaxis\":{\"gridcolor\":\"white\",\"linecolor\":\"white\",\"ticks\":\"\"},\"baxis\":{\"gridcolor\":\"white\",\"linecolor\":\"white\",\"ticks\":\"\"},\"caxis\":{\"gridcolor\":\"white\",\"linecolor\":\"white\",\"ticks\":\"\"}},\"coloraxis\":{\"colorbar\":{\"outlinewidth\":0,\"ticks\":\"\"}},\"colorscale\":{\"sequential\":[[0.0,\"#0d0887\"],[0.1111111111111111,\"#46039f\"],[0.2222222222222222,\"#7201a8\"],[0.3333333333333333,\"#9c179e\"],[0.4444444444444444,\"#bd3786\"],[0.5555555555555556,\"#d8576b\"],[0.6666666666666666,\"#ed7953\"],[0.7777777777777778,\"#fb9f3a\"],[0.8888888888888888,\"#fdca26\"],[1.0,\"#f0f921\"]],\"sequentialminus\":[[0.0,\"#0d0887\"],[0.1111111111111111,\"#46039f\"],[0.2222222222222222,\"#7201a8\"],[0.3333333333333333,\"#9c179e\"],[0.4444444444444444,\"#bd3786\"],[0.5555555555555556,\"#d8576b\"],[0.6666666666666666,\"#ed7953\"],[0.7777777777777778,\"#fb9f3a\"],[0.8888888888888888,\"#fdca26\"],[1.0,\"#f0f921\"]],\"diverging\":[[0,\"#8e0152\"],[0.1,\"#c51b7d\"],[0.2,\"#de77ae\"],[0.3,\"#f1b6da\"],[0.4,\"#fde0ef\"],[0.5,\"#f7f7f7\"],[0.6,\"#e6f5d0\"],[0.7,\"#b8e186\"],[0.8,\"#7fbc41\"],[0.9,\"#4d9221\"],[1,\"#276419\"]]},\"xaxis\":{\"gridcolor\":\"white\",\"linecolor\":\"white\",\"ticks\":\"\",\"title\":{\"standoff\":15},\"zerolinecolor\":\"white\",\"automargin\":true,\"zerolinewidth\":2},\"yaxis\":{\"gridcolor\":\"white\",\"linecolor\":\"white\",\"ticks\":\"\",\"title\":{\"standoff\":15},\"zerolinecolor\":\"white\",\"automargin\":true,\"zerolinewidth\":2},\"scene\":{\"xaxis\":{\"backgroundcolor\":\"#E5ECF6\",\"gridcolor\":\"white\",\"linecolor\":\"white\",\"showbackground\":true,\"ticks\":\"\",\"zerolinecolor\":\"white\",\"gridwidth\":2},\"yaxis\":{\"backgroundcolor\":\"#E5ECF6\",\"gridcolor\":\"white\",\"linecolor\":\"white\",\"showbackground\":true,\"ticks\":\"\",\"zerolinecolor\":\"white\",\"gridwidth\":2},\"zaxis\":{\"backgroundcolor\":\"#E5ECF6\",\"gridcolor\":\"white\",\"linecolor\":\"white\",\"showbackground\":true,\"ticks\":\"\",\"zerolinecolor\":\"white\",\"gridwidth\":2}},\"shapedefaults\":{\"line\":{\"color\":\"#2a3f5f\"}},\"annotationdefaults\":{\"arrowcolor\":\"#2a3f5f\",\"arrowhead\":0,\"arrowwidth\":1},\"geo\":{\"bgcolor\":\"white\",\"landcolor\":\"#E5ECF6\",\"subunitcolor\":\"white\",\"showland\":true,\"showlakes\":true,\"lakecolor\":\"white\"},\"title\":{\"x\":0.05},\"mapbox\":{\"style\":\"light\"}}},\"font\":{\"family\":\"Arial\",\"color\":\"#000000\"},\"title\":{\"font\":{\"color\":\"#000000\",\"size\":30},\"text\":\"Tasa de Desocupaci\\u00f3n Urbana, observado y desestacionalizado\"},\"xaxis\":{\"title\":{\"text\":\"Mes\",\"font\":{\"size\":20}},\"tickfont\":{\"size\":15}},\"yaxis\":{\"title\":{\"text\":\"En porcentaje\",\"font\":{\"size\":20}},\"tickfont\":{\"size\":18},\"linecolor\":\"#000000\",\"ticks\":\"outside\",\"nticks\":10,\"zeroline\":true,\"zerolinewidth\":1.5,\"zerolinecolor\":\"#d62f15\"},\"hoverlabel\":{\"font\":{\"size\":15,\"family\":\"Arial\"}},\"legend\":{\"font\":{\"family\":\"Arial\",\"size\":20},\"x\":0.75,\"y\":0.9,\"traceorder\":\"normal\"},\"plot_bgcolor\":\"white\",\"separators\":\",\",\"hovermode\":\"x\"},                        {\"responsive\": true}                    ).then(function(){\n",
              "                            \n",
              "var gd = document.getElementById('9827123a-1f0e-479e-9235-126d52c78fa5');\n",
              "var x = new MutationObserver(function (mutations, observer) {{\n",
              "        var display = window.getComputedStyle(gd).display;\n",
              "        if (!display || display === 'none') {{\n",
              "            console.log([gd, 'removed!']);\n",
              "            Plotly.purge(gd);\n",
              "            observer.disconnect();\n",
              "        }}\n",
              "}});\n",
              "\n",
              "// Listen for the removal of the full notebook cells\n",
              "var notebookContainer = gd.closest('#notebook-container');\n",
              "if (notebookContainer) {{\n",
              "    x.observe(notebookContainer, {childList: true});\n",
              "}}\n",
              "\n",
              "// Listen for the clearing of the current output cell\n",
              "var outputEl = gd.closest('.output');\n",
              "if (outputEl) {{\n",
              "    x.observe(outputEl, {childList: true});\n",
              "}}\n",
              "\n",
              "                        })                };                            </script>        </div>\n",
              "</body>\n",
              "</html>"
            ]
          },
          "metadata": {}
        }
      ]
    },
    {
      "cell_type": "code",
      "source": [
        "x = df1_D.loc['Jan-18':, :].index\n",
        "y1 = round(df1_D.loc['Jan-18':, \"Tasa de Subocupación - Total\"], ndigits=1)\n",
        "fig4 = go.Figure()\n",
        "# Agrega una líneas para las variables\n",
        "fig4.add_trace(go.Scatter(x=x, y=y1, mode='lines+markers', name=\"Observado\", line=dict(color='#203864', width=2)))\n",
        "# Set layout\n",
        "fig4.update_layout(font_family = 'Arial', font_color=\"#000000\", plot_bgcolor='white', separators=',',\n",
        "                  title_text='Tasa de Subocupación',\n",
        "                  title_font = dict(color='#000000', size=30),\n",
        "                  xaxis=dict(title='Mes', titlefont_size=20, tickfont_size=15),\n",
        "                  yaxis=dict(title='En porcentaje', titlefont_size=20, tickfont_size=18, linecolor=\"#000000\", ticks='outside', nticks=10, zeroline=True, zerolinewidth=1.5, zerolinecolor='#d62f15'),\n",
        "                  hoverlabel=dict(font_size=15,font_family=\"Arial\"),\n",
        "                  hovermode=\"x\"\n",
        "                  )\n",
        "fig4.show()"
      ],
      "metadata": {
        "id": "bURG9_FiV2Lk",
        "colab": {
          "base_uri": "https://localhost:8080/",
          "height": 542
        },
        "outputId": "5759cd4d-478a-4d3a-bb0e-4ef5a7e221d7"
      },
      "execution_count": null,
      "outputs": [
        {
          "output_type": "display_data",
          "data": {
            "text/html": [
              "<html>\n",
              "<head><meta charset=\"utf-8\" /></head>\n",
              "<body>\n",
              "    <div>            <script src=\"https://cdnjs.cloudflare.com/ajax/libs/mathjax/2.7.5/MathJax.js?config=TeX-AMS-MML_SVG\"></script><script type=\"text/javascript\">if (window.MathJax && window.MathJax.Hub && window.MathJax.Hub.Config) {window.MathJax.Hub.Config({SVG: {font: \"STIX-Web\"}});}</script>                <script type=\"text/javascript\">window.PlotlyConfig = {MathJaxConfig: 'local'};</script>\n",
              "        <script charset=\"utf-8\" src=\"https://cdn.plot.ly/plotly-2.24.1.min.js\"></script>                <div id=\"fcde7b89-4ea2-41b6-b059-efd3b4de66ed\" class=\"plotly-graph-div\" style=\"height:525px; width:100%;\"></div>            <script type=\"text/javascript\">                                    window.PLOTLYENV=window.PLOTLYENV || {};                                    if (document.getElementById(\"fcde7b89-4ea2-41b6-b059-efd3b4de66ed\")) {                    Plotly.newPlot(                        \"fcde7b89-4ea2-41b6-b059-efd3b4de66ed\",                        [{\"line\":{\"color\":\"#203864\",\"width\":2},\"mode\":\"lines+markers\",\"name\":\"Observado\",\"x\":[\"Jan-18\",\"Feb-18\",\"Mar-18\",\"Apr-18\",\"May-18\",\"Jun-18\",\"Jul-18\",\"Aug-18\",\"Sep-18\",\"Oct-18\",\"Nov-18\",\"Dec-18\",\"Jan-19\",\"Feb-19\",\"Mar-19\",\"Apr-19\",\"May-19\",\"Jun-19\",\"Jul-19\",\"Aug-19\",\"Sep-19\",\"Oct-19\",\"Nov-19\",\"Dec-19\",\"Jan-20\",\"Feb-20\",\"Mar-20\",\"Apr-20\",\"May-20\",\"Jun-20\",\"Jul-20\",\"Aug-20\",\"Sep-20\",\"Oct-20\",\"Nov-20\",\"Dec-20\",\"Jan-21\",\"Feb-21\",\"Mar-21\",\"Apr-21\",\"May-21\",\"Jun-21\",\"Jul-21\",\"Aug-21\",\"Sep-21\",\"Oct-21\",\"Nov-21\",\"Dec-21\",\"Jan-22\",\"Feb-22\",\"Mar-22\",\"Apr-22\",\"May-22\",\"Jun-22\",\"Jul-22\",\"Aug-22\",\"Sep-22\",\"Oct-22\",\"Nov-22\",\"Dec-22\",\"Jan-23\",\"Feb-23\",\"Mar-23\",\"Apr-23\",\"May-23\",\"Jun-23\",\"Jul-23\",\"Aug-23\",\"Sep-23\"],\"y\":[4.8,5.0,4.7,4.3,4.5,5.2,5.4,4.1,5.0,4.2,4.7,4.8,5.0,4.2,4.3,4.9,4.3,4.6,5.0,4.4,4.8,4.6,5.2,4.3,4.8,4.6,4.4,10.4,11.0,12.2,17.2,17.3,13.1,11.5,13.4,12.6,12.4,11.7,12.5,13.2,11.9,12.5,11.1,9.0,9.5,8.4,8.0,8.5,8.3,7.5,8.1,7.6,7.8,7.4,6.9,7.4,7.3,6.0,7.0,7.1,6.3,7.0,7.1,7.3,7.8,7.3,8.0,7.3,7.2],\"type\":\"scatter\"}],                        {\"template\":{\"data\":{\"histogram2dcontour\":[{\"type\":\"histogram2dcontour\",\"colorbar\":{\"outlinewidth\":0,\"ticks\":\"\"},\"colorscale\":[[0.0,\"#0d0887\"],[0.1111111111111111,\"#46039f\"],[0.2222222222222222,\"#7201a8\"],[0.3333333333333333,\"#9c179e\"],[0.4444444444444444,\"#bd3786\"],[0.5555555555555556,\"#d8576b\"],[0.6666666666666666,\"#ed7953\"],[0.7777777777777778,\"#fb9f3a\"],[0.8888888888888888,\"#fdca26\"],[1.0,\"#f0f921\"]]}],\"choropleth\":[{\"type\":\"choropleth\",\"colorbar\":{\"outlinewidth\":0,\"ticks\":\"\"}}],\"histogram2d\":[{\"type\":\"histogram2d\",\"colorbar\":{\"outlinewidth\":0,\"ticks\":\"\"},\"colorscale\":[[0.0,\"#0d0887\"],[0.1111111111111111,\"#46039f\"],[0.2222222222222222,\"#7201a8\"],[0.3333333333333333,\"#9c179e\"],[0.4444444444444444,\"#bd3786\"],[0.5555555555555556,\"#d8576b\"],[0.6666666666666666,\"#ed7953\"],[0.7777777777777778,\"#fb9f3a\"],[0.8888888888888888,\"#fdca26\"],[1.0,\"#f0f921\"]]}],\"heatmap\":[{\"type\":\"heatmap\",\"colorbar\":{\"outlinewidth\":0,\"ticks\":\"\"},\"colorscale\":[[0.0,\"#0d0887\"],[0.1111111111111111,\"#46039f\"],[0.2222222222222222,\"#7201a8\"],[0.3333333333333333,\"#9c179e\"],[0.4444444444444444,\"#bd3786\"],[0.5555555555555556,\"#d8576b\"],[0.6666666666666666,\"#ed7953\"],[0.7777777777777778,\"#fb9f3a\"],[0.8888888888888888,\"#fdca26\"],[1.0,\"#f0f921\"]]}],\"heatmapgl\":[{\"type\":\"heatmapgl\",\"colorbar\":{\"outlinewidth\":0,\"ticks\":\"\"},\"colorscale\":[[0.0,\"#0d0887\"],[0.1111111111111111,\"#46039f\"],[0.2222222222222222,\"#7201a8\"],[0.3333333333333333,\"#9c179e\"],[0.4444444444444444,\"#bd3786\"],[0.5555555555555556,\"#d8576b\"],[0.6666666666666666,\"#ed7953\"],[0.7777777777777778,\"#fb9f3a\"],[0.8888888888888888,\"#fdca26\"],[1.0,\"#f0f921\"]]}],\"contourcarpet\":[{\"type\":\"contourcarpet\",\"colorbar\":{\"outlinewidth\":0,\"ticks\":\"\"}}],\"contour\":[{\"type\":\"contour\",\"colorbar\":{\"outlinewidth\":0,\"ticks\":\"\"},\"colorscale\":[[0.0,\"#0d0887\"],[0.1111111111111111,\"#46039f\"],[0.2222222222222222,\"#7201a8\"],[0.3333333333333333,\"#9c179e\"],[0.4444444444444444,\"#bd3786\"],[0.5555555555555556,\"#d8576b\"],[0.6666666666666666,\"#ed7953\"],[0.7777777777777778,\"#fb9f3a\"],[0.8888888888888888,\"#fdca26\"],[1.0,\"#f0f921\"]]}],\"surface\":[{\"type\":\"surface\",\"colorbar\":{\"outlinewidth\":0,\"ticks\":\"\"},\"colorscale\":[[0.0,\"#0d0887\"],[0.1111111111111111,\"#46039f\"],[0.2222222222222222,\"#7201a8\"],[0.3333333333333333,\"#9c179e\"],[0.4444444444444444,\"#bd3786\"],[0.5555555555555556,\"#d8576b\"],[0.6666666666666666,\"#ed7953\"],[0.7777777777777778,\"#fb9f3a\"],[0.8888888888888888,\"#fdca26\"],[1.0,\"#f0f921\"]]}],\"mesh3d\":[{\"type\":\"mesh3d\",\"colorbar\":{\"outlinewidth\":0,\"ticks\":\"\"}}],\"scatter\":[{\"fillpattern\":{\"fillmode\":\"overlay\",\"size\":10,\"solidity\":0.2},\"type\":\"scatter\"}],\"parcoords\":[{\"type\":\"parcoords\",\"line\":{\"colorbar\":{\"outlinewidth\":0,\"ticks\":\"\"}}}],\"scatterpolargl\":[{\"type\":\"scatterpolargl\",\"marker\":{\"colorbar\":{\"outlinewidth\":0,\"ticks\":\"\"}}}],\"bar\":[{\"error_x\":{\"color\":\"#2a3f5f\"},\"error_y\":{\"color\":\"#2a3f5f\"},\"marker\":{\"line\":{\"color\":\"#E5ECF6\",\"width\":0.5},\"pattern\":{\"fillmode\":\"overlay\",\"size\":10,\"solidity\":0.2}},\"type\":\"bar\"}],\"scattergeo\":[{\"type\":\"scattergeo\",\"marker\":{\"colorbar\":{\"outlinewidth\":0,\"ticks\":\"\"}}}],\"scatterpolar\":[{\"type\":\"scatterpolar\",\"marker\":{\"colorbar\":{\"outlinewidth\":0,\"ticks\":\"\"}}}],\"histogram\":[{\"marker\":{\"pattern\":{\"fillmode\":\"overlay\",\"size\":10,\"solidity\":0.2}},\"type\":\"histogram\"}],\"scattergl\":[{\"type\":\"scattergl\",\"marker\":{\"colorbar\":{\"outlinewidth\":0,\"ticks\":\"\"}}}],\"scatter3d\":[{\"type\":\"scatter3d\",\"line\":{\"colorbar\":{\"outlinewidth\":0,\"ticks\":\"\"}},\"marker\":{\"colorbar\":{\"outlinewidth\":0,\"ticks\":\"\"}}}],\"scattermapbox\":[{\"type\":\"scattermapbox\",\"marker\":{\"colorbar\":{\"outlinewidth\":0,\"ticks\":\"\"}}}],\"scatterternary\":[{\"type\":\"scatterternary\",\"marker\":{\"colorbar\":{\"outlinewidth\":0,\"ticks\":\"\"}}}],\"scattercarpet\":[{\"type\":\"scattercarpet\",\"marker\":{\"colorbar\":{\"outlinewidth\":0,\"ticks\":\"\"}}}],\"carpet\":[{\"aaxis\":{\"endlinecolor\":\"#2a3f5f\",\"gridcolor\":\"white\",\"linecolor\":\"white\",\"minorgridcolor\":\"white\",\"startlinecolor\":\"#2a3f5f\"},\"baxis\":{\"endlinecolor\":\"#2a3f5f\",\"gridcolor\":\"white\",\"linecolor\":\"white\",\"minorgridcolor\":\"white\",\"startlinecolor\":\"#2a3f5f\"},\"type\":\"carpet\"}],\"table\":[{\"cells\":{\"fill\":{\"color\":\"#EBF0F8\"},\"line\":{\"color\":\"white\"}},\"header\":{\"fill\":{\"color\":\"#C8D4E3\"},\"line\":{\"color\":\"white\"}},\"type\":\"table\"}],\"barpolar\":[{\"marker\":{\"line\":{\"color\":\"#E5ECF6\",\"width\":0.5},\"pattern\":{\"fillmode\":\"overlay\",\"size\":10,\"solidity\":0.2}},\"type\":\"barpolar\"}],\"pie\":[{\"automargin\":true,\"type\":\"pie\"}]},\"layout\":{\"autotypenumbers\":\"strict\",\"colorway\":[\"#636efa\",\"#EF553B\",\"#00cc96\",\"#ab63fa\",\"#FFA15A\",\"#19d3f3\",\"#FF6692\",\"#B6E880\",\"#FF97FF\",\"#FECB52\"],\"font\":{\"color\":\"#2a3f5f\"},\"hovermode\":\"closest\",\"hoverlabel\":{\"align\":\"left\"},\"paper_bgcolor\":\"white\",\"plot_bgcolor\":\"#E5ECF6\",\"polar\":{\"bgcolor\":\"#E5ECF6\",\"angularaxis\":{\"gridcolor\":\"white\",\"linecolor\":\"white\",\"ticks\":\"\"},\"radialaxis\":{\"gridcolor\":\"white\",\"linecolor\":\"white\",\"ticks\":\"\"}},\"ternary\":{\"bgcolor\":\"#E5ECF6\",\"aaxis\":{\"gridcolor\":\"white\",\"linecolor\":\"white\",\"ticks\":\"\"},\"baxis\":{\"gridcolor\":\"white\",\"linecolor\":\"white\",\"ticks\":\"\"},\"caxis\":{\"gridcolor\":\"white\",\"linecolor\":\"white\",\"ticks\":\"\"}},\"coloraxis\":{\"colorbar\":{\"outlinewidth\":0,\"ticks\":\"\"}},\"colorscale\":{\"sequential\":[[0.0,\"#0d0887\"],[0.1111111111111111,\"#46039f\"],[0.2222222222222222,\"#7201a8\"],[0.3333333333333333,\"#9c179e\"],[0.4444444444444444,\"#bd3786\"],[0.5555555555555556,\"#d8576b\"],[0.6666666666666666,\"#ed7953\"],[0.7777777777777778,\"#fb9f3a\"],[0.8888888888888888,\"#fdca26\"],[1.0,\"#f0f921\"]],\"sequentialminus\":[[0.0,\"#0d0887\"],[0.1111111111111111,\"#46039f\"],[0.2222222222222222,\"#7201a8\"],[0.3333333333333333,\"#9c179e\"],[0.4444444444444444,\"#bd3786\"],[0.5555555555555556,\"#d8576b\"],[0.6666666666666666,\"#ed7953\"],[0.7777777777777778,\"#fb9f3a\"],[0.8888888888888888,\"#fdca26\"],[1.0,\"#f0f921\"]],\"diverging\":[[0,\"#8e0152\"],[0.1,\"#c51b7d\"],[0.2,\"#de77ae\"],[0.3,\"#f1b6da\"],[0.4,\"#fde0ef\"],[0.5,\"#f7f7f7\"],[0.6,\"#e6f5d0\"],[0.7,\"#b8e186\"],[0.8,\"#7fbc41\"],[0.9,\"#4d9221\"],[1,\"#276419\"]]},\"xaxis\":{\"gridcolor\":\"white\",\"linecolor\":\"white\",\"ticks\":\"\",\"title\":{\"standoff\":15},\"zerolinecolor\":\"white\",\"automargin\":true,\"zerolinewidth\":2},\"yaxis\":{\"gridcolor\":\"white\",\"linecolor\":\"white\",\"ticks\":\"\",\"title\":{\"standoff\":15},\"zerolinecolor\":\"white\",\"automargin\":true,\"zerolinewidth\":2},\"scene\":{\"xaxis\":{\"backgroundcolor\":\"#E5ECF6\",\"gridcolor\":\"white\",\"linecolor\":\"white\",\"showbackground\":true,\"ticks\":\"\",\"zerolinecolor\":\"white\",\"gridwidth\":2},\"yaxis\":{\"backgroundcolor\":\"#E5ECF6\",\"gridcolor\":\"white\",\"linecolor\":\"white\",\"showbackground\":true,\"ticks\":\"\",\"zerolinecolor\":\"white\",\"gridwidth\":2},\"zaxis\":{\"backgroundcolor\":\"#E5ECF6\",\"gridcolor\":\"white\",\"linecolor\":\"white\",\"showbackground\":true,\"ticks\":\"\",\"zerolinecolor\":\"white\",\"gridwidth\":2}},\"shapedefaults\":{\"line\":{\"color\":\"#2a3f5f\"}},\"annotationdefaults\":{\"arrowcolor\":\"#2a3f5f\",\"arrowhead\":0,\"arrowwidth\":1},\"geo\":{\"bgcolor\":\"white\",\"landcolor\":\"#E5ECF6\",\"subunitcolor\":\"white\",\"showland\":true,\"showlakes\":true,\"lakecolor\":\"white\"},\"title\":{\"x\":0.05},\"mapbox\":{\"style\":\"light\"}}},\"font\":{\"family\":\"Arial\",\"color\":\"#000000\"},\"title\":{\"font\":{\"color\":\"#000000\",\"size\":30},\"text\":\"Tasa de Subocupaci\\u00f3n\"},\"xaxis\":{\"title\":{\"text\":\"Mes\",\"font\":{\"size\":20}},\"tickfont\":{\"size\":15}},\"yaxis\":{\"title\":{\"text\":\"En porcentaje\",\"font\":{\"size\":20}},\"tickfont\":{\"size\":18},\"linecolor\":\"#000000\",\"ticks\":\"outside\",\"nticks\":10,\"zeroline\":true,\"zerolinewidth\":1.5,\"zerolinecolor\":\"#d62f15\"},\"hoverlabel\":{\"font\":{\"size\":15,\"family\":\"Arial\"}},\"plot_bgcolor\":\"white\",\"separators\":\",\",\"hovermode\":\"x\"},                        {\"responsive\": true}                    ).then(function(){\n",
              "                            \n",
              "var gd = document.getElementById('fcde7b89-4ea2-41b6-b059-efd3b4de66ed');\n",
              "var x = new MutationObserver(function (mutations, observer) {{\n",
              "        var display = window.getComputedStyle(gd).display;\n",
              "        if (!display || display === 'none') {{\n",
              "            console.log([gd, 'removed!']);\n",
              "            Plotly.purge(gd);\n",
              "            observer.disconnect();\n",
              "        }}\n",
              "}});\n",
              "\n",
              "// Listen for the removal of the full notebook cells\n",
              "var notebookContainer = gd.closest('#notebook-container');\n",
              "if (notebookContainer) {{\n",
              "    x.observe(notebookContainer, {childList: true});\n",
              "}}\n",
              "\n",
              "// Listen for the clearing of the current output cell\n",
              "var outputEl = gd.closest('.output');\n",
              "if (outputEl) {{\n",
              "    x.observe(outputEl, {childList: true});\n",
              "}}\n",
              "\n",
              "                        })                };                            </script>        </div>\n",
              "</body>\n",
              "</html>"
            ]
          },
          "metadata": {}
        }
      ]
    },
    {
      "cell_type": "code",
      "source": [
        "x = df1_D.loc['Jan-18':, :].index\n",
        "y1 = round(df1_D.loc['Jan-18':, \"Tasa de Actividad - Total\"], ndigits=1)\n",
        "fig5 = go.Figure()\n",
        "# Agrega una líneas para las variables\n",
        "fig5.add_trace(go.Scatter(x=x, y=y1, mode='lines+markers', name=\"Observado\", line=dict(color='#203864', width=2)))\n",
        "# Set layout\n",
        "fig5.update_layout(font_family = 'Arial', font_color=\"#000000\", plot_bgcolor='white', separators=',',\n",
        "                  title_text='Tasa de Actividad',\n",
        "                  title_font = dict(color='#000000', size=30),\n",
        "                  xaxis=dict(title='Mes', titlefont_size=20, tickfont_size=15),\n",
        "                  yaxis=dict(title='En porcentaje', titlefont_size=20, tickfont_size=18, linecolor=\"#000000\", ticks='outside', nticks=10, zeroline=True, zerolinewidth=1.5, zerolinecolor='#d62f15'),\n",
        "                  hoverlabel=dict(font_size=15,font_family=\"Arial\"),\n",
        "                  hovermode=\"x\"\n",
        "                  )\n",
        "fig5.show()"
      ],
      "metadata": {
        "id": "c3tz1p_JV2ui",
        "colab": {
          "base_uri": "https://localhost:8080/",
          "height": 542
        },
        "outputId": "8c7059c9-080c-4aa2-f095-e51f53ec9a5a"
      },
      "execution_count": null,
      "outputs": [
        {
          "output_type": "display_data",
          "data": {
            "text/html": [
              "<html>\n",
              "<head><meta charset=\"utf-8\" /></head>\n",
              "<body>\n",
              "    <div>            <script src=\"https://cdnjs.cloudflare.com/ajax/libs/mathjax/2.7.5/MathJax.js?config=TeX-AMS-MML_SVG\"></script><script type=\"text/javascript\">if (window.MathJax && window.MathJax.Hub && window.MathJax.Hub.Config) {window.MathJax.Hub.Config({SVG: {font: \"STIX-Web\"}});}</script>                <script type=\"text/javascript\">window.PlotlyConfig = {MathJaxConfig: 'local'};</script>\n",
              "        <script charset=\"utf-8\" src=\"https://cdn.plot.ly/plotly-2.24.1.min.js\"></script>                <div id=\"d7f74809-ad04-4178-abc3-e62fbeb81874\" class=\"plotly-graph-div\" style=\"height:525px; width:100%;\"></div>            <script type=\"text/javascript\">                                    window.PLOTLYENV=window.PLOTLYENV || {};                                    if (document.getElementById(\"d7f74809-ad04-4178-abc3-e62fbeb81874\")) {                    Plotly.newPlot(                        \"d7f74809-ad04-4178-abc3-e62fbeb81874\",                        [{\"line\":{\"color\":\"#203864\",\"width\":2},\"mode\":\"lines+markers\",\"name\":\"Observado\",\"x\":[\"Jan-18\",\"Feb-18\",\"Mar-18\",\"Apr-18\",\"May-18\",\"Jun-18\",\"Jul-18\",\"Aug-18\",\"Sep-18\",\"Oct-18\",\"Nov-18\",\"Dec-18\",\"Jan-19\",\"Feb-19\",\"Mar-19\",\"Apr-19\",\"May-19\",\"Jun-19\",\"Jul-19\",\"Aug-19\",\"Sep-19\",\"Oct-19\",\"Nov-19\",\"Dec-19\",\"Jan-20\",\"Feb-20\",\"Mar-20\",\"Apr-20\",\"May-20\",\"Jun-20\",\"Jul-20\",\"Aug-20\",\"Sep-20\",\"Oct-20\",\"Nov-20\",\"Dec-20\",\"Jan-21\",\"Feb-21\",\"Mar-21\",\"Apr-21\",\"May-21\",\"Jun-21\",\"Jul-21\",\"Aug-21\",\"Sep-21\",\"Oct-21\",\"Nov-21\",\"Dec-21\",\"Jan-22\",\"Feb-22\",\"Mar-22\",\"Apr-22\",\"May-22\",\"Jun-22\",\"Jul-22\",\"Aug-22\",\"Sep-22\",\"Oct-22\",\"Nov-22\",\"Dec-22\",\"Jan-23\",\"Feb-23\",\"Mar-23\",\"Apr-23\",\"May-23\",\"Jun-23\",\"Jul-23\",\"Aug-23\",\"Sep-23\"],\"y\":[64.7,62.7,64.3,65.5,64.9,66.5,67.8,65.4,66.7,66.7,65.3,66.3,69.3,67.7,66.3,67.9,67.4,67.8,69.6,67.8,67.6,67.9,65.4,69.0,69.3,67.8,65.6,59.9,58.6,61.4,62.0,62.7,65.6,65.8,69.4,71.0,69.7,70.8,71.7,71.7,71.9,72.0,73.1,74.1,73.6,74.3,74.0,74.8,73.9,73.2,73.6,72.7,73.6,73.5,73.4,72.8,73.9,73.9,71.7,73.3,74.0,72.6,72.0,73.1,73.5,72.6,74.3,73.8,73.2],\"type\":\"scatter\"}],                        {\"template\":{\"data\":{\"histogram2dcontour\":[{\"type\":\"histogram2dcontour\",\"colorbar\":{\"outlinewidth\":0,\"ticks\":\"\"},\"colorscale\":[[0.0,\"#0d0887\"],[0.1111111111111111,\"#46039f\"],[0.2222222222222222,\"#7201a8\"],[0.3333333333333333,\"#9c179e\"],[0.4444444444444444,\"#bd3786\"],[0.5555555555555556,\"#d8576b\"],[0.6666666666666666,\"#ed7953\"],[0.7777777777777778,\"#fb9f3a\"],[0.8888888888888888,\"#fdca26\"],[1.0,\"#f0f921\"]]}],\"choropleth\":[{\"type\":\"choropleth\",\"colorbar\":{\"outlinewidth\":0,\"ticks\":\"\"}}],\"histogram2d\":[{\"type\":\"histogram2d\",\"colorbar\":{\"outlinewidth\":0,\"ticks\":\"\"},\"colorscale\":[[0.0,\"#0d0887\"],[0.1111111111111111,\"#46039f\"],[0.2222222222222222,\"#7201a8\"],[0.3333333333333333,\"#9c179e\"],[0.4444444444444444,\"#bd3786\"],[0.5555555555555556,\"#d8576b\"],[0.6666666666666666,\"#ed7953\"],[0.7777777777777778,\"#fb9f3a\"],[0.8888888888888888,\"#fdca26\"],[1.0,\"#f0f921\"]]}],\"heatmap\":[{\"type\":\"heatmap\",\"colorbar\":{\"outlinewidth\":0,\"ticks\":\"\"},\"colorscale\":[[0.0,\"#0d0887\"],[0.1111111111111111,\"#46039f\"],[0.2222222222222222,\"#7201a8\"],[0.3333333333333333,\"#9c179e\"],[0.4444444444444444,\"#bd3786\"],[0.5555555555555556,\"#d8576b\"],[0.6666666666666666,\"#ed7953\"],[0.7777777777777778,\"#fb9f3a\"],[0.8888888888888888,\"#fdca26\"],[1.0,\"#f0f921\"]]}],\"heatmapgl\":[{\"type\":\"heatmapgl\",\"colorbar\":{\"outlinewidth\":0,\"ticks\":\"\"},\"colorscale\":[[0.0,\"#0d0887\"],[0.1111111111111111,\"#46039f\"],[0.2222222222222222,\"#7201a8\"],[0.3333333333333333,\"#9c179e\"],[0.4444444444444444,\"#bd3786\"],[0.5555555555555556,\"#d8576b\"],[0.6666666666666666,\"#ed7953\"],[0.7777777777777778,\"#fb9f3a\"],[0.8888888888888888,\"#fdca26\"],[1.0,\"#f0f921\"]]}],\"contourcarpet\":[{\"type\":\"contourcarpet\",\"colorbar\":{\"outlinewidth\":0,\"ticks\":\"\"}}],\"contour\":[{\"type\":\"contour\",\"colorbar\":{\"outlinewidth\":0,\"ticks\":\"\"},\"colorscale\":[[0.0,\"#0d0887\"],[0.1111111111111111,\"#46039f\"],[0.2222222222222222,\"#7201a8\"],[0.3333333333333333,\"#9c179e\"],[0.4444444444444444,\"#bd3786\"],[0.5555555555555556,\"#d8576b\"],[0.6666666666666666,\"#ed7953\"],[0.7777777777777778,\"#fb9f3a\"],[0.8888888888888888,\"#fdca26\"],[1.0,\"#f0f921\"]]}],\"surface\":[{\"type\":\"surface\",\"colorbar\":{\"outlinewidth\":0,\"ticks\":\"\"},\"colorscale\":[[0.0,\"#0d0887\"],[0.1111111111111111,\"#46039f\"],[0.2222222222222222,\"#7201a8\"],[0.3333333333333333,\"#9c179e\"],[0.4444444444444444,\"#bd3786\"],[0.5555555555555556,\"#d8576b\"],[0.6666666666666666,\"#ed7953\"],[0.7777777777777778,\"#fb9f3a\"],[0.8888888888888888,\"#fdca26\"],[1.0,\"#f0f921\"]]}],\"mesh3d\":[{\"type\":\"mesh3d\",\"colorbar\":{\"outlinewidth\":0,\"ticks\":\"\"}}],\"scatter\":[{\"fillpattern\":{\"fillmode\":\"overlay\",\"size\":10,\"solidity\":0.2},\"type\":\"scatter\"}],\"parcoords\":[{\"type\":\"parcoords\",\"line\":{\"colorbar\":{\"outlinewidth\":0,\"ticks\":\"\"}}}],\"scatterpolargl\":[{\"type\":\"scatterpolargl\",\"marker\":{\"colorbar\":{\"outlinewidth\":0,\"ticks\":\"\"}}}],\"bar\":[{\"error_x\":{\"color\":\"#2a3f5f\"},\"error_y\":{\"color\":\"#2a3f5f\"},\"marker\":{\"line\":{\"color\":\"#E5ECF6\",\"width\":0.5},\"pattern\":{\"fillmode\":\"overlay\",\"size\":10,\"solidity\":0.2}},\"type\":\"bar\"}],\"scattergeo\":[{\"type\":\"scattergeo\",\"marker\":{\"colorbar\":{\"outlinewidth\":0,\"ticks\":\"\"}}}],\"scatterpolar\":[{\"type\":\"scatterpolar\",\"marker\":{\"colorbar\":{\"outlinewidth\":0,\"ticks\":\"\"}}}],\"histogram\":[{\"marker\":{\"pattern\":{\"fillmode\":\"overlay\",\"size\":10,\"solidity\":0.2}},\"type\":\"histogram\"}],\"scattergl\":[{\"type\":\"scattergl\",\"marker\":{\"colorbar\":{\"outlinewidth\":0,\"ticks\":\"\"}}}],\"scatter3d\":[{\"type\":\"scatter3d\",\"line\":{\"colorbar\":{\"outlinewidth\":0,\"ticks\":\"\"}},\"marker\":{\"colorbar\":{\"outlinewidth\":0,\"ticks\":\"\"}}}],\"scattermapbox\":[{\"type\":\"scattermapbox\",\"marker\":{\"colorbar\":{\"outlinewidth\":0,\"ticks\":\"\"}}}],\"scatterternary\":[{\"type\":\"scatterternary\",\"marker\":{\"colorbar\":{\"outlinewidth\":0,\"ticks\":\"\"}}}],\"scattercarpet\":[{\"type\":\"scattercarpet\",\"marker\":{\"colorbar\":{\"outlinewidth\":0,\"ticks\":\"\"}}}],\"carpet\":[{\"aaxis\":{\"endlinecolor\":\"#2a3f5f\",\"gridcolor\":\"white\",\"linecolor\":\"white\",\"minorgridcolor\":\"white\",\"startlinecolor\":\"#2a3f5f\"},\"baxis\":{\"endlinecolor\":\"#2a3f5f\",\"gridcolor\":\"white\",\"linecolor\":\"white\",\"minorgridcolor\":\"white\",\"startlinecolor\":\"#2a3f5f\"},\"type\":\"carpet\"}],\"table\":[{\"cells\":{\"fill\":{\"color\":\"#EBF0F8\"},\"line\":{\"color\":\"white\"}},\"header\":{\"fill\":{\"color\":\"#C8D4E3\"},\"line\":{\"color\":\"white\"}},\"type\":\"table\"}],\"barpolar\":[{\"marker\":{\"line\":{\"color\":\"#E5ECF6\",\"width\":0.5},\"pattern\":{\"fillmode\":\"overlay\",\"size\":10,\"solidity\":0.2}},\"type\":\"barpolar\"}],\"pie\":[{\"automargin\":true,\"type\":\"pie\"}]},\"layout\":{\"autotypenumbers\":\"strict\",\"colorway\":[\"#636efa\",\"#EF553B\",\"#00cc96\",\"#ab63fa\",\"#FFA15A\",\"#19d3f3\",\"#FF6692\",\"#B6E880\",\"#FF97FF\",\"#FECB52\"],\"font\":{\"color\":\"#2a3f5f\"},\"hovermode\":\"closest\",\"hoverlabel\":{\"align\":\"left\"},\"paper_bgcolor\":\"white\",\"plot_bgcolor\":\"#E5ECF6\",\"polar\":{\"bgcolor\":\"#E5ECF6\",\"angularaxis\":{\"gridcolor\":\"white\",\"linecolor\":\"white\",\"ticks\":\"\"},\"radialaxis\":{\"gridcolor\":\"white\",\"linecolor\":\"white\",\"ticks\":\"\"}},\"ternary\":{\"bgcolor\":\"#E5ECF6\",\"aaxis\":{\"gridcolor\":\"white\",\"linecolor\":\"white\",\"ticks\":\"\"},\"baxis\":{\"gridcolor\":\"white\",\"linecolor\":\"white\",\"ticks\":\"\"},\"caxis\":{\"gridcolor\":\"white\",\"linecolor\":\"white\",\"ticks\":\"\"}},\"coloraxis\":{\"colorbar\":{\"outlinewidth\":0,\"ticks\":\"\"}},\"colorscale\":{\"sequential\":[[0.0,\"#0d0887\"],[0.1111111111111111,\"#46039f\"],[0.2222222222222222,\"#7201a8\"],[0.3333333333333333,\"#9c179e\"],[0.4444444444444444,\"#bd3786\"],[0.5555555555555556,\"#d8576b\"],[0.6666666666666666,\"#ed7953\"],[0.7777777777777778,\"#fb9f3a\"],[0.8888888888888888,\"#fdca26\"],[1.0,\"#f0f921\"]],\"sequentialminus\":[[0.0,\"#0d0887\"],[0.1111111111111111,\"#46039f\"],[0.2222222222222222,\"#7201a8\"],[0.3333333333333333,\"#9c179e\"],[0.4444444444444444,\"#bd3786\"],[0.5555555555555556,\"#d8576b\"],[0.6666666666666666,\"#ed7953\"],[0.7777777777777778,\"#fb9f3a\"],[0.8888888888888888,\"#fdca26\"],[1.0,\"#f0f921\"]],\"diverging\":[[0,\"#8e0152\"],[0.1,\"#c51b7d\"],[0.2,\"#de77ae\"],[0.3,\"#f1b6da\"],[0.4,\"#fde0ef\"],[0.5,\"#f7f7f7\"],[0.6,\"#e6f5d0\"],[0.7,\"#b8e186\"],[0.8,\"#7fbc41\"],[0.9,\"#4d9221\"],[1,\"#276419\"]]},\"xaxis\":{\"gridcolor\":\"white\",\"linecolor\":\"white\",\"ticks\":\"\",\"title\":{\"standoff\":15},\"zerolinecolor\":\"white\",\"automargin\":true,\"zerolinewidth\":2},\"yaxis\":{\"gridcolor\":\"white\",\"linecolor\":\"white\",\"ticks\":\"\",\"title\":{\"standoff\":15},\"zerolinecolor\":\"white\",\"automargin\":true,\"zerolinewidth\":2},\"scene\":{\"xaxis\":{\"backgroundcolor\":\"#E5ECF6\",\"gridcolor\":\"white\",\"linecolor\":\"white\",\"showbackground\":true,\"ticks\":\"\",\"zerolinecolor\":\"white\",\"gridwidth\":2},\"yaxis\":{\"backgroundcolor\":\"#E5ECF6\",\"gridcolor\":\"white\",\"linecolor\":\"white\",\"showbackground\":true,\"ticks\":\"\",\"zerolinecolor\":\"white\",\"gridwidth\":2},\"zaxis\":{\"backgroundcolor\":\"#E5ECF6\",\"gridcolor\":\"white\",\"linecolor\":\"white\",\"showbackground\":true,\"ticks\":\"\",\"zerolinecolor\":\"white\",\"gridwidth\":2}},\"shapedefaults\":{\"line\":{\"color\":\"#2a3f5f\"}},\"annotationdefaults\":{\"arrowcolor\":\"#2a3f5f\",\"arrowhead\":0,\"arrowwidth\":1},\"geo\":{\"bgcolor\":\"white\",\"landcolor\":\"#E5ECF6\",\"subunitcolor\":\"white\",\"showland\":true,\"showlakes\":true,\"lakecolor\":\"white\"},\"title\":{\"x\":0.05},\"mapbox\":{\"style\":\"light\"}}},\"font\":{\"family\":\"Arial\",\"color\":\"#000000\"},\"title\":{\"font\":{\"color\":\"#000000\",\"size\":30},\"text\":\"Tasa de Actividad\"},\"xaxis\":{\"title\":{\"text\":\"Mes\",\"font\":{\"size\":20}},\"tickfont\":{\"size\":15}},\"yaxis\":{\"title\":{\"text\":\"En porcentaje\",\"font\":{\"size\":20}},\"tickfont\":{\"size\":18},\"linecolor\":\"#000000\",\"ticks\":\"outside\",\"nticks\":10,\"zeroline\":true,\"zerolinewidth\":1.5,\"zerolinecolor\":\"#d62f15\"},\"hoverlabel\":{\"font\":{\"size\":15,\"family\":\"Arial\"}},\"plot_bgcolor\":\"white\",\"separators\":\",\",\"hovermode\":\"x\"},                        {\"responsive\": true}                    ).then(function(){\n",
              "                            \n",
              "var gd = document.getElementById('d7f74809-ad04-4178-abc3-e62fbeb81874');\n",
              "var x = new MutationObserver(function (mutations, observer) {{\n",
              "        var display = window.getComputedStyle(gd).display;\n",
              "        if (!display || display === 'none') {{\n",
              "            console.log([gd, 'removed!']);\n",
              "            Plotly.purge(gd);\n",
              "            observer.disconnect();\n",
              "        }}\n",
              "}});\n",
              "\n",
              "// Listen for the removal of the full notebook cells\n",
              "var notebookContainer = gd.closest('#notebook-container');\n",
              "if (notebookContainer) {{\n",
              "    x.observe(notebookContainer, {childList: true});\n",
              "}}\n",
              "\n",
              "// Listen for the clearing of the current output cell\n",
              "var outputEl = gd.closest('.output');\n",
              "if (outputEl) {{\n",
              "    x.observe(outputEl, {childList: true});\n",
              "}}\n",
              "\n",
              "                        })                };                            </script>        </div>\n",
              "</body>\n",
              "</html>"
            ]
          },
          "metadata": {}
        }
      ]
    },
    {
      "cell_type": "code",
      "source": [
        "x = df1_D.loc['Jan-18':, :].index\n",
        "y1 = round(df1_D.loc['Jan-18':, \"Tasa de Subocupación - Total\"], ndigits=1)\n",
        "y2 = round(df1_D.loc['Jan-18':, \"Tasa de Subocupación - Hombres\"], ndigits=1)\n",
        "y3 = round(df1_D.loc['Jan-18':, \"Tasa de Subocupación - Mujeres\"], ndigits=1)\n",
        "fig6 = go.Figure()\n",
        "# Agrega una líneas para las variables\n",
        "fig6.add_trace(go.Scatter(x=x, y=y1, mode='lines+markers', name=\"Total\", line=dict(color='#203864', width=2)))\n",
        "fig6.add_trace(go.Scatter(x=x, y=y2, mode='lines+markers', name=\"Hombres\", line=dict(color='#2888AA', width=2)))\n",
        "fig6.add_trace(go.Scatter(x=x, y=y3, mode='lines+markers', name=\"Mujeres\", line=dict(color='#A5A5A5', width=2)))\n",
        "# Set layout\n",
        "fig6.update_layout(font_family = 'Arial', font_color=\"#000000\", plot_bgcolor='white', separators=',',\n",
        "                  title_text='Tasa de Subocupación, hombres y mujeres',\n",
        "                  title_font = dict(color='#000000', size=30),\n",
        "                  xaxis=dict(title='Mes', titlefont_size=20, tickfont_size=15),\n",
        "                  yaxis=dict(title='En porcentaje', titlefont_size=20, tickfont_size=18, linecolor=\"#000000\", ticks='outside', nticks=10, zeroline=True, zerolinewidth=1.5, zerolinecolor='#d62f15'),\n",
        "                  hoverlabel=dict(font_size=15,font_family=\"Arial\"),\n",
        "                  hovermode=\"x\",\n",
        "                  legend=dict(\n",
        "                      x=0.75,  # Posición x de la leyenda (valor entre 0 y 1)\n",
        "                      y=0.9,  # Posición y de la leyenda (valor mayor a 1 para estar por encima del gráfico)\n",
        "                      traceorder='normal',  # Orden de las entradas en la leyenda\n",
        "                      font=dict(family='Arial', size=20),  # Configuración de fuente de la leyenda\n",
        "                  ) )\n",
        "fig6.show()"
      ],
      "metadata": {
        "id": "cMLKZpuAV2rj",
        "colab": {
          "base_uri": "https://localhost:8080/",
          "height": 542
        },
        "outputId": "564e9709-eb47-423b-b32b-e9c82eb70e23"
      },
      "execution_count": null,
      "outputs": [
        {
          "output_type": "display_data",
          "data": {
            "text/html": [
              "<html>\n",
              "<head><meta charset=\"utf-8\" /></head>\n",
              "<body>\n",
              "    <div>            <script src=\"https://cdnjs.cloudflare.com/ajax/libs/mathjax/2.7.5/MathJax.js?config=TeX-AMS-MML_SVG\"></script><script type=\"text/javascript\">if (window.MathJax && window.MathJax.Hub && window.MathJax.Hub.Config) {window.MathJax.Hub.Config({SVG: {font: \"STIX-Web\"}});}</script>                <script type=\"text/javascript\">window.PlotlyConfig = {MathJaxConfig: 'local'};</script>\n",
              "        <script charset=\"utf-8\" src=\"https://cdn.plot.ly/plotly-2.24.1.min.js\"></script>                <div id=\"fc155bdb-d156-4d27-8e45-e7b9b45617cf\" class=\"plotly-graph-div\" style=\"height:525px; width:100%;\"></div>            <script type=\"text/javascript\">                                    window.PLOTLYENV=window.PLOTLYENV || {};                                    if (document.getElementById(\"fc155bdb-d156-4d27-8e45-e7b9b45617cf\")) {                    Plotly.newPlot(                        \"fc155bdb-d156-4d27-8e45-e7b9b45617cf\",                        [{\"line\":{\"color\":\"#203864\",\"width\":2},\"mode\":\"lines+markers\",\"name\":\"Total\",\"x\":[\"Jan-18\",\"Feb-18\",\"Mar-18\",\"Apr-18\",\"May-18\",\"Jun-18\",\"Jul-18\",\"Aug-18\",\"Sep-18\",\"Oct-18\",\"Nov-18\",\"Dec-18\",\"Jan-19\",\"Feb-19\",\"Mar-19\",\"Apr-19\",\"May-19\",\"Jun-19\",\"Jul-19\",\"Aug-19\",\"Sep-19\",\"Oct-19\",\"Nov-19\",\"Dec-19\",\"Jan-20\",\"Feb-20\",\"Mar-20\",\"Apr-20\",\"May-20\",\"Jun-20\",\"Jul-20\",\"Aug-20\",\"Sep-20\",\"Oct-20\",\"Nov-20\",\"Dec-20\",\"Jan-21\",\"Feb-21\",\"Mar-21\",\"Apr-21\",\"May-21\",\"Jun-21\",\"Jul-21\",\"Aug-21\",\"Sep-21\",\"Oct-21\",\"Nov-21\",\"Dec-21\",\"Jan-22\",\"Feb-22\",\"Mar-22\",\"Apr-22\",\"May-22\",\"Jun-22\",\"Jul-22\",\"Aug-22\",\"Sep-22\",\"Oct-22\",\"Nov-22\",\"Dec-22\",\"Jan-23\",\"Feb-23\",\"Mar-23\",\"Apr-23\",\"May-23\",\"Jun-23\",\"Jul-23\",\"Aug-23\",\"Sep-23\"],\"y\":[4.8,5.0,4.7,4.3,4.5,5.2,5.4,4.1,5.0,4.2,4.7,4.8,5.0,4.2,4.3,4.9,4.3,4.6,5.0,4.4,4.8,4.6,5.2,4.3,4.8,4.6,4.4,10.4,11.0,12.2,17.2,17.3,13.1,11.5,13.4,12.6,12.4,11.7,12.5,13.2,11.9,12.5,11.1,9.0,9.5,8.4,8.0,8.5,8.3,7.5,8.1,7.6,7.8,7.4,6.9,7.4,7.3,6.0,7.0,7.1,6.3,7.0,7.1,7.3,7.8,7.3,8.0,7.3,7.2],\"type\":\"scatter\"},{\"line\":{\"color\":\"#2888AA\",\"width\":2},\"mode\":\"lines+markers\",\"name\":\"Hombres\",\"x\":[\"Jan-18\",\"Feb-18\",\"Mar-18\",\"Apr-18\",\"May-18\",\"Jun-18\",\"Jul-18\",\"Aug-18\",\"Sep-18\",\"Oct-18\",\"Nov-18\",\"Dec-18\",\"Jan-19\",\"Feb-19\",\"Mar-19\",\"Apr-19\",\"May-19\",\"Jun-19\",\"Jul-19\",\"Aug-19\",\"Sep-19\",\"Oct-19\",\"Nov-19\",\"Dec-19\",\"Jan-20\",\"Feb-20\",\"Mar-20\",\"Apr-20\",\"May-20\",\"Jun-20\",\"Jul-20\",\"Aug-20\",\"Sep-20\",\"Oct-20\",\"Nov-20\",\"Dec-20\",\"Jan-21\",\"Feb-21\",\"Mar-21\",\"Apr-21\",\"May-21\",\"Jun-21\",\"Jul-21\",\"Aug-21\",\"Sep-21\",\"Oct-21\",\"Nov-21\",\"Dec-21\",\"Jan-22\",\"Feb-22\",\"Mar-22\",\"Apr-22\",\"May-22\",\"Jun-22\",\"Jul-22\",\"Aug-22\",\"Sep-22\",\"Oct-22\",\"Nov-22\",\"Dec-22\",\"Jan-23\",\"Feb-23\",\"Mar-23\",\"Apr-23\",\"May-23\",\"Jun-23\",\"Jul-23\",\"Aug-23\",\"Sep-23\"],\"y\":[3.5,4.0,3.3,3.5,4.1,3.9,4.2,3.6,4.1,3.2,3.7,3.9,3.7,3.3,3.1,4.2,3.5,3.7,3.4,3.3,3.9,3.5,4.3,3.0,3.5,3.5,3.3,7.3,8.6,9.9,15.8,14.4,10.1,9.2,10.8,9.7,9.7,9.2,10.3,10.4,8.9,9.2,9.0,7.4,7.2,6.2,6.7,7.3,6.6,6.5,6.5,5.5,6.6,6.0,4.5,5.2,5.7,3.7,5.2,5.9,5.2,6.1,5.4,5.4,6.2,5.8,5.7,5.7,6.0],\"type\":\"scatter\"},{\"line\":{\"color\":\"#A5A5A5\",\"width\":2},\"mode\":\"lines+markers\",\"name\":\"Mujeres\",\"x\":[\"Jan-18\",\"Feb-18\",\"Mar-18\",\"Apr-18\",\"May-18\",\"Jun-18\",\"Jul-18\",\"Aug-18\",\"Sep-18\",\"Oct-18\",\"Nov-18\",\"Dec-18\",\"Jan-19\",\"Feb-19\",\"Mar-19\",\"Apr-19\",\"May-19\",\"Jun-19\",\"Jul-19\",\"Aug-19\",\"Sep-19\",\"Oct-19\",\"Nov-19\",\"Dec-19\",\"Jan-20\",\"Feb-20\",\"Mar-20\",\"Apr-20\",\"May-20\",\"Jun-20\",\"Jul-20\",\"Aug-20\",\"Sep-20\",\"Oct-20\",\"Nov-20\",\"Dec-20\",\"Jan-21\",\"Feb-21\",\"Mar-21\",\"Apr-21\",\"May-21\",\"Jun-21\",\"Jul-21\",\"Aug-21\",\"Sep-21\",\"Oct-21\",\"Nov-21\",\"Dec-21\",\"Jan-22\",\"Feb-22\",\"Mar-22\",\"Apr-22\",\"May-22\",\"Jun-22\",\"Jul-22\",\"Aug-22\",\"Sep-22\",\"Oct-22\",\"Nov-22\",\"Dec-22\",\"Jan-23\",\"Feb-23\",\"Mar-23\",\"Apr-23\",\"May-23\",\"Jun-23\",\"Jul-23\",\"Aug-23\",\"Sep-23\"],\"y\":[6.6,6.2,6.5,5.3,5.0,6.7,6.7,4.7,6.0,5.4,5.9,5.8,6.6,5.3,5.7,5.8,5.3,5.6,7.0,5.6,6.0,6.0,6.3,5.9,6.5,6.0,5.8,14.3,13.9,15.0,18.9,21.1,17.0,14.5,16.5,16.1,15.7,14.6,14.9,16.6,15.4,16.5,13.4,10.8,12.2,10.9,9.5,9.9,10.3,8.6,9.8,9.9,9.2,8.8,9.6,9.8,9.0,8.6,9.2,8.5,7.4,8.1,9.1,9.4,9.6,9.0,10.7,9.2,8.5],\"type\":\"scatter\"}],                        {\"template\":{\"data\":{\"histogram2dcontour\":[{\"type\":\"histogram2dcontour\",\"colorbar\":{\"outlinewidth\":0,\"ticks\":\"\"},\"colorscale\":[[0.0,\"#0d0887\"],[0.1111111111111111,\"#46039f\"],[0.2222222222222222,\"#7201a8\"],[0.3333333333333333,\"#9c179e\"],[0.4444444444444444,\"#bd3786\"],[0.5555555555555556,\"#d8576b\"],[0.6666666666666666,\"#ed7953\"],[0.7777777777777778,\"#fb9f3a\"],[0.8888888888888888,\"#fdca26\"],[1.0,\"#f0f921\"]]}],\"choropleth\":[{\"type\":\"choropleth\",\"colorbar\":{\"outlinewidth\":0,\"ticks\":\"\"}}],\"histogram2d\":[{\"type\":\"histogram2d\",\"colorbar\":{\"outlinewidth\":0,\"ticks\":\"\"},\"colorscale\":[[0.0,\"#0d0887\"],[0.1111111111111111,\"#46039f\"],[0.2222222222222222,\"#7201a8\"],[0.3333333333333333,\"#9c179e\"],[0.4444444444444444,\"#bd3786\"],[0.5555555555555556,\"#d8576b\"],[0.6666666666666666,\"#ed7953\"],[0.7777777777777778,\"#fb9f3a\"],[0.8888888888888888,\"#fdca26\"],[1.0,\"#f0f921\"]]}],\"heatmap\":[{\"type\":\"heatmap\",\"colorbar\":{\"outlinewidth\":0,\"ticks\":\"\"},\"colorscale\":[[0.0,\"#0d0887\"],[0.1111111111111111,\"#46039f\"],[0.2222222222222222,\"#7201a8\"],[0.3333333333333333,\"#9c179e\"],[0.4444444444444444,\"#bd3786\"],[0.5555555555555556,\"#d8576b\"],[0.6666666666666666,\"#ed7953\"],[0.7777777777777778,\"#fb9f3a\"],[0.8888888888888888,\"#fdca26\"],[1.0,\"#f0f921\"]]}],\"heatmapgl\":[{\"type\":\"heatmapgl\",\"colorbar\":{\"outlinewidth\":0,\"ticks\":\"\"},\"colorscale\":[[0.0,\"#0d0887\"],[0.1111111111111111,\"#46039f\"],[0.2222222222222222,\"#7201a8\"],[0.3333333333333333,\"#9c179e\"],[0.4444444444444444,\"#bd3786\"],[0.5555555555555556,\"#d8576b\"],[0.6666666666666666,\"#ed7953\"],[0.7777777777777778,\"#fb9f3a\"],[0.8888888888888888,\"#fdca26\"],[1.0,\"#f0f921\"]]}],\"contourcarpet\":[{\"type\":\"contourcarpet\",\"colorbar\":{\"outlinewidth\":0,\"ticks\":\"\"}}],\"contour\":[{\"type\":\"contour\",\"colorbar\":{\"outlinewidth\":0,\"ticks\":\"\"},\"colorscale\":[[0.0,\"#0d0887\"],[0.1111111111111111,\"#46039f\"],[0.2222222222222222,\"#7201a8\"],[0.3333333333333333,\"#9c179e\"],[0.4444444444444444,\"#bd3786\"],[0.5555555555555556,\"#d8576b\"],[0.6666666666666666,\"#ed7953\"],[0.7777777777777778,\"#fb9f3a\"],[0.8888888888888888,\"#fdca26\"],[1.0,\"#f0f921\"]]}],\"surface\":[{\"type\":\"surface\",\"colorbar\":{\"outlinewidth\":0,\"ticks\":\"\"},\"colorscale\":[[0.0,\"#0d0887\"],[0.1111111111111111,\"#46039f\"],[0.2222222222222222,\"#7201a8\"],[0.3333333333333333,\"#9c179e\"],[0.4444444444444444,\"#bd3786\"],[0.5555555555555556,\"#d8576b\"],[0.6666666666666666,\"#ed7953\"],[0.7777777777777778,\"#fb9f3a\"],[0.8888888888888888,\"#fdca26\"],[1.0,\"#f0f921\"]]}],\"mesh3d\":[{\"type\":\"mesh3d\",\"colorbar\":{\"outlinewidth\":0,\"ticks\":\"\"}}],\"scatter\":[{\"fillpattern\":{\"fillmode\":\"overlay\",\"size\":10,\"solidity\":0.2},\"type\":\"scatter\"}],\"parcoords\":[{\"type\":\"parcoords\",\"line\":{\"colorbar\":{\"outlinewidth\":0,\"ticks\":\"\"}}}],\"scatterpolargl\":[{\"type\":\"scatterpolargl\",\"marker\":{\"colorbar\":{\"outlinewidth\":0,\"ticks\":\"\"}}}],\"bar\":[{\"error_x\":{\"color\":\"#2a3f5f\"},\"error_y\":{\"color\":\"#2a3f5f\"},\"marker\":{\"line\":{\"color\":\"#E5ECF6\",\"width\":0.5},\"pattern\":{\"fillmode\":\"overlay\",\"size\":10,\"solidity\":0.2}},\"type\":\"bar\"}],\"scattergeo\":[{\"type\":\"scattergeo\",\"marker\":{\"colorbar\":{\"outlinewidth\":0,\"ticks\":\"\"}}}],\"scatterpolar\":[{\"type\":\"scatterpolar\",\"marker\":{\"colorbar\":{\"outlinewidth\":0,\"ticks\":\"\"}}}],\"histogram\":[{\"marker\":{\"pattern\":{\"fillmode\":\"overlay\",\"size\":10,\"solidity\":0.2}},\"type\":\"histogram\"}],\"scattergl\":[{\"type\":\"scattergl\",\"marker\":{\"colorbar\":{\"outlinewidth\":0,\"ticks\":\"\"}}}],\"scatter3d\":[{\"type\":\"scatter3d\",\"line\":{\"colorbar\":{\"outlinewidth\":0,\"ticks\":\"\"}},\"marker\":{\"colorbar\":{\"outlinewidth\":0,\"ticks\":\"\"}}}],\"scattermapbox\":[{\"type\":\"scattermapbox\",\"marker\":{\"colorbar\":{\"outlinewidth\":0,\"ticks\":\"\"}}}],\"scatterternary\":[{\"type\":\"scatterternary\",\"marker\":{\"colorbar\":{\"outlinewidth\":0,\"ticks\":\"\"}}}],\"scattercarpet\":[{\"type\":\"scattercarpet\",\"marker\":{\"colorbar\":{\"outlinewidth\":0,\"ticks\":\"\"}}}],\"carpet\":[{\"aaxis\":{\"endlinecolor\":\"#2a3f5f\",\"gridcolor\":\"white\",\"linecolor\":\"white\",\"minorgridcolor\":\"white\",\"startlinecolor\":\"#2a3f5f\"},\"baxis\":{\"endlinecolor\":\"#2a3f5f\",\"gridcolor\":\"white\",\"linecolor\":\"white\",\"minorgridcolor\":\"white\",\"startlinecolor\":\"#2a3f5f\"},\"type\":\"carpet\"}],\"table\":[{\"cells\":{\"fill\":{\"color\":\"#EBF0F8\"},\"line\":{\"color\":\"white\"}},\"header\":{\"fill\":{\"color\":\"#C8D4E3\"},\"line\":{\"color\":\"white\"}},\"type\":\"table\"}],\"barpolar\":[{\"marker\":{\"line\":{\"color\":\"#E5ECF6\",\"width\":0.5},\"pattern\":{\"fillmode\":\"overlay\",\"size\":10,\"solidity\":0.2}},\"type\":\"barpolar\"}],\"pie\":[{\"automargin\":true,\"type\":\"pie\"}]},\"layout\":{\"autotypenumbers\":\"strict\",\"colorway\":[\"#636efa\",\"#EF553B\",\"#00cc96\",\"#ab63fa\",\"#FFA15A\",\"#19d3f3\",\"#FF6692\",\"#B6E880\",\"#FF97FF\",\"#FECB52\"],\"font\":{\"color\":\"#2a3f5f\"},\"hovermode\":\"closest\",\"hoverlabel\":{\"align\":\"left\"},\"paper_bgcolor\":\"white\",\"plot_bgcolor\":\"#E5ECF6\",\"polar\":{\"bgcolor\":\"#E5ECF6\",\"angularaxis\":{\"gridcolor\":\"white\",\"linecolor\":\"white\",\"ticks\":\"\"},\"radialaxis\":{\"gridcolor\":\"white\",\"linecolor\":\"white\",\"ticks\":\"\"}},\"ternary\":{\"bgcolor\":\"#E5ECF6\",\"aaxis\":{\"gridcolor\":\"white\",\"linecolor\":\"white\",\"ticks\":\"\"},\"baxis\":{\"gridcolor\":\"white\",\"linecolor\":\"white\",\"ticks\":\"\"},\"caxis\":{\"gridcolor\":\"white\",\"linecolor\":\"white\",\"ticks\":\"\"}},\"coloraxis\":{\"colorbar\":{\"outlinewidth\":0,\"ticks\":\"\"}},\"colorscale\":{\"sequential\":[[0.0,\"#0d0887\"],[0.1111111111111111,\"#46039f\"],[0.2222222222222222,\"#7201a8\"],[0.3333333333333333,\"#9c179e\"],[0.4444444444444444,\"#bd3786\"],[0.5555555555555556,\"#d8576b\"],[0.6666666666666666,\"#ed7953\"],[0.7777777777777778,\"#fb9f3a\"],[0.8888888888888888,\"#fdca26\"],[1.0,\"#f0f921\"]],\"sequentialminus\":[[0.0,\"#0d0887\"],[0.1111111111111111,\"#46039f\"],[0.2222222222222222,\"#7201a8\"],[0.3333333333333333,\"#9c179e\"],[0.4444444444444444,\"#bd3786\"],[0.5555555555555556,\"#d8576b\"],[0.6666666666666666,\"#ed7953\"],[0.7777777777777778,\"#fb9f3a\"],[0.8888888888888888,\"#fdca26\"],[1.0,\"#f0f921\"]],\"diverging\":[[0,\"#8e0152\"],[0.1,\"#c51b7d\"],[0.2,\"#de77ae\"],[0.3,\"#f1b6da\"],[0.4,\"#fde0ef\"],[0.5,\"#f7f7f7\"],[0.6,\"#e6f5d0\"],[0.7,\"#b8e186\"],[0.8,\"#7fbc41\"],[0.9,\"#4d9221\"],[1,\"#276419\"]]},\"xaxis\":{\"gridcolor\":\"white\",\"linecolor\":\"white\",\"ticks\":\"\",\"title\":{\"standoff\":15},\"zerolinecolor\":\"white\",\"automargin\":true,\"zerolinewidth\":2},\"yaxis\":{\"gridcolor\":\"white\",\"linecolor\":\"white\",\"ticks\":\"\",\"title\":{\"standoff\":15},\"zerolinecolor\":\"white\",\"automargin\":true,\"zerolinewidth\":2},\"scene\":{\"xaxis\":{\"backgroundcolor\":\"#E5ECF6\",\"gridcolor\":\"white\",\"linecolor\":\"white\",\"showbackground\":true,\"ticks\":\"\",\"zerolinecolor\":\"white\",\"gridwidth\":2},\"yaxis\":{\"backgroundcolor\":\"#E5ECF6\",\"gridcolor\":\"white\",\"linecolor\":\"white\",\"showbackground\":true,\"ticks\":\"\",\"zerolinecolor\":\"white\",\"gridwidth\":2},\"zaxis\":{\"backgroundcolor\":\"#E5ECF6\",\"gridcolor\":\"white\",\"linecolor\":\"white\",\"showbackground\":true,\"ticks\":\"\",\"zerolinecolor\":\"white\",\"gridwidth\":2}},\"shapedefaults\":{\"line\":{\"color\":\"#2a3f5f\"}},\"annotationdefaults\":{\"arrowcolor\":\"#2a3f5f\",\"arrowhead\":0,\"arrowwidth\":1},\"geo\":{\"bgcolor\":\"white\",\"landcolor\":\"#E5ECF6\",\"subunitcolor\":\"white\",\"showland\":true,\"showlakes\":true,\"lakecolor\":\"white\"},\"title\":{\"x\":0.05},\"mapbox\":{\"style\":\"light\"}}},\"font\":{\"family\":\"Arial\",\"color\":\"#000000\"},\"title\":{\"font\":{\"color\":\"#000000\",\"size\":30},\"text\":\"Tasa de Subocupaci\\u00f3n, hombres y mujeres\"},\"xaxis\":{\"title\":{\"text\":\"Mes\",\"font\":{\"size\":20}},\"tickfont\":{\"size\":15}},\"yaxis\":{\"title\":{\"text\":\"En porcentaje\",\"font\":{\"size\":20}},\"tickfont\":{\"size\":18},\"linecolor\":\"#000000\",\"ticks\":\"outside\",\"nticks\":10,\"zeroline\":true,\"zerolinewidth\":1.5,\"zerolinecolor\":\"#d62f15\"},\"hoverlabel\":{\"font\":{\"size\":15,\"family\":\"Arial\"}},\"legend\":{\"font\":{\"family\":\"Arial\",\"size\":20},\"x\":0.75,\"y\":0.9,\"traceorder\":\"normal\"},\"plot_bgcolor\":\"white\",\"separators\":\",\",\"hovermode\":\"x\"},                        {\"responsive\": true}                    ).then(function(){\n",
              "                            \n",
              "var gd = document.getElementById('fc155bdb-d156-4d27-8e45-e7b9b45617cf');\n",
              "var x = new MutationObserver(function (mutations, observer) {{\n",
              "        var display = window.getComputedStyle(gd).display;\n",
              "        if (!display || display === 'none') {{\n",
              "            console.log([gd, 'removed!']);\n",
              "            Plotly.purge(gd);\n",
              "            observer.disconnect();\n",
              "        }}\n",
              "}});\n",
              "\n",
              "// Listen for the removal of the full notebook cells\n",
              "var notebookContainer = gd.closest('#notebook-container');\n",
              "if (notebookContainer) {{\n",
              "    x.observe(notebookContainer, {childList: true});\n",
              "}}\n",
              "\n",
              "// Listen for the clearing of the current output cell\n",
              "var outputEl = gd.closest('.output');\n",
              "if (outputEl) {{\n",
              "    x.observe(outputEl, {childList: true});\n",
              "}}\n",
              "\n",
              "                        })                };                            </script>        </div>\n",
              "</body>\n",
              "</html>"
            ]
          },
          "metadata": {}
        }
      ]
    },
    {
      "cell_type": "code",
      "source": [
        "x = df1_D.loc['Jan-18':, :].index\n",
        "y1 = round(df1_D.loc['Jan-18':, \"Tasa de Actividad - Total\"], ndigits=1)\n",
        "y2 = round(df1_D.loc['Jan-18':, \"Tasa de Actividad - Hombres\"], ndigits=1)\n",
        "y3 = round(df1_D.loc['Jan-18':, \"Tasa de Actividad - Mujeres\"], ndigits=1)\n",
        "fig7 = go.Figure()\n",
        "# Agrega una líneas para las variables\n",
        "fig7.add_trace(go.Scatter(x=x, y=y1, mode='lines+markers', name=\"Total\", line=dict(color='#203864', width=2)))\n",
        "fig7.add_trace(go.Scatter(x=x, y=y2, mode='lines+markers', name=\"Hombres\", line=dict(color='#2888AA', width=2)))\n",
        "fig7.add_trace(go.Scatter(x=x, y=y3, mode='lines+markers', name=\"Mujeres\", line=dict(color='#A5A5A5', width=2)))\n",
        "# Set layout\n",
        "fig7.update_layout(font_family = 'Arial', font_color=\"#000000\", plot_bgcolor='white', separators=',',\n",
        "                  title_text='Tasa de Actividad, hombres y mujeres',\n",
        "                  title_font = dict(color='#000000', size=30),\n",
        "                  xaxis=dict(title='Mes', titlefont_size=20, tickfont_size=15),\n",
        "                  yaxis=dict(title='En porcentaje', titlefont_size=20, tickfont_size=18, linecolor=\"#000000\", ticks='outside', nticks=10, zeroline=True, zerolinewidth=1.5, zerolinecolor='#d62f15'),\n",
        "                  hoverlabel=dict(font_size=15,font_family=\"Arial\"),\n",
        "                  hovermode=\"x\",\n",
        "                  legend=dict(\n",
        "                      x=0.75,  # Posición x de la leyenda (valor entre 0 y 1)\n",
        "                      y=0.1,  # Posición y de la leyenda (valor mayor a 1 para estar por encima del gráfico)\n",
        "                      traceorder='normal',  # Orden de las entradas en la leyenda\n",
        "                      font=dict(family='Arial', size=20),  # Configuración de fuente de la leyenda\n",
        "                  ) )\n",
        "fig7.show()"
      ],
      "metadata": {
        "id": "hZgcdsRRcIrr",
        "colab": {
          "base_uri": "https://localhost:8080/",
          "height": 542
        },
        "outputId": "3c7682b7-ebdd-4ee5-b129-0e564ff1393d"
      },
      "execution_count": null,
      "outputs": [
        {
          "output_type": "display_data",
          "data": {
            "text/html": [
              "<html>\n",
              "<head><meta charset=\"utf-8\" /></head>\n",
              "<body>\n",
              "    <div>            <script src=\"https://cdnjs.cloudflare.com/ajax/libs/mathjax/2.7.5/MathJax.js?config=TeX-AMS-MML_SVG\"></script><script type=\"text/javascript\">if (window.MathJax && window.MathJax.Hub && window.MathJax.Hub.Config) {window.MathJax.Hub.Config({SVG: {font: \"STIX-Web\"}});}</script>                <script type=\"text/javascript\">window.PlotlyConfig = {MathJaxConfig: 'local'};</script>\n",
              "        <script charset=\"utf-8\" src=\"https://cdn.plot.ly/plotly-2.24.1.min.js\"></script>                <div id=\"267f5374-dcd2-4e01-b8fa-4fdd240144dd\" class=\"plotly-graph-div\" style=\"height:525px; width:100%;\"></div>            <script type=\"text/javascript\">                                    window.PLOTLYENV=window.PLOTLYENV || {};                                    if (document.getElementById(\"267f5374-dcd2-4e01-b8fa-4fdd240144dd\")) {                    Plotly.newPlot(                        \"267f5374-dcd2-4e01-b8fa-4fdd240144dd\",                        [{\"line\":{\"color\":\"#203864\",\"width\":2},\"mode\":\"lines+markers\",\"name\":\"Total\",\"x\":[\"Jan-18\",\"Feb-18\",\"Mar-18\",\"Apr-18\",\"May-18\",\"Jun-18\",\"Jul-18\",\"Aug-18\",\"Sep-18\",\"Oct-18\",\"Nov-18\",\"Dec-18\",\"Jan-19\",\"Feb-19\",\"Mar-19\",\"Apr-19\",\"May-19\",\"Jun-19\",\"Jul-19\",\"Aug-19\",\"Sep-19\",\"Oct-19\",\"Nov-19\",\"Dec-19\",\"Jan-20\",\"Feb-20\",\"Mar-20\",\"Apr-20\",\"May-20\",\"Jun-20\",\"Jul-20\",\"Aug-20\",\"Sep-20\",\"Oct-20\",\"Nov-20\",\"Dec-20\",\"Jan-21\",\"Feb-21\",\"Mar-21\",\"Apr-21\",\"May-21\",\"Jun-21\",\"Jul-21\",\"Aug-21\",\"Sep-21\",\"Oct-21\",\"Nov-21\",\"Dec-21\",\"Jan-22\",\"Feb-22\",\"Mar-22\",\"Apr-22\",\"May-22\",\"Jun-22\",\"Jul-22\",\"Aug-22\",\"Sep-22\",\"Oct-22\",\"Nov-22\",\"Dec-22\",\"Jan-23\",\"Feb-23\",\"Mar-23\",\"Apr-23\",\"May-23\",\"Jun-23\",\"Jul-23\",\"Aug-23\",\"Sep-23\"],\"y\":[64.7,62.7,64.3,65.5,64.9,66.5,67.8,65.4,66.7,66.7,65.3,66.3,69.3,67.7,66.3,67.9,67.4,67.8,69.6,67.8,67.6,67.9,65.4,69.0,69.3,67.8,65.6,59.9,58.6,61.4,62.0,62.7,65.6,65.8,69.4,71.0,69.7,70.8,71.7,71.7,71.9,72.0,73.1,74.1,73.6,74.3,74.0,74.8,73.9,73.2,73.6,72.7,73.6,73.5,73.4,72.8,73.9,73.9,71.7,73.3,74.0,72.6,72.0,73.1,73.5,72.6,74.3,73.8,73.2],\"type\":\"scatter\"},{\"line\":{\"color\":\"#2888AA\",\"width\":2},\"mode\":\"lines+markers\",\"name\":\"Hombres\",\"x\":[\"Jan-18\",\"Feb-18\",\"Mar-18\",\"Apr-18\",\"May-18\",\"Jun-18\",\"Jul-18\",\"Aug-18\",\"Sep-18\",\"Oct-18\",\"Nov-18\",\"Dec-18\",\"Jan-19\",\"Feb-19\",\"Mar-19\",\"Apr-19\",\"May-19\",\"Jun-19\",\"Jul-19\",\"Aug-19\",\"Sep-19\",\"Oct-19\",\"Nov-19\",\"Dec-19\",\"Jan-20\",\"Feb-20\",\"Mar-20\",\"Apr-20\",\"May-20\",\"Jun-20\",\"Jul-20\",\"Aug-20\",\"Sep-20\",\"Oct-20\",\"Nov-20\",\"Dec-20\",\"Jan-21\",\"Feb-21\",\"Mar-21\",\"Apr-21\",\"May-21\",\"Jun-21\",\"Jul-21\",\"Aug-21\",\"Sep-21\",\"Oct-21\",\"Nov-21\",\"Dec-21\",\"Jan-22\",\"Feb-22\",\"Mar-22\",\"Apr-22\",\"May-22\",\"Jun-22\",\"Jul-22\",\"Aug-22\",\"Sep-22\",\"Oct-22\",\"Nov-22\",\"Dec-22\",\"Jan-23\",\"Feb-23\",\"Mar-23\",\"Apr-23\",\"May-23\",\"Jun-23\",\"Jul-23\",\"Aug-23\",\"Sep-23\"],\"y\":[75.2,73.3,72.7,75.0,74.6,74.8,75.6,73.9,74.9,74.8,72.8,75.1,77.5,75.2,74.8,75.6,74.6,76.6,78.6,75.6,76.2,76.9,74.3,77.5,78.0,75.6,74.2,69.2,66.9,69.7,72.0,72.0,74.9,76.0,76.9,79.1,78.0,78.3,78.5,79.5,79.1,79.7,79.5,81.5,80.5,80.5,80.8,82.2,81.1,80.6,79.8,79.8,80.6,79.5,80.5,79.6,79.8,81.0,79.7,80.3,81.0,79.1,77.8,79.2,79.8,78.4,81.0,80.0,78.7],\"type\":\"scatter\"},{\"line\":{\"color\":\"#A5A5A5\",\"width\":2},\"mode\":\"lines+markers\",\"name\":\"Mujeres\",\"x\":[\"Jan-18\",\"Feb-18\",\"Mar-18\",\"Apr-18\",\"May-18\",\"Jun-18\",\"Jul-18\",\"Aug-18\",\"Sep-18\",\"Oct-18\",\"Nov-18\",\"Dec-18\",\"Jan-19\",\"Feb-19\",\"Mar-19\",\"Apr-19\",\"May-19\",\"Jun-19\",\"Jul-19\",\"Aug-19\",\"Sep-19\",\"Oct-19\",\"Nov-19\",\"Dec-19\",\"Jan-20\",\"Feb-20\",\"Mar-20\",\"Apr-20\",\"May-20\",\"Jun-20\",\"Jul-20\",\"Aug-20\",\"Sep-20\",\"Oct-20\",\"Nov-20\",\"Dec-20\",\"Jan-21\",\"Feb-21\",\"Mar-21\",\"Apr-21\",\"May-21\",\"Jun-21\",\"Jul-21\",\"Aug-21\",\"Sep-21\",\"Oct-21\",\"Nov-21\",\"Dec-21\",\"Jan-22\",\"Feb-22\",\"Mar-22\",\"Apr-22\",\"May-22\",\"Jun-22\",\"Jul-22\",\"Aug-22\",\"Sep-22\",\"Oct-22\",\"Nov-22\",\"Dec-22\",\"Jan-23\",\"Feb-23\",\"Mar-23\",\"Apr-23\",\"May-23\",\"Jun-23\",\"Jul-23\",\"Aug-23\",\"Sep-23\"],\"y\":[54.8,52.8,56.3,56.5,56.0,58.9,60.4,57.7,59.1,59.2,58.5,58.2,61.6,60.5,58.4,60.8,60.5,59.6,61.3,60.4,59.7,59.5,56.9,61.2,61.2,60.4,57.5,51.3,50.8,53.7,52.6,53.9,57.0,56.3,62.3,63.2,61.9,63.7,65.2,64.3,65.0,64.6,67.0,67.1,67.0,68.6,67.6,68.0,67.4,66.3,67.7,66.1,67.2,67.9,67.0,66.5,68.4,67.3,64.3,66.9,67.6,66.4,66.6,67.5,67.5,67.2,68.2,67.9,68.0],\"type\":\"scatter\"}],                        {\"template\":{\"data\":{\"histogram2dcontour\":[{\"type\":\"histogram2dcontour\",\"colorbar\":{\"outlinewidth\":0,\"ticks\":\"\"},\"colorscale\":[[0.0,\"#0d0887\"],[0.1111111111111111,\"#46039f\"],[0.2222222222222222,\"#7201a8\"],[0.3333333333333333,\"#9c179e\"],[0.4444444444444444,\"#bd3786\"],[0.5555555555555556,\"#d8576b\"],[0.6666666666666666,\"#ed7953\"],[0.7777777777777778,\"#fb9f3a\"],[0.8888888888888888,\"#fdca26\"],[1.0,\"#f0f921\"]]}],\"choropleth\":[{\"type\":\"choropleth\",\"colorbar\":{\"outlinewidth\":0,\"ticks\":\"\"}}],\"histogram2d\":[{\"type\":\"histogram2d\",\"colorbar\":{\"outlinewidth\":0,\"ticks\":\"\"},\"colorscale\":[[0.0,\"#0d0887\"],[0.1111111111111111,\"#46039f\"],[0.2222222222222222,\"#7201a8\"],[0.3333333333333333,\"#9c179e\"],[0.4444444444444444,\"#bd3786\"],[0.5555555555555556,\"#d8576b\"],[0.6666666666666666,\"#ed7953\"],[0.7777777777777778,\"#fb9f3a\"],[0.8888888888888888,\"#fdca26\"],[1.0,\"#f0f921\"]]}],\"heatmap\":[{\"type\":\"heatmap\",\"colorbar\":{\"outlinewidth\":0,\"ticks\":\"\"},\"colorscale\":[[0.0,\"#0d0887\"],[0.1111111111111111,\"#46039f\"],[0.2222222222222222,\"#7201a8\"],[0.3333333333333333,\"#9c179e\"],[0.4444444444444444,\"#bd3786\"],[0.5555555555555556,\"#d8576b\"],[0.6666666666666666,\"#ed7953\"],[0.7777777777777778,\"#fb9f3a\"],[0.8888888888888888,\"#fdca26\"],[1.0,\"#f0f921\"]]}],\"heatmapgl\":[{\"type\":\"heatmapgl\",\"colorbar\":{\"outlinewidth\":0,\"ticks\":\"\"},\"colorscale\":[[0.0,\"#0d0887\"],[0.1111111111111111,\"#46039f\"],[0.2222222222222222,\"#7201a8\"],[0.3333333333333333,\"#9c179e\"],[0.4444444444444444,\"#bd3786\"],[0.5555555555555556,\"#d8576b\"],[0.6666666666666666,\"#ed7953\"],[0.7777777777777778,\"#fb9f3a\"],[0.8888888888888888,\"#fdca26\"],[1.0,\"#f0f921\"]]}],\"contourcarpet\":[{\"type\":\"contourcarpet\",\"colorbar\":{\"outlinewidth\":0,\"ticks\":\"\"}}],\"contour\":[{\"type\":\"contour\",\"colorbar\":{\"outlinewidth\":0,\"ticks\":\"\"},\"colorscale\":[[0.0,\"#0d0887\"],[0.1111111111111111,\"#46039f\"],[0.2222222222222222,\"#7201a8\"],[0.3333333333333333,\"#9c179e\"],[0.4444444444444444,\"#bd3786\"],[0.5555555555555556,\"#d8576b\"],[0.6666666666666666,\"#ed7953\"],[0.7777777777777778,\"#fb9f3a\"],[0.8888888888888888,\"#fdca26\"],[1.0,\"#f0f921\"]]}],\"surface\":[{\"type\":\"surface\",\"colorbar\":{\"outlinewidth\":0,\"ticks\":\"\"},\"colorscale\":[[0.0,\"#0d0887\"],[0.1111111111111111,\"#46039f\"],[0.2222222222222222,\"#7201a8\"],[0.3333333333333333,\"#9c179e\"],[0.4444444444444444,\"#bd3786\"],[0.5555555555555556,\"#d8576b\"],[0.6666666666666666,\"#ed7953\"],[0.7777777777777778,\"#fb9f3a\"],[0.8888888888888888,\"#fdca26\"],[1.0,\"#f0f921\"]]}],\"mesh3d\":[{\"type\":\"mesh3d\",\"colorbar\":{\"outlinewidth\":0,\"ticks\":\"\"}}],\"scatter\":[{\"fillpattern\":{\"fillmode\":\"overlay\",\"size\":10,\"solidity\":0.2},\"type\":\"scatter\"}],\"parcoords\":[{\"type\":\"parcoords\",\"line\":{\"colorbar\":{\"outlinewidth\":0,\"ticks\":\"\"}}}],\"scatterpolargl\":[{\"type\":\"scatterpolargl\",\"marker\":{\"colorbar\":{\"outlinewidth\":0,\"ticks\":\"\"}}}],\"bar\":[{\"error_x\":{\"color\":\"#2a3f5f\"},\"error_y\":{\"color\":\"#2a3f5f\"},\"marker\":{\"line\":{\"color\":\"#E5ECF6\",\"width\":0.5},\"pattern\":{\"fillmode\":\"overlay\",\"size\":10,\"solidity\":0.2}},\"type\":\"bar\"}],\"scattergeo\":[{\"type\":\"scattergeo\",\"marker\":{\"colorbar\":{\"outlinewidth\":0,\"ticks\":\"\"}}}],\"scatterpolar\":[{\"type\":\"scatterpolar\",\"marker\":{\"colorbar\":{\"outlinewidth\":0,\"ticks\":\"\"}}}],\"histogram\":[{\"marker\":{\"pattern\":{\"fillmode\":\"overlay\",\"size\":10,\"solidity\":0.2}},\"type\":\"histogram\"}],\"scattergl\":[{\"type\":\"scattergl\",\"marker\":{\"colorbar\":{\"outlinewidth\":0,\"ticks\":\"\"}}}],\"scatter3d\":[{\"type\":\"scatter3d\",\"line\":{\"colorbar\":{\"outlinewidth\":0,\"ticks\":\"\"}},\"marker\":{\"colorbar\":{\"outlinewidth\":0,\"ticks\":\"\"}}}],\"scattermapbox\":[{\"type\":\"scattermapbox\",\"marker\":{\"colorbar\":{\"outlinewidth\":0,\"ticks\":\"\"}}}],\"scatterternary\":[{\"type\":\"scatterternary\",\"marker\":{\"colorbar\":{\"outlinewidth\":0,\"ticks\":\"\"}}}],\"scattercarpet\":[{\"type\":\"scattercarpet\",\"marker\":{\"colorbar\":{\"outlinewidth\":0,\"ticks\":\"\"}}}],\"carpet\":[{\"aaxis\":{\"endlinecolor\":\"#2a3f5f\",\"gridcolor\":\"white\",\"linecolor\":\"white\",\"minorgridcolor\":\"white\",\"startlinecolor\":\"#2a3f5f\"},\"baxis\":{\"endlinecolor\":\"#2a3f5f\",\"gridcolor\":\"white\",\"linecolor\":\"white\",\"minorgridcolor\":\"white\",\"startlinecolor\":\"#2a3f5f\"},\"type\":\"carpet\"}],\"table\":[{\"cells\":{\"fill\":{\"color\":\"#EBF0F8\"},\"line\":{\"color\":\"white\"}},\"header\":{\"fill\":{\"color\":\"#C8D4E3\"},\"line\":{\"color\":\"white\"}},\"type\":\"table\"}],\"barpolar\":[{\"marker\":{\"line\":{\"color\":\"#E5ECF6\",\"width\":0.5},\"pattern\":{\"fillmode\":\"overlay\",\"size\":10,\"solidity\":0.2}},\"type\":\"barpolar\"}],\"pie\":[{\"automargin\":true,\"type\":\"pie\"}]},\"layout\":{\"autotypenumbers\":\"strict\",\"colorway\":[\"#636efa\",\"#EF553B\",\"#00cc96\",\"#ab63fa\",\"#FFA15A\",\"#19d3f3\",\"#FF6692\",\"#B6E880\",\"#FF97FF\",\"#FECB52\"],\"font\":{\"color\":\"#2a3f5f\"},\"hovermode\":\"closest\",\"hoverlabel\":{\"align\":\"left\"},\"paper_bgcolor\":\"white\",\"plot_bgcolor\":\"#E5ECF6\",\"polar\":{\"bgcolor\":\"#E5ECF6\",\"angularaxis\":{\"gridcolor\":\"white\",\"linecolor\":\"white\",\"ticks\":\"\"},\"radialaxis\":{\"gridcolor\":\"white\",\"linecolor\":\"white\",\"ticks\":\"\"}},\"ternary\":{\"bgcolor\":\"#E5ECF6\",\"aaxis\":{\"gridcolor\":\"white\",\"linecolor\":\"white\",\"ticks\":\"\"},\"baxis\":{\"gridcolor\":\"white\",\"linecolor\":\"white\",\"ticks\":\"\"},\"caxis\":{\"gridcolor\":\"white\",\"linecolor\":\"white\",\"ticks\":\"\"}},\"coloraxis\":{\"colorbar\":{\"outlinewidth\":0,\"ticks\":\"\"}},\"colorscale\":{\"sequential\":[[0.0,\"#0d0887\"],[0.1111111111111111,\"#46039f\"],[0.2222222222222222,\"#7201a8\"],[0.3333333333333333,\"#9c179e\"],[0.4444444444444444,\"#bd3786\"],[0.5555555555555556,\"#d8576b\"],[0.6666666666666666,\"#ed7953\"],[0.7777777777777778,\"#fb9f3a\"],[0.8888888888888888,\"#fdca26\"],[1.0,\"#f0f921\"]],\"sequentialminus\":[[0.0,\"#0d0887\"],[0.1111111111111111,\"#46039f\"],[0.2222222222222222,\"#7201a8\"],[0.3333333333333333,\"#9c179e\"],[0.4444444444444444,\"#bd3786\"],[0.5555555555555556,\"#d8576b\"],[0.6666666666666666,\"#ed7953\"],[0.7777777777777778,\"#fb9f3a\"],[0.8888888888888888,\"#fdca26\"],[1.0,\"#f0f921\"]],\"diverging\":[[0,\"#8e0152\"],[0.1,\"#c51b7d\"],[0.2,\"#de77ae\"],[0.3,\"#f1b6da\"],[0.4,\"#fde0ef\"],[0.5,\"#f7f7f7\"],[0.6,\"#e6f5d0\"],[0.7,\"#b8e186\"],[0.8,\"#7fbc41\"],[0.9,\"#4d9221\"],[1,\"#276419\"]]},\"xaxis\":{\"gridcolor\":\"white\",\"linecolor\":\"white\",\"ticks\":\"\",\"title\":{\"standoff\":15},\"zerolinecolor\":\"white\",\"automargin\":true,\"zerolinewidth\":2},\"yaxis\":{\"gridcolor\":\"white\",\"linecolor\":\"white\",\"ticks\":\"\",\"title\":{\"standoff\":15},\"zerolinecolor\":\"white\",\"automargin\":true,\"zerolinewidth\":2},\"scene\":{\"xaxis\":{\"backgroundcolor\":\"#E5ECF6\",\"gridcolor\":\"white\",\"linecolor\":\"white\",\"showbackground\":true,\"ticks\":\"\",\"zerolinecolor\":\"white\",\"gridwidth\":2},\"yaxis\":{\"backgroundcolor\":\"#E5ECF6\",\"gridcolor\":\"white\",\"linecolor\":\"white\",\"showbackground\":true,\"ticks\":\"\",\"zerolinecolor\":\"white\",\"gridwidth\":2},\"zaxis\":{\"backgroundcolor\":\"#E5ECF6\",\"gridcolor\":\"white\",\"linecolor\":\"white\",\"showbackground\":true,\"ticks\":\"\",\"zerolinecolor\":\"white\",\"gridwidth\":2}},\"shapedefaults\":{\"line\":{\"color\":\"#2a3f5f\"}},\"annotationdefaults\":{\"arrowcolor\":\"#2a3f5f\",\"arrowhead\":0,\"arrowwidth\":1},\"geo\":{\"bgcolor\":\"white\",\"landcolor\":\"#E5ECF6\",\"subunitcolor\":\"white\",\"showland\":true,\"showlakes\":true,\"lakecolor\":\"white\"},\"title\":{\"x\":0.05},\"mapbox\":{\"style\":\"light\"}}},\"font\":{\"family\":\"Arial\",\"color\":\"#000000\"},\"title\":{\"font\":{\"color\":\"#000000\",\"size\":30},\"text\":\"Tasa de Actividad, hombres y mujeres\"},\"xaxis\":{\"title\":{\"text\":\"Mes\",\"font\":{\"size\":20}},\"tickfont\":{\"size\":15}},\"yaxis\":{\"title\":{\"text\":\"En porcentaje\",\"font\":{\"size\":20}},\"tickfont\":{\"size\":18},\"linecolor\":\"#000000\",\"ticks\":\"outside\",\"nticks\":10,\"zeroline\":true,\"zerolinewidth\":1.5,\"zerolinecolor\":\"#d62f15\"},\"hoverlabel\":{\"font\":{\"size\":15,\"family\":\"Arial\"}},\"legend\":{\"font\":{\"family\":\"Arial\",\"size\":20},\"x\":0.75,\"y\":0.1,\"traceorder\":\"normal\"},\"plot_bgcolor\":\"white\",\"separators\":\",\",\"hovermode\":\"x\"},                        {\"responsive\": true}                    ).then(function(){\n",
              "                            \n",
              "var gd = document.getElementById('267f5374-dcd2-4e01-b8fa-4fdd240144dd');\n",
              "var x = new MutationObserver(function (mutations, observer) {{\n",
              "        var display = window.getComputedStyle(gd).display;\n",
              "        if (!display || display === 'none') {{\n",
              "            console.log([gd, 'removed!']);\n",
              "            Plotly.purge(gd);\n",
              "            observer.disconnect();\n",
              "        }}\n",
              "}});\n",
              "\n",
              "// Listen for the removal of the full notebook cells\n",
              "var notebookContainer = gd.closest('#notebook-container');\n",
              "if (notebookContainer) {{\n",
              "    x.observe(notebookContainer, {childList: true});\n",
              "}}\n",
              "\n",
              "// Listen for the clearing of the current output cell\n",
              "var outputEl = gd.closest('.output');\n",
              "if (outputEl) {{\n",
              "    x.observe(outputEl, {childList: true});\n",
              "}}\n",
              "\n",
              "                        })                };                            </script>        </div>\n",
              "</body>\n",
              "</html>"
            ]
          },
          "metadata": {}
        }
      ]
    },
    {
      "cell_type": "code",
      "source": [
        "df_y = pd.DataFrame(\n",
        "    {\"y1\": round(df1_C[\"Tasa Desocupación urbana - Total\"], ndigits=1),\n",
        "     \"y1_col\": \"#1F4E79\"},\n",
        "    index= df1_C.index)\n",
        "\n",
        "df_y.loc['Nov-19':'Oct-20', 'y1_col'] = \"#FFC000\"\n",
        "\n",
        "x = df_y.index\n",
        "y1 = round(df_y['y1'], ndigits=1)\n",
        "y1_colors = df_y['y1_col']\n",
        "\n",
        "fig8 = go.Figure()\n",
        "fig8.add_trace(go.Bar(x=x, y=y1, name=\"TD\",\n",
        "                marker_color=y1_colors, marker_line=dict(width=0.5, color='#000000') ))\n",
        "fig8.update_layout(font_family = 'Arial', font_color=\"#000000\", plot_bgcolor='white', separators=',',\n",
        "                  title_text='Tasa de desempleo abierto urbano',\n",
        "                  title_font = dict(color='#000000', size=30),\n",
        "                  xaxis=dict(title='Mes', titlefont_size=20, tickfont_size=15),\n",
        "                  yaxis=dict(title='En porcentaje', titlefont_size=20, tickfont_size=18, linecolor=\"#000000\", ticks='outside', nticks=10, zeroline=True, zerolinewidth=1.5, zerolinecolor='black'),\n",
        "                  hoverlabel=dict(font_size=20,font_family=\"Arial\"),\n",
        "                  hovermode=\"x\"\n",
        "                  )\n",
        "fig8.show()"
      ],
      "metadata": {
        "id": "6aqHjaLAcIox",
        "colab": {
          "base_uri": "https://localhost:8080/",
          "height": 542
        },
        "outputId": "50acd02e-adc3-4fc3-a050-59f2c3498dcc"
      },
      "execution_count": null,
      "outputs": [
        {
          "output_type": "display_data",
          "data": {
            "text/html": [
              "<html>\n",
              "<head><meta charset=\"utf-8\" /></head>\n",
              "<body>\n",
              "    <div>            <script src=\"https://cdnjs.cloudflare.com/ajax/libs/mathjax/2.7.5/MathJax.js?config=TeX-AMS-MML_SVG\"></script><script type=\"text/javascript\">if (window.MathJax && window.MathJax.Hub && window.MathJax.Hub.Config) {window.MathJax.Hub.Config({SVG: {font: \"STIX-Web\"}});}</script>                <script type=\"text/javascript\">window.PlotlyConfig = {MathJaxConfig: 'local'};</script>\n",
              "        <script charset=\"utf-8\" src=\"https://cdn.plot.ly/plotly-2.24.1.min.js\"></script>                <div id=\"5b89afa2-6886-48b2-a339-6175471ab0a5\" class=\"plotly-graph-div\" style=\"height:525px; width:100%;\"></div>            <script type=\"text/javascript\">                                    window.PLOTLYENV=window.PLOTLYENV || {};                                    if (document.getElementById(\"5b89afa2-6886-48b2-a339-6175471ab0a5\")) {                    Plotly.newPlot(                        \"5b89afa2-6886-48b2-a339-6175471ab0a5\",                        [{\"marker\":{\"color\":[\"#1F4E79\",\"#1F4E79\",\"#1F4E79\",\"#1F4E79\",\"#1F4E79\",\"#1F4E79\",\"#1F4E79\",\"#1F4E79\",\"#1F4E79\",\"#1F4E79\",\"#1F4E79\",\"#1F4E79\",\"#1F4E79\",\"#1F4E79\",\"#1F4E79\",\"#1F4E79\",\"#1F4E79\",\"#1F4E79\",\"#1F4E79\",\"#1F4E79\",\"#1F4E79\",\"#1F4E79\",\"#1F4E79\",\"#1F4E79\",\"#1F4E79\",\"#1F4E79\",\"#1F4E79\",\"#1F4E79\",\"#1F4E79\",\"#1F4E79\",\"#1F4E79\",\"#1F4E79\",\"#1F4E79\",\"#1F4E79\",\"#1F4E79\",\"#1F4E79\",\"#1F4E79\",\"#1F4E79\",\"#1F4E79\",\"#1F4E79\",\"#1F4E79\",\"#1F4E79\",\"#1F4E79\",\"#1F4E79\",\"#1F4E79\",\"#1F4E79\",\"#1F4E79\",\"#1F4E79\",\"#1F4E79\",\"#FFC000\",\"#FFC000\",\"#FFC000\",\"#FFC000\",\"#FFC000\",\"#FFC000\",\"#FFC000\",\"#FFC000\",\"#FFC000\",\"#FFC000\",\"#FFC000\",\"#FFC000\",\"#1F4E79\",\"#1F4E79\",\"#1F4E79\",\"#1F4E79\",\"#1F4E79\",\"#1F4E79\",\"#1F4E79\",\"#1F4E79\",\"#1F4E79\",\"#1F4E79\",\"#1F4E79\",\"#1F4E79\",\"#1F4E79\",\"#1F4E79\",\"#1F4E79\",\"#1F4E79\",\"#1F4E79\",\"#1F4E79\",\"#1F4E79\",\"#1F4E79\",\"#1F4E79\",\"#1F4E79\",\"#1F4E79\",\"#1F4E79\",\"#1F4E79\",\"#1F4E79\",\"#1F4E79\",\"#1F4E79\",\"#1F4E79\",\"#1F4E79\",\"#1F4E79\",\"#1F4E79\",\"#1F4E79\",\"#1F4E79\",\"#1F4E79\"],\"line\":{\"color\":\"#000000\",\"width\":0.5}},\"name\":\"TD\",\"x\":[\"Oct-15\",\"Nov-15\",\"Dec-15\",\"Jan-16\",\"Feb-16\",\"Mar-16\",\"Apr-16\",\"May-16\",\"Jun-16\",\"Jul-16\",\"Aug-16\",\"Sep-16\",\"Oct-16\",\"Nov-16\",\"Dec-16\",\"Jan-17\",\"Feb-17\",\"Mar-17\",\"Apr-17\",\"May-17\",\"Jun-17\",\"Jul-17\",\"Aug-17\",\"Sep-17\",\"Oct-17\",\"Nov-17\",\"Dec-17\",\"Jan-18\",\"Feb-18\",\"Mar-18\",\"Apr-18\",\"May-18\",\"Jun-18\",\"Jul-18\",\"Aug-18\",\"Sep-18\",\"Oct-18\",\"Nov-18\",\"Dec-18\",\"Jan-19\",\"Feb-19\",\"Mar-19\",\"Apr-19\",\"May-19\",\"Jun-19\",\"Jul-19\",\"Aug-19\",\"Sep-19\",\"Oct-19\",\"Nov-19\",\"Dec-19\",\"Jan-20\",\"Feb-20\",\"Mar-20\",\"Apr-20\",\"May-20\",\"Jun-20\",\"Jul-20\",\"Aug-20\",\"Sep-20\",\"Oct-20\",\"Nov-20\",\"Dec-20\",\"Jan-21\",\"Feb-21\",\"Mar-21\",\"Apr-21\",\"May-21\",\"Jun-21\",\"Jul-21\",\"Aug-21\",\"Sep-21\",\"Oct-21\",\"Nov-21\",\"Dec-21\",\"Jan-22\",\"Feb-22\",\"Mar-22\",\"Apr-22\",\"May-22\",\"Jun-22\",\"Jul-22\",\"Aug-22\",\"Sep-22\",\"Oct-22\",\"Nov-22\",\"Dec-22\",\"Jan-23\",\"Feb-23\",\"Mar-23\",\"Apr-23\",\"May-23\",\"Jun-23\",\"Jul-23\",\"Aug-23\",\"Sep-23\"],\"y\":[4.5,4.3,4.8,5.2,6.5,5.7,4.8,4.5,4.3,3.8,4.0,4.1,4.4,4.3,4.5,5.8,5.9,5.3,4.7,6.6,5.9,4.6,4.2,4.5,4.3,4.7,4.5,5.7,6.2,5.5,4.8,5.0,4.9,4.2,4.9,5.0,3.6,3.9,5.1,7.1,6.6,5.9,5.0,5.3,4.6,4.7,4.3,4.2,4.3,5.5,4.8,6.6,5.1,5.7,7.0,8.1,9.8,11.6,10.6,10.0,8.7,8.6,8.2,9.6,8.9,8.1,7.6,7.8,7.7,6.4,6.5,6.2,5.2,5.2,5.4,6.3,6.3,5.3,5.3,4.2,4.3,4.6,4.1,4.1,4.3,4.1,4.5,5.5,4.8,4.3,4.2,4.0,3.7,3.8,3.8,3.3],\"type\":\"bar\"}],                        {\"template\":{\"data\":{\"histogram2dcontour\":[{\"type\":\"histogram2dcontour\",\"colorbar\":{\"outlinewidth\":0,\"ticks\":\"\"},\"colorscale\":[[0.0,\"#0d0887\"],[0.1111111111111111,\"#46039f\"],[0.2222222222222222,\"#7201a8\"],[0.3333333333333333,\"#9c179e\"],[0.4444444444444444,\"#bd3786\"],[0.5555555555555556,\"#d8576b\"],[0.6666666666666666,\"#ed7953\"],[0.7777777777777778,\"#fb9f3a\"],[0.8888888888888888,\"#fdca26\"],[1.0,\"#f0f921\"]]}],\"choropleth\":[{\"type\":\"choropleth\",\"colorbar\":{\"outlinewidth\":0,\"ticks\":\"\"}}],\"histogram2d\":[{\"type\":\"histogram2d\",\"colorbar\":{\"outlinewidth\":0,\"ticks\":\"\"},\"colorscale\":[[0.0,\"#0d0887\"],[0.1111111111111111,\"#46039f\"],[0.2222222222222222,\"#7201a8\"],[0.3333333333333333,\"#9c179e\"],[0.4444444444444444,\"#bd3786\"],[0.5555555555555556,\"#d8576b\"],[0.6666666666666666,\"#ed7953\"],[0.7777777777777778,\"#fb9f3a\"],[0.8888888888888888,\"#fdca26\"],[1.0,\"#f0f921\"]]}],\"heatmap\":[{\"type\":\"heatmap\",\"colorbar\":{\"outlinewidth\":0,\"ticks\":\"\"},\"colorscale\":[[0.0,\"#0d0887\"],[0.1111111111111111,\"#46039f\"],[0.2222222222222222,\"#7201a8\"],[0.3333333333333333,\"#9c179e\"],[0.4444444444444444,\"#bd3786\"],[0.5555555555555556,\"#d8576b\"],[0.6666666666666666,\"#ed7953\"],[0.7777777777777778,\"#fb9f3a\"],[0.8888888888888888,\"#fdca26\"],[1.0,\"#f0f921\"]]}],\"heatmapgl\":[{\"type\":\"heatmapgl\",\"colorbar\":{\"outlinewidth\":0,\"ticks\":\"\"},\"colorscale\":[[0.0,\"#0d0887\"],[0.1111111111111111,\"#46039f\"],[0.2222222222222222,\"#7201a8\"],[0.3333333333333333,\"#9c179e\"],[0.4444444444444444,\"#bd3786\"],[0.5555555555555556,\"#d8576b\"],[0.6666666666666666,\"#ed7953\"],[0.7777777777777778,\"#fb9f3a\"],[0.8888888888888888,\"#fdca26\"],[1.0,\"#f0f921\"]]}],\"contourcarpet\":[{\"type\":\"contourcarpet\",\"colorbar\":{\"outlinewidth\":0,\"ticks\":\"\"}}],\"contour\":[{\"type\":\"contour\",\"colorbar\":{\"outlinewidth\":0,\"ticks\":\"\"},\"colorscale\":[[0.0,\"#0d0887\"],[0.1111111111111111,\"#46039f\"],[0.2222222222222222,\"#7201a8\"],[0.3333333333333333,\"#9c179e\"],[0.4444444444444444,\"#bd3786\"],[0.5555555555555556,\"#d8576b\"],[0.6666666666666666,\"#ed7953\"],[0.7777777777777778,\"#fb9f3a\"],[0.8888888888888888,\"#fdca26\"],[1.0,\"#f0f921\"]]}],\"surface\":[{\"type\":\"surface\",\"colorbar\":{\"outlinewidth\":0,\"ticks\":\"\"},\"colorscale\":[[0.0,\"#0d0887\"],[0.1111111111111111,\"#46039f\"],[0.2222222222222222,\"#7201a8\"],[0.3333333333333333,\"#9c179e\"],[0.4444444444444444,\"#bd3786\"],[0.5555555555555556,\"#d8576b\"],[0.6666666666666666,\"#ed7953\"],[0.7777777777777778,\"#fb9f3a\"],[0.8888888888888888,\"#fdca26\"],[1.0,\"#f0f921\"]]}],\"mesh3d\":[{\"type\":\"mesh3d\",\"colorbar\":{\"outlinewidth\":0,\"ticks\":\"\"}}],\"scatter\":[{\"fillpattern\":{\"fillmode\":\"overlay\",\"size\":10,\"solidity\":0.2},\"type\":\"scatter\"}],\"parcoords\":[{\"type\":\"parcoords\",\"line\":{\"colorbar\":{\"outlinewidth\":0,\"ticks\":\"\"}}}],\"scatterpolargl\":[{\"type\":\"scatterpolargl\",\"marker\":{\"colorbar\":{\"outlinewidth\":0,\"ticks\":\"\"}}}],\"bar\":[{\"error_x\":{\"color\":\"#2a3f5f\"},\"error_y\":{\"color\":\"#2a3f5f\"},\"marker\":{\"line\":{\"color\":\"#E5ECF6\",\"width\":0.5},\"pattern\":{\"fillmode\":\"overlay\",\"size\":10,\"solidity\":0.2}},\"type\":\"bar\"}],\"scattergeo\":[{\"type\":\"scattergeo\",\"marker\":{\"colorbar\":{\"outlinewidth\":0,\"ticks\":\"\"}}}],\"scatterpolar\":[{\"type\":\"scatterpolar\",\"marker\":{\"colorbar\":{\"outlinewidth\":0,\"ticks\":\"\"}}}],\"histogram\":[{\"marker\":{\"pattern\":{\"fillmode\":\"overlay\",\"size\":10,\"solidity\":0.2}},\"type\":\"histogram\"}],\"scattergl\":[{\"type\":\"scattergl\",\"marker\":{\"colorbar\":{\"outlinewidth\":0,\"ticks\":\"\"}}}],\"scatter3d\":[{\"type\":\"scatter3d\",\"line\":{\"colorbar\":{\"outlinewidth\":0,\"ticks\":\"\"}},\"marker\":{\"colorbar\":{\"outlinewidth\":0,\"ticks\":\"\"}}}],\"scattermapbox\":[{\"type\":\"scattermapbox\",\"marker\":{\"colorbar\":{\"outlinewidth\":0,\"ticks\":\"\"}}}],\"scatterternary\":[{\"type\":\"scatterternary\",\"marker\":{\"colorbar\":{\"outlinewidth\":0,\"ticks\":\"\"}}}],\"scattercarpet\":[{\"type\":\"scattercarpet\",\"marker\":{\"colorbar\":{\"outlinewidth\":0,\"ticks\":\"\"}}}],\"carpet\":[{\"aaxis\":{\"endlinecolor\":\"#2a3f5f\",\"gridcolor\":\"white\",\"linecolor\":\"white\",\"minorgridcolor\":\"white\",\"startlinecolor\":\"#2a3f5f\"},\"baxis\":{\"endlinecolor\":\"#2a3f5f\",\"gridcolor\":\"white\",\"linecolor\":\"white\",\"minorgridcolor\":\"white\",\"startlinecolor\":\"#2a3f5f\"},\"type\":\"carpet\"}],\"table\":[{\"cells\":{\"fill\":{\"color\":\"#EBF0F8\"},\"line\":{\"color\":\"white\"}},\"header\":{\"fill\":{\"color\":\"#C8D4E3\"},\"line\":{\"color\":\"white\"}},\"type\":\"table\"}],\"barpolar\":[{\"marker\":{\"line\":{\"color\":\"#E5ECF6\",\"width\":0.5},\"pattern\":{\"fillmode\":\"overlay\",\"size\":10,\"solidity\":0.2}},\"type\":\"barpolar\"}],\"pie\":[{\"automargin\":true,\"type\":\"pie\"}]},\"layout\":{\"autotypenumbers\":\"strict\",\"colorway\":[\"#636efa\",\"#EF553B\",\"#00cc96\",\"#ab63fa\",\"#FFA15A\",\"#19d3f3\",\"#FF6692\",\"#B6E880\",\"#FF97FF\",\"#FECB52\"],\"font\":{\"color\":\"#2a3f5f\"},\"hovermode\":\"closest\",\"hoverlabel\":{\"align\":\"left\"},\"paper_bgcolor\":\"white\",\"plot_bgcolor\":\"#E5ECF6\",\"polar\":{\"bgcolor\":\"#E5ECF6\",\"angularaxis\":{\"gridcolor\":\"white\",\"linecolor\":\"white\",\"ticks\":\"\"},\"radialaxis\":{\"gridcolor\":\"white\",\"linecolor\":\"white\",\"ticks\":\"\"}},\"ternary\":{\"bgcolor\":\"#E5ECF6\",\"aaxis\":{\"gridcolor\":\"white\",\"linecolor\":\"white\",\"ticks\":\"\"},\"baxis\":{\"gridcolor\":\"white\",\"linecolor\":\"white\",\"ticks\":\"\"},\"caxis\":{\"gridcolor\":\"white\",\"linecolor\":\"white\",\"ticks\":\"\"}},\"coloraxis\":{\"colorbar\":{\"outlinewidth\":0,\"ticks\":\"\"}},\"colorscale\":{\"sequential\":[[0.0,\"#0d0887\"],[0.1111111111111111,\"#46039f\"],[0.2222222222222222,\"#7201a8\"],[0.3333333333333333,\"#9c179e\"],[0.4444444444444444,\"#bd3786\"],[0.5555555555555556,\"#d8576b\"],[0.6666666666666666,\"#ed7953\"],[0.7777777777777778,\"#fb9f3a\"],[0.8888888888888888,\"#fdca26\"],[1.0,\"#f0f921\"]],\"sequentialminus\":[[0.0,\"#0d0887\"],[0.1111111111111111,\"#46039f\"],[0.2222222222222222,\"#7201a8\"],[0.3333333333333333,\"#9c179e\"],[0.4444444444444444,\"#bd3786\"],[0.5555555555555556,\"#d8576b\"],[0.6666666666666666,\"#ed7953\"],[0.7777777777777778,\"#fb9f3a\"],[0.8888888888888888,\"#fdca26\"],[1.0,\"#f0f921\"]],\"diverging\":[[0,\"#8e0152\"],[0.1,\"#c51b7d\"],[0.2,\"#de77ae\"],[0.3,\"#f1b6da\"],[0.4,\"#fde0ef\"],[0.5,\"#f7f7f7\"],[0.6,\"#e6f5d0\"],[0.7,\"#b8e186\"],[0.8,\"#7fbc41\"],[0.9,\"#4d9221\"],[1,\"#276419\"]]},\"xaxis\":{\"gridcolor\":\"white\",\"linecolor\":\"white\",\"ticks\":\"\",\"title\":{\"standoff\":15},\"zerolinecolor\":\"white\",\"automargin\":true,\"zerolinewidth\":2},\"yaxis\":{\"gridcolor\":\"white\",\"linecolor\":\"white\",\"ticks\":\"\",\"title\":{\"standoff\":15},\"zerolinecolor\":\"white\",\"automargin\":true,\"zerolinewidth\":2},\"scene\":{\"xaxis\":{\"backgroundcolor\":\"#E5ECF6\",\"gridcolor\":\"white\",\"linecolor\":\"white\",\"showbackground\":true,\"ticks\":\"\",\"zerolinecolor\":\"white\",\"gridwidth\":2},\"yaxis\":{\"backgroundcolor\":\"#E5ECF6\",\"gridcolor\":\"white\",\"linecolor\":\"white\",\"showbackground\":true,\"ticks\":\"\",\"zerolinecolor\":\"white\",\"gridwidth\":2},\"zaxis\":{\"backgroundcolor\":\"#E5ECF6\",\"gridcolor\":\"white\",\"linecolor\":\"white\",\"showbackground\":true,\"ticks\":\"\",\"zerolinecolor\":\"white\",\"gridwidth\":2}},\"shapedefaults\":{\"line\":{\"color\":\"#2a3f5f\"}},\"annotationdefaults\":{\"arrowcolor\":\"#2a3f5f\",\"arrowhead\":0,\"arrowwidth\":1},\"geo\":{\"bgcolor\":\"white\",\"landcolor\":\"#E5ECF6\",\"subunitcolor\":\"white\",\"showland\":true,\"showlakes\":true,\"lakecolor\":\"white\"},\"title\":{\"x\":0.05},\"mapbox\":{\"style\":\"light\"}}},\"font\":{\"family\":\"Arial\",\"color\":\"#000000\"},\"title\":{\"font\":{\"color\":\"#000000\",\"size\":30},\"text\":\"Tasa de desempleo abierto urbano\"},\"xaxis\":{\"title\":{\"text\":\"Mes\",\"font\":{\"size\":20}},\"tickfont\":{\"size\":15}},\"yaxis\":{\"title\":{\"text\":\"En porcentaje\",\"font\":{\"size\":20}},\"tickfont\":{\"size\":18},\"linecolor\":\"#000000\",\"ticks\":\"outside\",\"nticks\":10,\"zeroline\":true,\"zerolinewidth\":1.5,\"zerolinecolor\":\"black\"},\"hoverlabel\":{\"font\":{\"size\":20,\"family\":\"Arial\"}},\"plot_bgcolor\":\"white\",\"separators\":\",\",\"hovermode\":\"x\"},                        {\"responsive\": true}                    ).then(function(){\n",
              "                            \n",
              "var gd = document.getElementById('5b89afa2-6886-48b2-a339-6175471ab0a5');\n",
              "var x = new MutationObserver(function (mutations, observer) {{\n",
              "        var display = window.getComputedStyle(gd).display;\n",
              "        if (!display || display === 'none') {{\n",
              "            console.log([gd, 'removed!']);\n",
              "            Plotly.purge(gd);\n",
              "            observer.disconnect();\n",
              "        }}\n",
              "}});\n",
              "\n",
              "// Listen for the removal of the full notebook cells\n",
              "var notebookContainer = gd.closest('#notebook-container');\n",
              "if (notebookContainer) {{\n",
              "    x.observe(notebookContainer, {childList: true});\n",
              "}}\n",
              "\n",
              "// Listen for the clearing of the current output cell\n",
              "var outputEl = gd.closest('.output');\n",
              "if (outputEl) {{\n",
              "    x.observe(outputEl, {childList: true});\n",
              "}}\n",
              "\n",
              "                        })                };                            </script>        </div>\n",
              "</body>\n",
              "</html>"
            ]
          },
          "metadata": {}
        }
      ]
    },
    {
      "cell_type": "code",
      "source": [],
      "metadata": {
        "id": "fvMuak_YFZOw"
      },
      "execution_count": null,
      "outputs": []
    },
    {
      "cell_type": "markdown",
      "source": [
        "## FIN"
      ],
      "metadata": {
        "id": "X9I4PksJ9gTB"
      }
    }
  ]
}